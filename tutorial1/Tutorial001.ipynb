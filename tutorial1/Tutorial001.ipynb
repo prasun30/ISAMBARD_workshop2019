{
 "cells": [
  {
   "cell_type": "markdown",
   "metadata": {},
   "source": [
    "# AMPAL and structural analysis\n",
    "\n",
    "Biomolecules in ISAMBARD are represented using the AMPAL (Atom, Monomer, Polymer, Assembly, Ligand) framework. This is a formal representation of biomolecules in a hierarchical structure of lightweight Python objects that enable you to navigate through the protein structure from the atomic level to the assembly level and vice versa. The image below shows the flow from the `Atom` to the `Assembly` level.\n",
    "![AMPAL_basic](imgs/AMPAL_basic.png)\n",
    "\n",
    "This tutorial demonstrates how AMPAL objects work, and introduces tools built into these objects for structural analysis and validation."
   ]
  },
  {
   "cell_type": "markdown",
   "metadata": {},
   "source": [
    "# 1. Importing a structure into the AMPAL framework\n",
    "Firstly, import isambard into the Python environment, then load in one of the structure files provided, `3UEJ.pdb`. We'll use `nglview` to view the protein along the way so you have a visual check of what you're working with."
   ]
  },
  {
   "cell_type": "code",
   "execution_count": 1,
   "metadata": {},
   "outputs": [
    {
     "data": {
      "application/vnd.jupyter.widget-view+json": {
       "model_id": "2317e69d5ab04b65bfdefa64ebddbee4",
       "version_major": 2,
       "version_minor": 0
      },
      "text/plain": [
       "_ColormakerRegistry()"
      ]
     },
     "metadata": {},
     "output_type": "display_data"
    }
   ],
   "source": [
    "import isambard\n",
    "import nglview as nv\n",
    "from pprint import pprint\n",
    "import ampal"
   ]
  },
  {
   "cell_type": "code",
   "execution_count": 2,
   "metadata": {},
   "outputs": [],
   "source": [
    "my_pdb = ampal.load_pdb(\"pdbs/3UEJ.pdb\")"
   ]
  },
  {
   "cell_type": "markdown",
   "metadata": {},
   "source": [
    "Have a look at what you've got:"
   ]
  },
  {
   "cell_type": "code",
   "execution_count": 3,
   "metadata": {},
   "outputs": [
    {
     "data": {
      "text/plain": [
       "<Assembly (3UEJ) containing 2 Polypeptides, 230 Ligands>"
      ]
     },
     "execution_count": 3,
     "metadata": {},
     "output_type": "execute_result"
    }
   ],
   "source": [
    "my_pdb"
   ]
  },
  {
   "cell_type": "markdown",
   "metadata": {},
   "source": [
    "The `.pdb` attribute lets you access the PDB formatted structure as a string. We can view this with NGLView by defining two simple functions:"
   ]
  },
  {
   "cell_type": "code",
   "execution_count": 4,
   "metadata": {},
   "outputs": [],
   "source": [
    "def show_ball_and_stick(ampal):\n",
    "    view = nv.show_text(ampal.pdb)\n",
    "    view.add_ball_and_stick()\n",
    "    view.remove_cartoon()\n",
    "    return view"
   ]
  },
  {
   "cell_type": "code",
   "execution_count": 5,
   "metadata": {},
   "outputs": [],
   "source": [
    "def show_cartoon(ampal):\n",
    "    view = nv.show_text(ampal.pdb)\n",
    "    return view"
   ]
  },
  {
   "cell_type": "code",
   "execution_count": 6,
   "metadata": {},
   "outputs": [
    {
     "data": {
      "application/vnd.jupyter.widget-view+json": {
       "model_id": "c41555191ad345b1a2ffe51548e38c68",
       "version_major": 2,
       "version_minor": 0
      },
      "text/plain": [
       "NGLWidget()"
      ]
     },
     "metadata": {},
     "output_type": "display_data"
    }
   ],
   "source": [
    "show_ball_and_stick(my_pdb)"
   ]
  },
  {
   "cell_type": "markdown",
   "metadata": {},
   "source": [
    "This structure contains two `Polypeptide` chains, and 230 `Ligand` objects (water, zinc and phosphate). We'll worry about the Ligand objects later, let's focus on the `Polypeptide` for now). Individual `Polypeptide`s are accessed by means of a list index:"
   ]
  },
  {
   "cell_type": "code",
   "execution_count": 7,
   "metadata": {},
   "outputs": [
    {
     "data": {
      "text/plain": [
       "<Polypeptide containing 65 Residues. Sequence: GSRRASVGSHRF...>"
      ]
     },
     "execution_count": 7,
     "metadata": {},
     "output_type": "execute_result"
    }
   ],
   "source": [
    "my_pdb[0] # the first polypeptide in the assembly"
   ]
  },
  {
   "cell_type": "markdown",
   "metadata": {},
   "source": [
    ".... or by using a chain identifier as a string:"
   ]
  },
  {
   "cell_type": "code",
   "execution_count": 8,
   "metadata": {},
   "outputs": [],
   "source": [
    "my_polypeptide = my_pdb['A']"
   ]
  },
  {
   "cell_type": "markdown",
   "metadata": {},
   "source": [
    "The chain identifier can be accessed via the `.id` attribute"
   ]
  },
  {
   "cell_type": "code",
   "execution_count": 9,
   "metadata": {},
   "outputs": [
    {
     "data": {
      "text/plain": [
       "'A'"
      ]
     },
     "execution_count": 9,
     "metadata": {},
     "output_type": "execute_result"
    }
   ],
   "source": [
    "my_polypeptide.id"
   ]
  },
  {
   "cell_type": "code",
   "execution_count": 10,
   "metadata": {},
   "outputs": [
    {
     "data": {
      "application/vnd.jupyter.widget-view+json": {
       "model_id": "7afc74c5f02543aa97a3106246f9d1af",
       "version_major": 2,
       "version_minor": 0
      },
      "text/plain": [
       "NGLWidget()"
      ]
     },
     "metadata": {},
     "output_type": "display_data"
    }
   ],
   "source": [
    "show_ball_and_stick(my_polypeptide)"
   ]
  },
  {
   "cell_type": "markdown",
   "metadata": {},
   "source": [
    "## Navigating the AMPAL hierarchy\n",
    "You can get back to the `Assembly` object via the `.parent` attribute"
   ]
  },
  {
   "cell_type": "code",
   "execution_count": 11,
   "metadata": {},
   "outputs": [
    {
     "data": {
      "text/plain": [
       "<Assembly (3UEJ) containing 2 Polypeptides, 230 Ligands>"
      ]
     },
     "execution_count": 11,
     "metadata": {},
     "output_type": "execute_result"
    }
   ],
   "source": [
    "my_polypeptide.parent"
   ]
  },
  {
   "cell_type": "markdown",
   "metadata": {},
   "source": [
    "You can get a list of individual residues via the `.get_monomers()` method. This returns a Python iterator object, but if you're not comfortable using these you can move straight to a list."
   ]
  },
  {
   "cell_type": "code",
   "execution_count": 12,
   "metadata": {},
   "outputs": [],
   "source": [
    "my_residues = list(my_polypeptide.get_monomers())"
   ]
  },
  {
   "cell_type": "markdown",
   "metadata": {},
   "source": [
    "Individual residues can be accessed from this list via index"
   ]
  },
  {
   "cell_type": "code",
   "execution_count": 13,
   "metadata": {},
   "outputs": [
    {
     "data": {
      "text/plain": [
       "<Residue containing 4 Atoms. Residue code: GLY>"
      ]
     },
     "execution_count": 13,
     "metadata": {},
     "output_type": "execute_result"
    }
   ],
   "source": [
    "my_residues[0]"
   ]
  },
  {
   "cell_type": "markdown",
   "metadata": {},
   "source": [
    "Alternatively, you can get a residue via its index or via PDB number directly from the polypeptide object:"
   ]
  },
  {
   "cell_type": "code",
   "execution_count": 14,
   "metadata": {},
   "outputs": [
    {
     "data": {
      "text/plain": [
       "<Residue containing 4 Atoms. Residue code: GLY>"
      ]
     },
     "execution_count": 14,
     "metadata": {},
     "output_type": "execute_result"
    }
   ],
   "source": [
    "my_polypeptide[0] # The first residue in the polypeptide"
   ]
  },
  {
   "cell_type": "code",
   "execution_count": 15,
   "metadata": {},
   "outputs": [
    {
     "data": {
      "text/plain": [
       "<Residue containing 4 Atoms. Residue code: GLY>"
      ]
     },
     "execution_count": 15,
     "metadata": {},
     "output_type": "execute_result"
    }
   ],
   "source": [
    "my_polypeptide['222'] # The residue numbered 222 in the PDB file (also, the first residue!)"
   ]
  },
  {
   "cell_type": "code",
   "execution_count": 16,
   "metadata": {},
   "outputs": [],
   "source": [
    "my_residue = my_polypeptide['222']"
   ]
  },
  {
   "cell_type": "markdown",
   "metadata": {},
   "source": [
    "You can find more information about the residue using the `.mol_code`, `mol_letter` and `.id` attributes"
   ]
  },
  {
   "cell_type": "code",
   "execution_count": 17,
   "metadata": {},
   "outputs": [
    {
     "data": {
      "text/plain": [
       "'GLY'"
      ]
     },
     "execution_count": 17,
     "metadata": {},
     "output_type": "execute_result"
    }
   ],
   "source": [
    "my_residue.mol_code"
   ]
  },
  {
   "cell_type": "code",
   "execution_count": 18,
   "metadata": {},
   "outputs": [
    {
     "data": {
      "text/plain": [
       "'G'"
      ]
     },
     "execution_count": 18,
     "metadata": {},
     "output_type": "execute_result"
    }
   ],
   "source": [
    "my_residue.mol_letter"
   ]
  },
  {
   "cell_type": "code",
   "execution_count": 19,
   "metadata": {},
   "outputs": [
    {
     "data": {
      "text/plain": [
       "'222'"
      ]
     },
     "execution_count": 19,
     "metadata": {},
     "output_type": "execute_result"
    }
   ],
   "source": [
    "my_residue.id"
   ]
  },
  {
   "cell_type": "markdown",
   "metadata": {},
   "source": [
    "You can get an ordered dictionary of atoms via the `.get_atoms()` method:"
   ]
  },
  {
   "cell_type": "code",
   "execution_count": 20,
   "metadata": {},
   "outputs": [
    {
     "data": {
      "text/plain": [
       "odict_values([<Nitrogen Atom (N). Coordinates: (16.512, 30.469, 13.471)>, <Carbon Atom (CA). Coordinates: (15.497, 29.875, 12.623)>, <Carbon Atom (C). Coordinates: (15.859, 28.430, 12.376)>, <Oxygen Atom (O). Coordinates: (16.965, 28.003, 12.672)>])"
      ]
     },
     "execution_count": 20,
     "metadata": {},
     "output_type": "execute_result"
    }
   ],
   "source": [
    "my_residue.get_atoms()"
   ]
  },
  {
   "cell_type": "markdown",
   "metadata": {},
   "source": [
    "or you can access an atom directly by a dictionary look-up:"
   ]
  },
  {
   "cell_type": "code",
   "execution_count": 21,
   "metadata": {},
   "outputs": [
    {
     "data": {
      "text/plain": [
       "<Carbon Atom (CA). Coordinates: (15.497, 29.875, 12.623)>"
      ]
     },
     "execution_count": 21,
     "metadata": {},
     "output_type": "execute_result"
    }
   ],
   "source": [
    "my_residue['CA']"
   ]
  },
  {
   "cell_type": "markdown",
   "metadata": {},
   "source": [
    "and its coordinates via the `.x`, `.y` and `.z` attributes"
   ]
  },
  {
   "cell_type": "code",
   "execution_count": 22,
   "metadata": {},
   "outputs": [
    {
     "name": "stdout",
     "output_type": "stream",
     "text": [
      "15.497 29.875 12.623\n"
     ]
    }
   ],
   "source": [
    "print (my_residue['CA'].x, my_residue['CA'].y, my_residue['CA'].z)"
   ]
  },
  {
   "cell_type": "markdown",
   "metadata": {},
   "source": [
    "You can get back to the `Residue`, `Polypeptide` and `Assembly` objects using `.parent`:"
   ]
  },
  {
   "cell_type": "code",
   "execution_count": 23,
   "metadata": {},
   "outputs": [],
   "source": [
    "my_atom = my_residue['CA']"
   ]
  },
  {
   "cell_type": "code",
   "execution_count": 24,
   "metadata": {},
   "outputs": [
    {
     "data": {
      "text/plain": [
       "<Residue containing 4 Atoms. Residue code: GLY>"
      ]
     },
     "execution_count": 24,
     "metadata": {},
     "output_type": "execute_result"
    }
   ],
   "source": [
    "my_atom.parent"
   ]
  },
  {
   "cell_type": "code",
   "execution_count": 25,
   "metadata": {},
   "outputs": [
    {
     "data": {
      "text/plain": [
       "<Polypeptide containing 65 Residues. Sequence: GSRRASVGSHRF...>"
      ]
     },
     "execution_count": 25,
     "metadata": {},
     "output_type": "execute_result"
    }
   ],
   "source": [
    "my_atom.parent.parent"
   ]
  },
  {
   "cell_type": "code",
   "execution_count": 26,
   "metadata": {},
   "outputs": [
    {
     "data": {
      "text/plain": [
       "<Assembly (3UEJ) containing 2 Polypeptides, 230 Ligands>"
      ]
     },
     "execution_count": 26,
     "metadata": {},
     "output_type": "execute_result"
    }
   ],
   "source": [
    "my_atom.parent.parent.parent"
   ]
  },
  {
   "cell_type": "markdown",
   "metadata": {},
   "source": [
    "And you can go from the `Assembly` level right down to the `Atom` level in one step:"
   ]
  },
  {
   "cell_type": "code",
   "execution_count": 27,
   "metadata": {},
   "outputs": [
    {
     "data": {
      "text/plain": [
       "<Carbon Atom (CA). Coordinates: (15.497, 29.875, 12.623)>"
      ]
     },
     "execution_count": 27,
     "metadata": {},
     "output_type": "execute_result"
    }
   ],
   "source": [
    "my_pdb['A']['222']['CA']"
   ]
  },
  {
   "cell_type": "markdown",
   "metadata": {},
   "source": [
    "## Selections and tagging"
   ]
  },
  {
   "cell_type": "markdown",
   "metadata": {},
   "source": [
    "The polypeptide sequence can be accessed via the `.sequence` attribute"
   ]
  },
  {
   "cell_type": "code",
   "execution_count": 28,
   "metadata": {},
   "outputs": [
    {
     "data": {
      "text/plain": [
       "'GSRRASVGSHRFKVYNYMSPTFCDHCGSLLWGLVKQGLKCEDCGMNVHHKCREKVANLCEFIVTD'"
      ]
     },
     "execution_count": 28,
     "metadata": {},
     "output_type": "execute_result"
    }
   ],
   "source": [
    "my_polypeptide.sequence"
   ]
  },
  {
   "cell_type": "markdown",
   "metadata": {},
   "source": [
    "You can select a region of structure by two methods:\n",
    "* via the residue index (from the 0th to the nth residue in the polypeptide)\n",
    "* via the PDB residue numbering - in this structure the residues start at 222"
   ]
  },
  {
   "cell_type": "markdown",
   "metadata": {},
   "source": [
    "via residue index:"
   ]
  },
  {
   "cell_type": "code",
   "execution_count": 29,
   "metadata": {},
   "outputs": [],
   "source": [
    "my_selection = my_polypeptide[0:15]"
   ]
  },
  {
   "cell_type": "code",
   "execution_count": 30,
   "metadata": {},
   "outputs": [
    {
     "data": {
      "text/plain": [
       "<Polypeptide containing 15 Residues. Sequence: GSRRASVGSHRFKVY>"
      ]
     },
     "execution_count": 30,
     "metadata": {},
     "output_type": "execute_result"
    }
   ],
   "source": [
    "my_selection"
   ]
  },
  {
   "cell_type": "markdown",
   "metadata": {},
   "source": [
    "via PDB residue numbering using `.get_slice_from_res_id('start id','end id')`:"
   ]
  },
  {
   "cell_type": "code",
   "execution_count": 31,
   "metadata": {},
   "outputs": [],
   "source": [
    "my_other_selection = my_polypeptide.get_slice_from_res_id('240','260')"
   ]
  },
  {
   "cell_type": "code",
   "execution_count": 32,
   "metadata": {},
   "outputs": [
    {
     "data": {
      "text/plain": [
       "<Polypeptide containing 21 Residues. Sequence: SPTFCDHCGSLL...>"
      ]
     },
     "execution_count": 32,
     "metadata": {},
     "output_type": "execute_result"
    }
   ],
   "source": [
    "my_other_selection"
   ]
  },
  {
   "cell_type": "markdown",
   "metadata": {},
   "source": [
    "Let's view these in nglview:"
   ]
  },
  {
   "cell_type": "code",
   "execution_count": 33,
   "metadata": {},
   "outputs": [
    {
     "data": {
      "application/vnd.jupyter.widget-view+json": {
       "model_id": "2938637dc071479395277e7c800ba361",
       "version_major": 2,
       "version_minor": 0
      },
      "text/plain": [
       "NGLWidget()"
      ]
     },
     "metadata": {},
     "output_type": "display_data"
    }
   ],
   "source": [
    "show_ball_and_stick(my_other_selection)"
   ]
  },
  {
   "cell_type": "markdown",
   "metadata": {},
   "source": [
    "### Select on the basis of secondary structure\n",
    "This runs DSSP automatically and assigns secondary structure. You can then use the `isambard.ampal.dssp.get_ss_regions`  to access helices and strands, which are returned as `Assembly` objects."
   ]
  },
  {
   "cell_type": "code",
   "execution_count": 52,
   "metadata": {},
   "outputs": [],
   "source": [
    "isambard.ampal.dssp.tag_dssp_data(my_pdb)"
   ]
  },
  {
   "cell_type": "code",
   "execution_count": 53,
   "metadata": {},
   "outputs": [],
   "source": [
    "helices=isambard.ampal.dssp.get_ss_regions(my_pdb,['H'])\n",
    "strands=isambard.ampal.dssp.get_ss_regions(my_pdb,['E'])"
   ]
  },
  {
   "cell_type": "code",
   "execution_count": 54,
   "metadata": {},
   "outputs": [
    {
     "data": {
      "text/plain": [
       "(['HKCR', 'HKCR', 'HKCR', 'HKCR', 'HKCR'],\n",
       " ['ASVGS',\n",
       "  'FKVY',\n",
       "  'GLKC',\n",
       "  'NV',\n",
       "  'LCEFI',\n",
       "  'ASVGS',\n",
       "  'FKVY',\n",
       "  'GLKC',\n",
       "  'NV',\n",
       "  'LCEFI',\n",
       "  'ASVGS',\n",
       "  'FKVY',\n",
       "  'GLKC',\n",
       "  'NV',\n",
       "  'LCEFI',\n",
       "  'ASVGS',\n",
       "  'FKVY',\n",
       "  'GLKC',\n",
       "  'NV',\n",
       "  'LCEFI',\n",
       "  'ASVGS',\n",
       "  'FKVY',\n",
       "  'GLKC',\n",
       "  'NV',\n",
       "  'LCEFI',\n",
       "  'ASVGS',\n",
       "  'FKVY',\n",
       "  'GLKC',\n",
       "  'NV',\n",
       "  'LCEFI',\n",
       "  'ASVGS',\n",
       "  'FKVY',\n",
       "  'GLKC',\n",
       "  'NV',\n",
       "  'LCEFI',\n",
       "  'ASVGS',\n",
       "  'FKVY',\n",
       "  'GLKC',\n",
       "  'NV',\n",
       "  'LCEFI',\n",
       "  'ASVGS',\n",
       "  'FKVY',\n",
       "  'GLKC',\n",
       "  'NV',\n",
       "  'LCEFI',\n",
       "  'ASVGS',\n",
       "  'FKVY',\n",
       "  'GLKC',\n",
       "  'NV',\n",
       "  'LCEFI'])"
      ]
     },
     "execution_count": 54,
     "metadata": {},
     "output_type": "execute_result"
    }
   ],
   "source": [
    "helices.sequences, strands.sequences"
   ]
  },
  {
   "cell_type": "code",
   "execution_count": 64,
   "metadata": {},
   "outputs": [
    {
     "data": {
      "text/plain": [
       "'ASVGS'"
      ]
     },
     "execution_count": 64,
     "metadata": {},
     "output_type": "execute_result"
    }
   ],
   "source": [
    "strands[0].sequence"
   ]
  },
  {
   "cell_type": "code",
   "execution_count": 59,
   "metadata": {},
   "outputs": [
    {
     "data": {
      "application/vnd.jupyter.widget-view+json": {
       "model_id": "6aa6af5c7ea1481c96f17f466641facf",
       "version_major": 2,
       "version_minor": 0
      },
      "text/plain": [
       "NGLWidget()"
      ]
     },
     "metadata": {},
     "output_type": "display_data"
    }
   ],
   "source": [
    "show_cartoon(strands)"
   ]
  },
  {
   "cell_type": "markdown",
   "metadata": {},
   "source": [
    "### Tagging\n",
    "Once the secondary structure is assigned, each residue is 'tagged' with its secondary structure. Each level in the AMPAL hierarchy has a dictionary attached to it called 'tags', accessed via the `.tags` attribute. When `isambard.ampal.dssp.get_ss_regions` is called, each `Residue` in the AMPAL object is tagged with its secondary structure. The following code prints the tags of the first strand residue:"
   ]
  },
  {
   "cell_type": "code",
   "execution_count": 60,
   "metadata": {},
   "outputs": [
    {
     "data": {
      "text/plain": [
       "{'dssp_data': {'ss_definition': 'E',\n",
       "  'solvent_accessibility': 41,\n",
       "  'phi': -120.4,\n",
       "  'psi': 145.8}}"
      ]
     },
     "execution_count": 60,
     "metadata": {},
     "output_type": "execute_result"
    }
   ],
   "source": [
    "strands[0][0].tags"
   ]
  },
  {
   "cell_type": "markdown",
   "metadata": {},
   "source": [
    "Or, the secondary structure tags of all the residues in the selection we made earlier:"
   ]
  },
  {
   "cell_type": "code",
   "execution_count": 63,
   "metadata": {},
   "outputs": [
    {
     "name": "stdout",
     "output_type": "stream",
     "text": [
      "[' ', ' ', ' ', ' ', 'E', 'E', 'E', 'E', 'E', ' ', ' ', 'E', 'E', 'E', 'E']\n"
     ]
    }
   ],
   "source": [
    "pprint ([x.tags['dssp_data']['ss_definition'] for x in my_selection.get_monomers()])"
   ]
  },
  {
   "cell_type": "markdown",
   "metadata": {},
   "source": [
    "There are several direct methods for tagging:\n",
    "\n",
    "* `.tag_ca_geometry()` \n",
    "* `.tag_dssp_data()`\n",
    "* `.tag_sidechain_dihedrals()`\n",
    "* `.tag_torsion_angles()`\n",
    "\n",
    "> ### Note\n",
    "> Don't forget that you can see information on specific functions/classes in a number of ways:\n",
    "> 1. Check the [API documentation](https://woolfson-group.github.io/isambard/api_reference.html)\n",
    "> 1. Take a look at the [source code](https://github.com/woolfson-group/isambard/tree/master/isambard)\n",
    "> 1. Shift+Tab inside the round brackets if you're using Jupyter Notebook\n",
    "> 1. Use the Python `help` function e.g. `help(isambard.ampal.convert_pdb_to_ampal)`"
   ]
  },
  {
   "cell_type": "markdown",
   "metadata": {},
   "source": [
    "### A rudimentary Ramachandran plot:"
   ]
  },
  {
   "cell_type": "code",
   "execution_count": 40,
   "metadata": {},
   "outputs": [],
   "source": [
    "my_polypeptide.tag_torsion_angles()"
   ]
  },
  {
   "cell_type": "code",
   "execution_count": 41,
   "metadata": {},
   "outputs": [],
   "source": [
    "phi = [x.tags['phi'] for x in my_polypeptide]\n",
    "psi = [x.tags['psi'] for x in my_polypeptide]    "
   ]
  },
  {
   "cell_type": "code",
   "execution_count": 42,
   "metadata": {},
   "outputs": [],
   "source": [
    "import matplotlib.pyplot as plt\n",
    "%matplotlib inline"
   ]
  },
  {
   "cell_type": "code",
   "execution_count": 43,
   "metadata": {},
   "outputs": [
    {
     "data": {
      "image/png": "[encoded data removed]",
      "text/plain": [
       "<Figure size 432x288 with 1 Axes>"
      ]
     },
     "metadata": {
      "needs_background": "light"
     },
     "output_type": "display_data"
    }
   ],
   "source": [
    "plt.axhline(0, color='black', linewidth=1)\n",
    "plt.axvline(0, color='black', linewidth=1)\n",
    "plt.scatter(phi,psi)\n",
    "plt.xlabel(\"Phi\")\n",
    "plt.ylabel(\"Psi\")\n",
    "plt.xlim(-180, 180)\n",
    "plt.ylim(-180, 180)\n",
    "None"
   ]
  },
  {
   "cell_type": "markdown",
   "metadata": {},
   "source": [
    "You can use your own tags:"
   ]
  },
  {
   "cell_type": "code",
   "execution_count": 44,
   "metadata": {},
   "outputs": [],
   "source": [
    "for x in my_selection:\n",
    "    x.tags['my_tag'] = 'My Value'"
   ]
  },
  {
   "cell_type": "code",
   "execution_count": 45,
   "metadata": {},
   "outputs": [
    {
     "name": "stdout",
     "output_type": "stream",
     "text": [
      "['My Value', 'My Value', 'My Value', 'My Value', 'My Value', 'My Value', 'My Value', 'My Value', 'My Value', 'My Value', 'My Value', 'My Value', 'My Value', 'My Value', 'My Value']\n"
     ]
    }
   ],
   "source": [
    "print ([x.tags['my_tag'] for x in my_selection])"
   ]
  },
  {
   "cell_type": "markdown",
   "metadata": {},
   "source": [
    "## Dealing with ligands\n",
    "Ligands can be accessed via the `.ligands` attribute at the `Polypeptide` level, or the `.get_ligands()` method at the `Assembly` level. We'll just work with the `Polypeptide`."
   ]
  },
  {
   "cell_type": "code",
   "execution_count": 46,
   "metadata": {},
   "outputs": [],
   "source": [
    "my_ligands = my_polypeptide.ligands"
   ]
  },
  {
   "cell_type": "code",
   "execution_count": 47,
   "metadata": {},
   "outputs": [
    {
     "name": "stdout",
     "output_type": "stream",
     "text": [
      "['ZN',\n",
      " 'ZN',\n",
      " 'PO4',\n",
      " 'PO4',\n",
      " 'HOH',\n",
      " 'HOH',\n",
      " 'HOH',\n",
      " 'HOH',\n",
      " 'HOH',\n",
      " 'HOH',\n",
      " 'HOH',\n",
      " 'HOH',\n",
      " 'HOH',\n",
      " 'HOH',\n",
      " 'HOH',\n",
      " 'HOH',\n",
      " 'HOH',\n",
      " 'HOH',\n",
      " 'HOH',\n",
      " 'HOH',\n",
      " 'HOH',\n",
      " 'HOH',\n",
      " 'HOH',\n",
      " 'HOH',\n",
      " 'HOH',\n",
      " 'HOH',\n",
      " 'HOH',\n",
      " 'HOH',\n",
      " 'HOH',\n",
      " 'HOH',\n",
      " 'HOH',\n",
      " 'HOH',\n",
      " 'HOH',\n",
      " 'HOH',\n",
      " 'HOH',\n",
      " 'HOH',\n",
      " 'HOH',\n",
      " 'HOH',\n",
      " 'HOH',\n",
      " 'HOH',\n",
      " 'HOH',\n",
      " 'HOH',\n",
      " 'HOH',\n",
      " 'HOH',\n",
      " 'HOH',\n",
      " 'HOH',\n",
      " 'HOH',\n",
      " 'HOH',\n",
      " 'HOH',\n",
      " 'HOH',\n",
      " 'HOH',\n",
      " 'HOH',\n",
      " 'HOH',\n",
      " 'HOH',\n",
      " 'HOH',\n",
      " 'HOH',\n",
      " 'HOH',\n",
      " 'HOH',\n",
      " 'HOH',\n",
      " 'HOH',\n",
      " 'HOH',\n",
      " 'HOH',\n",
      " 'HOH',\n",
      " 'HOH',\n",
      " 'HOH',\n",
      " 'HOH',\n",
      " 'HOH',\n",
      " 'HOH',\n",
      " 'HOH',\n",
      " 'HOH',\n",
      " 'HOH',\n",
      " 'HOH',\n",
      " 'HOH',\n",
      " 'HOH',\n",
      " 'HOH',\n",
      " 'HOH',\n",
      " 'HOH',\n",
      " 'HOH',\n",
      " 'HOH',\n",
      " 'HOH',\n",
      " 'HOH',\n",
      " 'HOH',\n",
      " 'HOH',\n",
      " 'HOH',\n",
      " 'HOH',\n",
      " 'HOH',\n",
      " 'HOH',\n",
      " 'HOH',\n",
      " 'HOH',\n",
      " 'HOH',\n",
      " 'HOH',\n",
      " 'HOH',\n",
      " 'HOH',\n",
      " 'HOH',\n",
      " 'HOH',\n",
      " 'HOH',\n",
      " 'HOH',\n",
      " 'HOH',\n",
      " 'HOH',\n",
      " 'HOH',\n",
      " 'HOH',\n",
      " 'HOH',\n",
      " 'HOH',\n",
      " 'HOH',\n",
      " 'HOH',\n",
      " 'HOH',\n",
      " 'HOH',\n",
      " 'HOH',\n",
      " 'HOH',\n",
      " 'HOH',\n",
      " 'HOH',\n",
      " 'HOH',\n",
      " 'HOH',\n",
      " 'HOH',\n",
      " 'HOH',\n",
      " 'HOH',\n",
      " 'HOH',\n",
      " 'HOH',\n",
      " 'HOH',\n",
      " 'HOH',\n",
      " 'HOH',\n",
      " 'HOH']\n"
     ]
    }
   ],
   "source": [
    "pprint ([x.mol_code for x in my_ligands])"
   ]
  },
  {
   "cell_type": "markdown",
   "metadata": {},
   "source": [
    "As you can see, most of these are for water, but there are two zinc atoms which are of interest."
   ]
  },
  {
   "cell_type": "code",
   "execution_count": 48,
   "metadata": {},
   "outputs": [],
   "source": [
    "my_zinc1 = my_ligands[0]"
   ]
  },
  {
   "cell_type": "code",
   "execution_count": 49,
   "metadata": {},
   "outputs": [
    {
     "data": {
      "text/plain": [
       "<Ligand containing 1 Atom. Ligand code: ZN>"
      ]
     },
     "execution_count": 49,
     "metadata": {},
     "output_type": "execute_result"
    }
   ],
   "source": [
    "my_zinc1"
   ]
  },
  {
   "cell_type": "markdown",
   "metadata": {},
   "source": [
    "We can look at the environment surrounding the zinc ions at a defined distance cutoff:"
   ]
  },
  {
   "cell_type": "code",
   "execution_count": 50,
   "metadata": {},
   "outputs": [
    {
     "data": {
      "text/plain": [
       "[<Residue containing 6 Atoms. Residue code: CYS>,\n",
       " <Residue containing 6 Atoms. Residue code: CYS>,\n",
       " <Residue containing 10 Atoms. Residue code: HIS>,\n",
       " <Residue containing 6 Atoms. Residue code: CYS>,\n",
       " <Ligand containing 1 Atom. Ligand code: ZN>]"
      ]
     },
     "execution_count": 50,
     "metadata": {},
     "output_type": "execute_result"
    }
   ],
   "source": [
    "my_zinc1.close_monomers(my_pdb, cutoff=4.0)"
   ]
  },
  {
   "cell_type": "markdown",
   "metadata": {},
   "source": [
    "### To view these in NGLView, we need to make a dummy `Assembly` object for isambard:"
   ]
  },
  {
   "cell_type": "code",
   "execution_count": 51,
   "metadata": {},
   "outputs": [],
   "source": [
    "my_zinc_env = my_zinc1.close_monomers(my_pdb, cutoff=4.0)"
   ]
  },
  {
   "cell_type": "code",
   "execution_count": 52,
   "metadata": {},
   "outputs": [],
   "source": [
    "my_zinc_assembly = isambard.ampal.Assembly()\n",
    "for x in my_zinc_env:\n",
    "    my_zinc_assembly.append(isambard.ampal.Polymer(x))"
   ]
  },
  {
   "cell_type": "code",
   "execution_count": 53,
   "metadata": {},
   "outputs": [
    {
     "data": {
      "application/vnd.jupyter.widget-view+json": {
       "model_id": "65f2dd3e49de4679b79c5b9b679b6078",
       "version_major": 2,
       "version_minor": 0
      },
      "text/plain": [
       "NGLWidget()"
      ]
     },
     "metadata": {},
     "output_type": "display_data"
    }
   ],
   "source": [
    "show_ball_and_stick(my_zinc_assembly)"
   ]
  },
  {
   "cell_type": "markdown",
   "metadata": {},
   "source": [
    "## Scaling it up\n",
    "All this is very well, but nothing you can't do in PyMOL or similar with ease and a few clicks. We are now going to work with a much larger set of structures taken from the PDB to do some analysis - something which is harder to do over a large set of structures in a GUI-style environment."
   ]
  },
  {
   "cell_type": "markdown",
   "metadata": {},
   "source": [
    "### RCSB (`http://rcsb.org`) query:\n",
    "\n",
    "We queried the RCSB to get a set of x-ray crystal structures of proteins with zinc ligands. This returned 84 structures which are included as part of the tutorial, along with one NMR structure we added to demonstrate the `AmpalContainer` class. The RCSB PDB query is below if you would like to repeat it.\n",
    "\n",
    "_`Ligand Search` : Has free ligands=yes and Chemical Name: Name Contains zinc and Polymeric type is Any and Sequence Length is between 40 and 100 and Holdings : Molecule Type=protein Experimental Method=X-RAY and Resolution is 1.499 or less_ \n",
    "\n",
    "* returned 84 structures + one added NMR structure\n",
    "* all files in a list called `pdb_list` in your working directory"
   ]
  },
  {
   "cell_type": "markdown",
   "metadata": {},
   "source": [
    "### Read in the list and get all structures into the Ampal framework"
   ]
  },
  {
   "cell_type": "code",
   "execution_count": 65,
   "metadata": {},
   "outputs": [],
   "source": [
    "with open('pdb_list','r') as in_list:\n",
    "    structures = [x.rstrip() for x in in_list.readlines()]"
   ]
  },
  {
   "cell_type": "code",
   "execution_count": 66,
   "metadata": {},
   "outputs": [],
   "source": [
    "my_structures = []\n",
    "for s in structures:\n",
    "    try:\n",
    "        m = ampal.load_pdb(s)\n",
    "        my_structures.append(m)\n",
    "    except:\n",
    "        FileNotFoundError()"
   ]
  },
  {
   "cell_type": "markdown",
   "metadata": {},
   "source": [
    "## AmpalContainer\n",
    "AmpalContainer is one level above an Assembly, and allows for multiple-model structures such as NMR ensembles. Use the code below to find which of the structures is the multi-model NMR structure. We'll just take the first model for this structure.\n",
    "![AMPAL_Container](imgs/AMPAL_inheritance_incl_ampal_container.png)"
   ]
  },
  {
   "cell_type": "code",
   "execution_count": 67,
   "metadata": {},
   "outputs": [
    {
     "name": "stdout",
     "output_type": "stream",
     "text": [
      "5N7Y is the NMR structure\n",
      "Taking 1st model only\n"
     ]
    }
   ],
   "source": [
    "my_ampal_structures = []\n",
    "for m in my_structures:\n",
    "    if isinstance(m,isambard.ampal.AmpalContainer):\n",
    "        print(\"{} is the NMR structure\".format(m.id))\n",
    "        print(\"Taking 1st model only\")\n",
    "        first_structure = m[0]\n",
    "        my_ampal_structures.append(first_structure)\n",
    "    else:\n",
    "        my_ampal_structures.append(m)"
   ]
  },
  {
   "cell_type": "markdown",
   "metadata": {},
   "source": [
    "Now let's write some code to identify where the zinc ions are in each structure, and pull out their environment."
   ]
  },
  {
   "cell_type": "code",
   "execution_count": 68,
   "metadata": {},
   "outputs": [
    {
     "name": "stdout",
     "output_type": "stream",
     "text": [
      "Examining 1CY5\n",
      "1CY5 ZN here\n",
      "1CY5 ZN here\n",
      "1CY5 ZN here\n",
      "1CY5 ZN here\n",
      "1CY5 ZN here\n",
      "Examining 1I27\n",
      "1I27 ZN here\n",
      "Examining 1IRN\n",
      "1IRN ZN here\n",
      "Examining 1L0I\n",
      "1L0I ZN here\n",
      "1L0I ZN here\n",
      "1L0I ZN here\n",
      "1L0I ZN here\n",
      "1L0I ZN here\n",
      "1L0I ZN here\n",
      "1L0I ZN here\n",
      "Examining 1Q7L\n",
      "1Q7L ZN here\n",
      "1Q7L ZN here\n",
      "1Q7L ZN here\n",
      "1Q7L ZN here\n",
      "Examining 1QX2\n",
      "1QX2 ZN here\n",
      "1QX2 ZN here\n",
      "Examining 1RYQ\n",
      "1RYQ ZN here\n",
      "Examining 1T8K\n",
      "1T8K ZN here\n",
      "1T8K ZN here\n",
      "1T8K ZN here\n",
      "1T8K ZN here\n",
      "1T8K ZN here\n",
      "1T8K ZN here\n",
      "1T8K ZN here\n",
      "1T8K ZN here\n",
      "1T8K ZN here\n",
      "1T8K ZN here\n",
      "Examining 1VFY\n",
      "1VFY ZN here\n",
      "1VFY ZN here\n",
      "Examining 2CB8\n",
      "2CB8 ZN here\n",
      "2CB8 ZN here\n",
      "2CB8 ZN here\n",
      "2CB8 ZN here\n",
      "2CB8 ZN here\n",
      "2CB8 ZN here\n",
      "2CB8 ZN here\n",
      "2CB8 ZN here\n",
      "Examining 2CS7\n",
      "2CS7 ZN here\n",
      "2CS7 ZN here\n",
      "2CS7 ZN here\n",
      "Examining 2EHS\n",
      "2EHS ZN here\n",
      "2EHS ZN here\n",
      "2EHS ZN here\n",
      "2EHS ZN here\n",
      "2EHS ZN here\n",
      "2EHS ZN here\n",
      "2EHS ZN here\n",
      "Examining 2EHT\n",
      "2EHT ZN here\n",
      "2EHT ZN here\n",
      "2EHT ZN here\n",
      "2EHT ZN here\n",
      "2EHT ZN here\n",
      "2EHT ZN here\n",
      "2EHT ZN here\n",
      "Examining 2HBA\n",
      "2HBA ZN here\n",
      "2HBA ZN here\n",
      "2HBA ZN here\n",
      "2HBA ZN here\n",
      "2HBA ZN here\n",
      "2HBA ZN here\n",
      "2HBA ZN here\n",
      "2HBA ZN here\n",
      "Examining 2HZC\n",
      "2HZC ZN here\n",
      "2HZC ZN here\n",
      "Examining 2IIM\n",
      "2IIM ZN here\n",
      "Examining 2PQ3\n",
      "2PQ3 ZN here\n",
      "2PQ3 ZN here\n",
      "Examining 2PUY\n",
      "2PUY ZN here\n",
      "2PUY ZN here\n",
      "2PUY ZN here\n",
      "2PUY ZN here\n",
      "Examining 2PVE\n",
      "2PVE ZN here\n",
      "2PVE ZN here\n",
      "2PVE ZN here\n",
      "Examining 2PVX\n",
      "2PVX ZN here\n",
      "2PVX ZN here\n",
      "2PVX ZN here\n",
      "2PVX ZN here\n",
      "2PVX ZN here\n",
      "2PVX ZN here\n",
      "2PVX ZN here\n",
      "2PVX ZN here\n",
      "Examining 2QFA\n",
      "2QFA ZN here\n",
      "Examining 2R2Z\n",
      "2R2Z ZN here\n",
      "2R2Z ZN here\n",
      "2R2Z ZN here\n",
      "2R2Z ZN here\n",
      "Examining 2V89\n",
      "2V89 ZN here\n",
      "2V89 ZN here\n",
      "2V89 ZN here\n",
      "2V89 ZN here\n",
      "Examining 2VS0\n",
      "2VS0 ZN here\n",
      "2VS0 ZN here\n",
      "2VS0 ZN here\n",
      "2VS0 ZN here\n",
      "2VS0 ZN here\n",
      "Examining 2WWZ\n",
      "2WWZ ZN here\n",
      "Examining 2X4K\n",
      "2X4K ZN here\n",
      "2X4K ZN here\n",
      "2X4K ZN here\n",
      "2X4K ZN here\n",
      "2X4K ZN here\n",
      "Examining 2ZCC\n",
      "2ZCC ZN here\n",
      "2ZCC ZN here\n",
      "2ZCC ZN here\n",
      "2ZCC ZN here\n",
      "2ZCC ZN here\n",
      "2ZCC ZN here\n",
      "Examining 3A9J\n",
      "3A9J ZN here\n",
      "Examining 3A9K\n",
      "3A9K ZN here\n",
      "Examining 3ASL\n",
      "3ASL ZN here\n",
      "3ASL ZN here\n",
      "3ASL ZN here\n",
      "3ASL ZN here\n",
      "Examining 3CZT\n",
      "3CZT ZN here\n",
      "Examining 3EBZ\n",
      "3EBZ ZN here\n",
      "3EBZ ZN here\n",
      "3EBZ ZN here\n",
      "3EBZ ZN here\n",
      "3EBZ ZN here\n",
      "3EBZ ZN here\n",
      "3EBZ ZN here\n",
      "3EBZ ZN here\n",
      "3EBZ ZN here\n",
      "Examining 3EC0\n",
      "3EC0 ZN here\n",
      "3EC0 ZN here\n",
      "3EC0 ZN here\n",
      "3EC0 ZN here\n",
      "3EC0 ZN here\n",
      "3EC0 ZN here\n",
      "3EC0 ZN here\n",
      "3EC0 ZN here\n",
      "3EC0 ZN here\n",
      "3EC0 ZN here\n",
      "Examining 3ECG\n",
      "3ECG ZN here\n",
      "3ECG ZN here\n",
      "3ECG ZN here\n",
      "3ECG ZN here\n",
      "3ECG ZN here\n",
      "3ECG ZN here\n",
      "3ECG ZN here\n",
      "3ECG ZN here\n",
      "3ECG ZN here\n",
      "3ECG ZN here\n",
      "3ECG ZN here\n",
      "Examining 3IPJ\n",
      "3IPJ ZN here\n",
      "3IPJ ZN here\n",
      "Examining 3K6I\n",
      "3K6I ZN here\n",
      "3K6I ZN here\n",
      "Examining 3NHE\n",
      "3NHE ZN here\n",
      "Examining 3R68\n",
      "3R68 ZN here\n",
      "3R68 ZN here\n",
      "3R68 ZN here\n",
      "3R68 ZN here\n",
      "Examining 3T7L\n",
      "3T7L ZN here\n",
      "3T7L ZN here\n",
      "Examining 3UEJ\n",
      "3UEJ ZN here\n",
      "3UEJ ZN here\n",
      "3UEJ ZN here\n",
      "3UEJ ZN here\n",
      "Examining 3UEY\n",
      "3UEY ZN here\n",
      "3UEY ZN here\n",
      "3UEY ZN here\n",
      "3UEY ZN here\n",
      "Examining 3UFF\n",
      "3UFF ZN here\n",
      "3UFF ZN here\n",
      "3UFF ZN here\n",
      "3UFF ZN here\n",
      "Examining 3UGD\n",
      "3UGD ZN here\n",
      "3UGD ZN here\n",
      "3UGD ZN here\n",
      "3UGD ZN here\n",
      "Examining 3UGI\n",
      "3UGI ZN here\n",
      "3UGI ZN here\n",
      "3UGI ZN here\n",
      "3UGI ZN here\n",
      "Examining 3UGL\n",
      "3UGL ZN here\n",
      "3UGL ZN here\n",
      "3UGL ZN here\n",
      "3UGL ZN here\n",
      "Examining 3V1C\n",
      "3V1C ZN here\n",
      "3V1C ZN here\n",
      "Examining 3V1E\n",
      "3V1E ZN here\n",
      "3V1E ZN here\n",
      "Examining 3V1F\n",
      "3V1F ZN here\n",
      "3V1F ZN here\n",
      "Examining 3WWL\n",
      "3WWL ZN here\n",
      "Examining 3ZVZ\n",
      "3ZVZ ZN here\n",
      "3ZVZ ZN here\n",
      "Examining 4A48\n",
      "4A48 ZN here\n",
      "4A48 ZN here\n",
      "Examining 4A4J\n",
      "4A4J ZN here\n",
      "Examining 4CJ0\n",
      "4CJ0 ZN here\n",
      "Examining 4F14\n",
      "4F14 ZN here\n",
      "Examining 4HI8\n",
      "4HI8 ZN here\n",
      "4HI8 ZN here\n",
      "Examining 4HI9\n",
      "4HI9 ZN here\n",
      "4HI9 ZN here\n",
      "Examining 4IUM\n",
      "4IUM ZN here\n",
      "Examining 4J3Y\n",
      "4J3Y ZN here\n",
      "4J3Y ZN here\n",
      "Examining 4J44\n",
      "4J44 ZN here\n",
      "4J44 ZN here\n",
      "Examining 4J45\n",
      "4J45 ZN here\n",
      "4J45 ZN here\n",
      "Examining 4J46\n",
      "4J46 ZN here\n",
      "4J46 ZN here\n",
      "Examining 4J47\n",
      "4J47 ZN here\n",
      "4J47 ZN here\n",
      "Examining 4L58\n",
      "4L58 ZN here\n",
      "4L58 ZN here\n",
      "Examining 4L7X\n",
      "4L7X ZN here\n",
      "4L7X ZN here\n",
      "Examining 4M0W\n",
      "4M0W ZN here\n",
      "Examining 4NPD\n",
      "4NPD ZN here\n",
      "4NPD ZN here\n",
      "Examining 4NPE\n",
      "4NPE ZN here\n",
      "Examining 4UP0\n",
      "4UP0 ZN here\n",
      "4UP0 ZN here\n",
      "Examining 4XHV\n",
      "4XHV ZN here\n",
      "Examining 5N7Y_state_1\n",
      "5N7Y_state_1 ZN here\n",
      "5N7Y_state_1 ZN here\n",
      "Examining 5NL4\n",
      "5NL4 ZN here\n",
      "5NL4 ZN here\n",
      "5NL4 ZN here\n",
      "5NL4 ZN here\n",
      "Examining 5NWD\n",
      "5NWD ZN here\n",
      "5NWD ZN here\n",
      "Examining 5NWG\n",
      "5NWG ZN here\n",
      "5NWG ZN here\n",
      "Examining 5SVY\n",
      "5SVY ZN here\n",
      "Examining 5TAB\n",
      "5TAB ZN here\n",
      "5TAB ZN here\n",
      "Examining 5TDA\n",
      "5TDA ZN here\n",
      "5TDA ZN here\n",
      "5TDA ZN here\n",
      "Examining 5TDB\n",
      "5TDB ZN here\n",
      "5TDB ZN here\n",
      "5TDB ZN here\n",
      "Examining 5TDR\n",
      "5TDR ZN here\n",
      "5TDR ZN here\n",
      "Examining 5UM3\n",
      "5UM3 ZN here\n",
      "5UM3 ZN here\n",
      "5UM3 ZN here\n",
      "Examining 5WLF\n",
      "5WLF ZN here\n",
      "5WLF ZN here\n",
      "Examining 5WXH\n",
      "5WXH ZN here\n",
      "5WXH ZN here\n",
      "5WXH ZN here\n",
      "5WXH ZN here\n",
      "Examining 5XVE\n",
      "5XVE ZN here\n"
     ]
    }
   ],
   "source": [
    "my_zn_envs = []\n",
    "for structure in my_ampal_structures:\n",
    "    print (\"Examining {}\".format(structure.id))\n",
    "    ligs = structure.get_ligands()\n",
    "    \n",
    "    for n in ligs:\n",
    "        if n.mol_code == \"ZN\":\n",
    "            print (\"{} ZN here\".format(structure.id))\n",
    "            zn_env = n.close_monomers(structure, cutoff=4.0)\n",
    "            my_zn_envs.append(zn_env)"
   ]
  },
  {
   "cell_type": "markdown",
   "metadata": {},
   "source": [
    "## Analysis\n",
    "Can you use the isambard code you've learnt so far together with a bit of python to analyse these zinc binding sites?\n",
    "\n",
    "Hints: you could use a dictionary to keep track of amino acid counts, or you could keep a tally of distances in a list.\n",
    "\n",
    "Which amino acid residues are typically closest to the zinc ions?\n",
    "\n",
    "Sample code to use below if you don't have any ideas."
   ]
  },
  {
   "cell_type": "markdown",
   "metadata": {},
   "source": [
    "### Sequence analysis"
   ]
  },
  {
   "cell_type": "code",
   "execution_count": 69,
   "metadata": {},
   "outputs": [],
   "source": [
    "my_amino_acid_count = {}\n",
    "my_amino_acids = 'ACDEFGHIKLMNPQRSTVWY'\n",
    "\n",
    "for x in list(my_amino_acids):\n",
    "    my_amino_acid_count[x] = 0\n",
    "\n",
    "for env in my_zn_envs:\n",
    "    for residue in env:\n",
    "        if type(residue) is isambard.ampal.Residue:\n",
    "            my_amino_acid_count[residue.mol_letter] += 1"
   ]
  },
  {
   "cell_type": "code",
   "execution_count": 70,
   "metadata": {},
   "outputs": [
    {
     "data": {
      "text/plain": [
       "{'A': 5,\n",
       " 'C': 381,\n",
       " 'D': 65,\n",
       " 'E': 94,\n",
       " 'F': 1,\n",
       " 'G': 6,\n",
       " 'H': 124,\n",
       " 'I': 13,\n",
       " 'K': 13,\n",
       " 'L': 13,\n",
       " 'M': 3,\n",
       " 'N': 5,\n",
       " 'P': 2,\n",
       " 'Q': 5,\n",
       " 'R': 9,\n",
       " 'S': 4,\n",
       " 'T': 5,\n",
       " 'V': 22,\n",
       " 'W': 1,\n",
       " 'Y': 15}"
      ]
     },
     "execution_count": 70,
     "metadata": {},
     "output_type": "execute_result"
    }
   ],
   "source": [
    "my_amino_acid_count"
   ]
  },
  {
   "cell_type": "markdown",
   "metadata": {},
   "source": [
    "### Can you work out the mean distance from each zinc atom to its binding residues? \n",
    "Hint: there is a function `ampal.geometry.distance()` which takes two atom objects as arguments and returns the distance between them."
   ]
  },
  {
   "cell_type": "code",
   "execution_count": 60,
   "metadata": {},
   "outputs": [
    {
     "data": {
      "text/plain": [
       "[[<Residue containing 9 Atoms. Residue code: GLU>,\n",
       "  <Residue containing 9 Atoms. Residue code: GLN>,\n",
       "  <Ligand containing 1 Atom. Ligand code: ZN>,\n",
       "  <Ligand containing 1 Atom. Ligand code: HOH>,\n",
       "  <Ligand containing 1 Atom. Ligand code: HOH>],\n",
       " [<Residue containing 8 Atoms. Residue code: ASP>,\n",
       "  <Residue containing 8 Atoms. Residue code: ILE>,\n",
       "  <Residue containing 9 Atoms. Residue code: GLU>,\n",
       "  <Ligand containing 1 Atom. Ligand code: ZN>,\n",
       "  <Ligand containing 1 Atom. Ligand code: HOH>,\n",
       "  <Ligand containing 1 Atom. Ligand code: HOH>,\n",
       "  <Ligand containing 1 Atom. Ligand code: HOH>,\n",
       "  <Ligand containing 1 Atom. Ligand code: HOH>],\n",
       " [<Residue containing 10 Atoms. Residue code: HIS>,\n",
       "  <Residue containing 8 Atoms. Residue code: ASP>,\n",
       "  <Ligand containing 1 Atom. Ligand code: ZN>,\n",
       "  <Ligand containing 1 Atom. Ligand code: HOH>,\n",
       "  <Ligand containing 1 Atom. Ligand code: HOH>,\n",
       "  <Ligand containing 1 Atom. Ligand code: HOH>],\n",
       " [<Residue containing 9 Atoms. Residue code: GLU>,\n",
       "  <Ligand containing 1 Atom. Ligand code: ZN>],\n",
       " [<Residue containing 10 Atoms. Residue code: HIS>,\n",
       "  <Residue containing 10 Atoms. Residue code: HIS>,\n",
       "  <Residue containing 9 Atoms. Residue code: GLU>,\n",
       "  <Ligand containing 1 Atom. Ligand code: ZN>,\n",
       "  <Ligand containing 1 Atom. Ligand code: HOH>,\n",
       "  <Ligand containing 1 Atom. Ligand code: HOH>,\n",
       "  <Ligand containing 1 Atom. Ligand code: HOH>],\n",
       " [<Residue containing 10 Atoms. Residue code: HIS>,\n",
       "  <Ligand containing 1 Atom. Ligand code: ZN>,\n",
       "  <Ligand containing 1 Atom. Ligand code: HOH>],\n",
       " [<Residue containing 10 Atoms. Residue code: CYS>,\n",
       "  <Residue containing 10 Atoms. Residue code: CYS>,\n",
       "  <Residue containing 21 Atoms. Residue code: TYR>,\n",
       "  <Residue containing 10 Atoms. Residue code: CYS>,\n",
       "  <Residue containing 10 Atoms. Residue code: CYS>,\n",
       "  <Residue containing 16 Atoms. Residue code: VAL>,\n",
       "  <Ligand containing 1 Atom. Ligand code: ZN>],\n",
       " [<Residue containing 9 Atoms. Residue code: GLU>,\n",
       "  <Ligand containing 1 Atom. Ligand code: ZN>,\n",
       "  <Ligand containing 5 Atoms. Ligand code: CAC>,\n",
       "  <Ligand containing 1 Atom. Ligand code: HOH>,\n",
       "  <Ligand containing 1 Atom. Ligand code: HOH>,\n",
       "  <Ligand containing 1 Atom. Ligand code: HOH>,\n",
       "  <Ligand containing 1 Atom. Ligand code: HOH>],\n",
       " [<Residue containing 8 Atoms. Residue code: ASP>,\n",
       "  <Ligand containing 1 Atom. Ligand code: ZN>,\n",
       "  <Ligand containing 1 Atom. Ligand code: HOH>,\n",
       "  <Ligand containing 1 Atom. Ligand code: HOH>,\n",
       "  <Ligand containing 1 Atom. Ligand code: HOH>,\n",
       "  <Ligand containing 1 Atom. Ligand code: HOH>],\n",
       " [<Residue containing 9 Atoms. Residue code: GLU>,\n",
       "  <Residue containing 8 Atoms. Residue code: ASP>,\n",
       "  <Ligand containing 1 Atom. Ligand code: ZN>,\n",
       "  <Ligand containing 1 Atom. Ligand code: ZN>],\n",
       " [<Residue containing 9 Atoms. Residue code: GLU>,\n",
       "  <Ligand containing 1 Atom. Ligand code: ZN>,\n",
       "  <Ligand containing 1 Atom. Ligand code: ZN>,\n",
       "  <Ligand containing 1 Atom. Ligand code: ZN>,\n",
       "  <Ligand containing 1 Atom. Ligand code: HOH>,\n",
       "  <Ligand containing 1 Atom. Ligand code: HOH>,\n",
       "  <Ligand containing 1 Atom. Ligand code: HOH>],\n",
       " [<Residue containing 9 Atoms. Residue code: GLU>,\n",
       "  <Residue containing 9 Atoms. Residue code: GLU>,\n",
       "  <Ligand containing 1 Atom. Ligand code: ZN>,\n",
       "  <Ligand containing 1 Atom. Ligand code: ZN>,\n",
       "  <Ligand containing 1 Atom. Ligand code: ZN>,\n",
       "  <Ligand containing 1 Atom. Ligand code: HOH>,\n",
       "  <Ligand containing 1 Atom. Ligand code: HOH>,\n",
       "  <Ligand containing 1 Atom. Ligand code: HOH>,\n",
       "  <Ligand containing 1 Atom. Ligand code: HOH>],\n",
       " [<Residue containing 9 Atoms. Residue code: GLU>,\n",
       "  <Residue containing 9 Atoms. Residue code: GLU>,\n",
       "  <Ligand containing 1 Atom. Ligand code: ZN>,\n",
       "  <Ligand containing 1 Atom. Ligand code: ZN>,\n",
       "  <Ligand containing 1 Atom. Ligand code: HOH>,\n",
       "  <Ligand containing 1 Atom. Ligand code: HOH>],\n",
       " [<Residue containing 9 Atoms. Residue code: LYS>,\n",
       "  <Residue containing 9 Atoms. Residue code: GLU>,\n",
       "  <Ligand containing 1 Atom. Ligand code: ZN>,\n",
       "  <Ligand containing 1 Atom. Ligand code: HOH>,\n",
       "  <Ligand containing 1 Atom. Ligand code: HOH>,\n",
       "  <Ligand containing 1 Atom. Ligand code: HOH>,\n",
       "  <Ligand containing 1 Atom. Ligand code: HOH>,\n",
       "  <Ligand containing 1 Atom. Ligand code: HOH>],\n",
       " [<Residue containing 10 Atoms. Residue code: HIS>,\n",
       "  <Residue containing 8 Atoms. Residue code: ASP>,\n",
       "  <Residue containing 9 Atoms. Residue code: GLU>,\n",
       "  <Residue containing 9 Atoms. Residue code: GLU>,\n",
       "  <Residue containing 9 Atoms. Residue code: GLU>,\n",
       "  <Ligand containing 1 Atom. Ligand code: ZN>,\n",
       "  <Ligand containing 1 Atom. Ligand code: ZN>,\n",
       "  <Residue containing 5 Atoms. Residue code: GLY>,\n",
       "  <Ligand containing 1 Atom. Ligand code: HOH>],\n",
       " [<Residue containing 8 Atoms. Residue code: ASP>,\n",
       "  <Residue containing 9 Atoms. Residue code: GLU>,\n",
       "  <Ligand containing 1 Atom. Ligand code: ZN>,\n",
       "  <Ligand containing 1 Atom. Ligand code: ZN>,\n",
       "  <Ligand containing 1 Atom. Ligand code: HOH>,\n",
       "  <Residue containing 10 Atoms. Residue code: HIS>,\n",
       "  <Residue containing 5 Atoms. Residue code: GLY>,\n",
       "  <Ligand containing 1 Atom. Ligand code: HOH>,\n",
       "  <Ligand containing 1 Atom. Ligand code: HOH>],\n",
       " [<Residue containing 10 Atoms. Residue code: HIS>,\n",
       "  <Residue containing 8 Atoms. Residue code: ASP>,\n",
       "  <Residue containing 9 Atoms. Residue code: GLU>,\n",
       "  <Residue containing 9 Atoms. Residue code: GLU>,\n",
       "  <Residue containing 9 Atoms. Residue code: GLU>,\n",
       "  <Residue containing 5 Atoms. Residue code: GLY>,\n",
       "  <Ligand containing 1 Atom. Ligand code: ZN>,\n",
       "  <Ligand containing 1 Atom. Ligand code: ZN>,\n",
       "  <Ligand containing 1 Atom. Ligand code: HOH>],\n",
       " [<Residue containing 8 Atoms. Residue code: ASP>,\n",
       "  <Residue containing 9 Atoms. Residue code: GLU>,\n",
       "  <Residue containing 5 Atoms. Residue code: GLY>,\n",
       "  <Ligand containing 1 Atom. Ligand code: ZN>,\n",
       "  <Ligand containing 1 Atom. Ligand code: ZN>,\n",
       "  <Ligand containing 1 Atom. Ligand code: HOH>,\n",
       "  <Ligand containing 1 Atom. Ligand code: HOH>,\n",
       "  <Ligand containing 1 Atom. Ligand code: HOH>,\n",
       "  <Residue containing 10 Atoms. Residue code: HIS>],\n",
       " [<Residue containing 8 Atoms. Residue code: ASP>,\n",
       "  <Residue containing 9 Atoms. Residue code: GLU>,\n",
       "  <Ligand containing 1 Atom. Ligand code: HOH>,\n",
       "  <Residue containing 9 Atoms. Residue code: GLU>,\n",
       "  <Ligand containing 1 Atom. Ligand code: ZN>],\n",
       " [<Residue containing 9 Atoms. Residue code: GLU>,\n",
       "  <Ligand containing 1 Atom. Ligand code: ZN>],\n",
       " [<Residue containing 6 Atoms. Residue code: CYS>,\n",
       "  <Residue containing 6 Atoms. Residue code: CYS>,\n",
       "  <Residue containing 6 Atoms. Residue code: CYS>,\n",
       "  <Residue containing 6 Atoms. Residue code: CYS>,\n",
       "  <Ligand containing 1 Atom. Ligand code: ZN>],\n",
       " [<Residue containing 9 Atoms. Residue code: GLU>,\n",
       "  <Ligand containing 1 Atom. Ligand code: ZN>,\n",
       "  <Ligand containing 5 Atoms. Ligand code: IMD>,\n",
       "  <Ligand containing 1 Atom. Ligand code: HOH>],\n",
       " [<Residue containing 9 Atoms. Residue code: GLU>,\n",
       "  <Residue containing 10 Atoms. Residue code: HIS>,\n",
       "  <Ligand containing 1 Atom. Ligand code: ZN>,\n",
       "  <Ligand containing 5 Atoms. Ligand code: IMD>],\n",
       " [<Residue containing 9 Atoms. Residue code: GLU>,\n",
       "  <Ligand containing 1 Atom. Ligand code: ZN>,\n",
       "  <Ligand containing 1 Atom. Ligand code: HOH>],\n",
       " [<Residue containing 9 Atoms. Residue code: LYS>,\n",
       "  <Residue containing 9 Atoms. Residue code: GLU>,\n",
       "  <Ligand containing 1 Atom. Ligand code: ZN>,\n",
       "  <Ligand containing 5 Atoms. Ligand code: IMD>,\n",
       "  <Ligand containing 1 Atom. Ligand code: HOH>],\n",
       " [<Residue containing 9 Atoms. Residue code: GLU>,\n",
       "  <Ligand containing 1 Atom. Ligand code: ZN>,\n",
       "  <Ligand containing 5 Atoms. Ligand code: IMD>,\n",
       "  <Ligand containing 1 Atom. Ligand code: HOH>],\n",
       " [<Residue containing 8 Atoms. Residue code: ASP>,\n",
       "  <Residue containing 9 Atoms. Residue code: GLU>,\n",
       "  <Ligand containing 1 Atom. Ligand code: ZN>,\n",
       "  <Ligand containing 1 Atom. Ligand code: ZN>,\n",
       "  <Ligand containing 5 Atoms. Ligand code: IMD>,\n",
       "  <Ligand containing 1 Atom. Ligand code: HOH>,\n",
       "  <Ligand containing 1 Atom. Ligand code: HOH>,\n",
       "  <Ligand containing 1 Atom. Ligand code: HOH>],\n",
       " [<Residue containing 8 Atoms. Residue code: ASP>,\n",
       "  <Ligand containing 1 Atom. Ligand code: ZN>,\n",
       "  <Ligand containing 1 Atom. Ligand code: ZN>,\n",
       "  <Ligand containing 5 Atoms. Ligand code: IMD>,\n",
       "  <Ligand containing 5 Atoms. Ligand code: IMD>,\n",
       "  <Ligand containing 1 Atom. Ligand code: HOH>,\n",
       "  <Ligand containing 1 Atom. Ligand code: HOH>],\n",
       " [<Residue containing 9 Atoms. Residue code: GLU>,\n",
       "  <Ligand containing 1 Atom. Ligand code: ZN>,\n",
       "  <Ligand containing 1 Atom. Ligand code: HOH>,\n",
       "  <Ligand containing 1 Atom. Ligand code: HOH>,\n",
       "  <Ligand containing 1 Atom. Ligand code: HOH>,\n",
       "  <Ligand containing 1 Atom. Ligand code: HOH>],\n",
       " [<Residue containing 9 Atoms. Residue code: GLU>,\n",
       "  <Ligand containing 1 Atom. Ligand code: ZN>,\n",
       "  <Ligand containing 1 Atom. Ligand code: HOH>,\n",
       "  <Ligand containing 1 Atom. Ligand code: HOH>],\n",
       " [<Residue containing 9 Atoms. Residue code: GLU>,\n",
       "  <Ligand containing 1 Atom. Ligand code: ZN>,\n",
       "  <Ligand containing 1 Atom. Ligand code: HOH>,\n",
       "  <Ligand containing 1 Atom. Ligand code: HOH>],\n",
       " [<Residue containing 6 Atoms. Residue code: CYS>,\n",
       "  <Residue containing 6 Atoms. Residue code: CYS>,\n",
       "  <Residue containing 6 Atoms. Residue code: CYS>,\n",
       "  <Residue containing 6 Atoms. Residue code: CYS>,\n",
       "  <Ligand containing 1 Atom. Ligand code: ZN>],\n",
       " [<Residue containing 6 Atoms. Residue code: CYS>,\n",
       "  <Residue containing 6 Atoms. Residue code: CYS>,\n",
       "  <Residue containing 6 Atoms. Residue code: CYS>,\n",
       "  <Residue containing 10 Atoms. Residue code: HIS>,\n",
       "  <Ligand containing 1 Atom. Ligand code: ZN>],\n",
       " [<Residue containing 10 Atoms. Residue code: HIS>,\n",
       "  <Residue containing 8 Atoms. Residue code: LEU>,\n",
       "  <Ligand containing 1 Atom. Ligand code: ZN>,\n",
       "  <Ligand containing 1 Atom. Ligand code: HOH>,\n",
       "  <Ligand containing 1 Atom. Ligand code: HOH>,\n",
       "  <Ligand containing 1 Atom. Ligand code: HOH>,\n",
       "  <Residue containing 9 Atoms. Residue code: GLU>,\n",
       "  <Ligand containing 1 Atom. Ligand code: HOH>],\n",
       " [<Ligand containing 27 Atoms. Ligand code: MYA>,\n",
       "  <Ligand containing 1 Atom. Ligand code: ZN>,\n",
       "  <Ligand containing 27 Atoms. Ligand code: MYA>,\n",
       "  <Ligand containing 5 Atoms. Ligand code: SO4>,\n",
       "  <Ligand containing 1 Atom. Ligand code: ZN>],\n",
       " [<Residue containing 8 Atoms. Residue code: ASP>,\n",
       "  <Ligand containing 1 Atom. Ligand code: ZN>,\n",
       "  <Ligand containing 27 Atoms. Ligand code: MYA>],\n",
       " [<Residue containing 6 Atoms. Residue code: SER>,\n",
       "  <Residue containing 9 Atoms. Residue code: GLU>,\n",
       "  <Ligand containing 1 Atom. Ligand code: ZN>,\n",
       "  <Ligand containing 1 Atom. Ligand code: HOH>,\n",
       "  <Ligand containing 1 Atom. Ligand code: HOH>],\n",
       " [<Ligand containing 27 Atoms. Ligand code: MYA>,\n",
       "  <Ligand containing 1 Atom. Ligand code: ZN>,\n",
       "  <Ligand containing 27 Atoms. Ligand code: MYA>,\n",
       "  <Ligand containing 5 Atoms. Ligand code: SO4>,\n",
       "  <Ligand containing 1 Atom. Ligand code: HOH>],\n",
       " [<Ligand containing 1 Atom. Ligand code: ZN>,\n",
       "  <Ligand containing 27 Atoms. Ligand code: MYA>,\n",
       "  <Ligand containing 5 Atoms. Ligand code: SO4>,\n",
       "  <Ligand containing 1 Atom. Ligand code: ZN>,\n",
       "  <Ligand containing 1 Atom. Ligand code: HOH>],\n",
       " [<Residue containing 9 Atoms. Residue code: GLU>,\n",
       "  <Residue containing 9 Atoms. Residue code: GLU>,\n",
       "  <Residue containing 10 Atoms. Residue code: HIS>,\n",
       "  <Ligand containing 1 Atom. Ligand code: ZN>,\n",
       "  <Ligand containing 1 Atom. Ligand code: HOH>,\n",
       "  <Ligand containing 1 Atom. Ligand code: HOH>],\n",
       " [<Residue containing 9 Atoms. Residue code: LYS>,\n",
       "  <Ligand containing 63 Atoms. Ligand code: MYA>,\n",
       "  <Ligand containing 1 Atom. Ligand code: ZN>,\n",
       "  <Ligand containing 1 Atom. Ligand code: HOH>,\n",
       "  <Ligand containing 1 Atom. Ligand code: HOH>,\n",
       "  <Ligand containing 1 Atom. Ligand code: HOH>],\n",
       " [<Residue containing 8 Atoms. Residue code: ASP>,\n",
       "  <Residue containing 10 Atoms. Residue code: HIS>,\n",
       "  <Residue containing 10 Atoms. Residue code: HIS>,\n",
       "  <Residue containing 10 Atoms. Residue code: HIS>,\n",
       "  <Ligand containing 1 Atom. Ligand code: ZN>],\n",
       " [<Residue containing 8 Atoms. Residue code: ASP>,\n",
       "  <Residue containing 10 Atoms. Residue code: HIS>,\n",
       "  <Residue containing 10 Atoms. Residue code: HIS>,\n",
       "  <Residue containing 10 Atoms. Residue code: HIS>,\n",
       "  <Ligand containing 1 Atom. Ligand code: ZN>],\n",
       " [<Residue containing 8 Atoms. Residue code: ASP>,\n",
       "  <Residue containing 10 Atoms. Residue code: HIS>,\n",
       "  <Residue containing 10 Atoms. Residue code: HIS>,\n",
       "  <Residue containing 10 Atoms. Residue code: HIS>,\n",
       "  <Ligand containing 1 Atom. Ligand code: ZN>],\n",
       " [<Residue containing 9 Atoms. Residue code: GLU>,\n",
       "  <Ligand containing 1 Atom. Ligand code: ZN>,\n",
       "  <Ligand containing 1 Atom. Ligand code: HOH>,\n",
       "  <Ligand containing 1 Atom. Ligand code: HOH>],\n",
       " [<Residue containing 9 Atoms. Residue code: GLU>,\n",
       "  <Residue containing 9 Atoms. Residue code: GLU>,\n",
       "  <Ligand containing 1 Atom. Ligand code: ZN>],\n",
       " [<Residue containing 9 Atoms. Residue code: GLU>,\n",
       "  <Ligand containing 1 Atom. Ligand code: ZN>,\n",
       "  <Ligand containing 1 Atom. Ligand code: HOH>,\n",
       "  <Ligand containing 1 Atom. Ligand code: HOH>],\n",
       " [<Residue containing 8 Atoms. Residue code: ASP>,\n",
       "  <Ligand containing 1 Atom. Ligand code: ZN>,\n",
       "  <Ligand containing 1 Atom. Ligand code: HOH>,\n",
       "  <Ligand containing 1 Atom. Ligand code: HOH>],\n",
       " [<Residue containing 9 Atoms. Residue code: GLU>,\n",
       "  <Residue containing 9 Atoms. Residue code: GLU>,\n",
       "  <Residue containing 8 Atoms. Residue code: ILE>,\n",
       "  <Ligand containing 1 Atom. Ligand code: ZN>,\n",
       "  <Ligand containing 1 Atom. Ligand code: HOH>,\n",
       "  <Ligand containing 1 Atom. Ligand code: HOH>,\n",
       "  <Ligand containing 1 Atom. Ligand code: HOH>,\n",
       "  <Ligand containing 1 Atom. Ligand code: HOH>],\n",
       " [<Residue containing 8 Atoms. Residue code: ASP>,\n",
       "  <Residue containing 12 Atoms. Residue code: TYR>,\n",
       "  <Ligand containing 1 Atom. Ligand code: ZN>,\n",
       "  <Ligand containing 1 Atom. Ligand code: HOH>],\n",
       " [<Residue containing 8 Atoms. Residue code: ASP>,\n",
       "  <Ligand containing 1 Atom. Ligand code: ZN>,\n",
       "  <Ligand containing 1 Atom. Ligand code: HOH>,\n",
       "  <Ligand containing 1 Atom. Ligand code: HOH>],\n",
       " [<Residue containing 9 Atoms. Residue code: GLU>,\n",
       "  <Residue containing 9 Atoms. Residue code: GLU>,\n",
       "  <Ligand containing 1 Atom. Ligand code: ZN>],\n",
       " [<Residue containing 9 Atoms. Residue code: GLU>,\n",
       "  <Ligand containing 1 Atom. Ligand code: ZN>,\n",
       "  <Ligand containing 1 Atom. Ligand code: HOH>,\n",
       "  <Ligand containing 1 Atom. Ligand code: HOH>,\n",
       "  <Ligand containing 1 Atom. Ligand code: HOH>,\n",
       "  <Ligand containing 1 Atom. Ligand code: HOH>],\n",
       " [<Residue containing 8 Atoms. Residue code: ASP>,\n",
       "  <Ligand containing 1 Atom. Ligand code: ZN>],\n",
       " [<Residue containing 9 Atoms. Residue code: GLU>,\n",
       "  <Ligand containing 1 Atom. Ligand code: ZN>,\n",
       "  <Ligand containing 1 Atom. Ligand code: HOH>],\n",
       " [<Residue containing 9 Atoms. Residue code: GLU>,\n",
       "  <Ligand containing 1 Atom. Ligand code: ZN>,\n",
       "  <Ligand containing 1 Atom. Ligand code: ZN>,\n",
       "  <Ligand containing 1 Atom. Ligand code: HOH>,\n",
       "  <Ligand containing 1 Atom. Ligand code: HOH>,\n",
       "  <Ligand containing 1 Atom. Ligand code: HOH>],\n",
       " [<Residue containing 9 Atoms. Residue code: GLU>,\n",
       "  <Residue containing 8 Atoms. Residue code: ASP>,\n",
       "  <Ligand containing 1 Atom. Ligand code: ZN>,\n",
       "  <Ligand containing 1 Atom. Ligand code: HOH>,\n",
       "  <Ligand containing 1 Atom. Ligand code: HOH>,\n",
       "  <Ligand containing 1 Atom. Ligand code: HOH>],\n",
       " [<Residue containing 9 Atoms. Residue code: GLU>,\n",
       "  <Residue containing 9 Atoms. Residue code: GLU>,\n",
       "  <Residue containing 8 Atoms. Residue code: ILE>,\n",
       "  <Ligand containing 1 Atom. Ligand code: ZN>,\n",
       "  <Ligand containing 1 Atom. Ligand code: ZN>,\n",
       "  <Ligand containing 1 Atom. Ligand code: HOH>,\n",
       "  <Ligand containing 1 Atom. Ligand code: HOH>,\n",
       "  <Ligand containing 1 Atom. Ligand code: HOH>,\n",
       "  <Ligand containing 1 Atom. Ligand code: HOH>],\n",
       " [<Residue containing 8 Atoms. Residue code: MET>,\n",
       "  <Residue containing 8 Atoms. Residue code: ASP>,\n",
       "  <Ligand containing 1 Atom. Ligand code: ZN>,\n",
       "  <Ligand containing 1 Atom. Ligand code: CL>,\n",
       "  <Ligand containing 1 Atom. Ligand code: HOH>,\n",
       "  <Ligand containing 1 Atom. Ligand code: HOH>],\n",
       " [<Residue containing 8 Atoms. Residue code: ASP>,\n",
       "  <Ligand containing 1 Atom. Ligand code: ZN>,\n",
       "  <Ligand containing 1 Atom. Ligand code: CL>,\n",
       "  <Ligand containing 1 Atom. Ligand code: CL>,\n",
       "  <Ligand containing 1 Atom. Ligand code: HOH>],\n",
       " [<Ligand containing 1 Atom. Ligand code: ZN>,\n",
       "  <Ligand containing 1 Atom. Ligand code: CL>,\n",
       "  <Ligand containing 1 Atom. Ligand code: HOH>,\n",
       "  <Ligand containing 1 Atom. Ligand code: HOH>],\n",
       " [<Residue containing 8 Atoms. Residue code: MET>,\n",
       "  <Residue containing 8 Atoms. Residue code: ASP>,\n",
       "  <Ligand containing 1 Atom. Ligand code: ZN>,\n",
       "  <Ligand containing 1 Atom. Ligand code: CL>],\n",
       " [<Residue containing 8 Atoms. Residue code: ASP>,\n",
       "  <Ligand containing 1 Atom. Ligand code: ZN>,\n",
       "  <Ligand containing 1 Atom. Ligand code: CL>,\n",
       "  <Ligand containing 1 Atom. Ligand code: HOH>],\n",
       " [<Residue containing 9 Atoms. Residue code: GLU>,\n",
       "  <Ligand containing 1 Atom. Ligand code: ZN>,\n",
       "  <Ligand containing 1 Atom. Ligand code: CL>,\n",
       "  <Ligand containing 1 Atom. Ligand code: CL>],\n",
       " [<Ligand containing 1 Atom. Ligand code: ZN>,\n",
       "  <Ligand containing 1 Atom. Ligand code: CL>,\n",
       "  <Ligand containing 1 Atom. Ligand code: CL>,\n",
       "  <Ligand containing 5 Atoms. Ligand code: IMD>,\n",
       "  <Ligand containing 1 Atom. Ligand code: HOH>],\n",
       " [<Ligand containing 1 Atom. Ligand code: ZN>,\n",
       "  <Ligand containing 1 Atom. Ligand code: HOH>,\n",
       "  <Ligand containing 1 Atom. Ligand code: HOH>],\n",
       " [<Residue containing 9 Atoms. Residue code: GLU>,\n",
       "  <Ligand containing 1 Atom. Ligand code: ZN>,\n",
       "  <Ligand containing 1 Atom. Ligand code: HOH>,\n",
       "  <Ligand containing 1 Atom. Ligand code: HOH>,\n",
       "  <Ligand containing 1 Atom. Ligand code: HOH>],\n",
       " [<Residue containing 9 Atoms. Residue code: GLU>,\n",
       "  <Residue containing 8 Atoms. Residue code: ASP>,\n",
       "  <Ligand containing 1 Atom. Ligand code: ZN>],\n",
       " [<Residue containing 10 Atoms. Residue code: HIS>,\n",
       "  <Residue containing 8 Atoms. Residue code: ASP>,\n",
       "  <Ligand containing 1 Atom. Ligand code: ZN>],\n",
       " [<Residue containing 8 Atoms. Residue code: ASP>,\n",
       "  <Residue containing 9 Atoms. Residue code: GLU>,\n",
       "  <Ligand containing 1 Atom. Ligand code: ZN>,\n",
       "  <Ligand containing 1 Atom. Ligand code: HOH>],\n",
       " [<Residue containing 8 Atoms. Residue code: ASP>,\n",
       "  <Residue containing 8 Atoms. Residue code: ASP>,\n",
       "  <Residue containing 7 Atoms. Residue code: THR>,\n",
       "  <Ligand containing 5 Atoms. Ligand code: CAC>,\n",
       "  <Ligand containing 1 Atom. Ligand code: ZN>,\n",
       "  <Ligand containing 1 Atom. Ligand code: HOH>,\n",
       "  <Ligand containing 1 Atom. Ligand code: HOH>],\n",
       " [<Residue containing 6 Atoms. Residue code: CYS>,\n",
       "  <Residue containing 6 Atoms. Residue code: CYS>,\n",
       "  <Residue containing 10 Atoms. Residue code: HIS>,\n",
       "  <Residue containing 6 Atoms. Residue code: CYS>,\n",
       "  <Ligand containing 1 Atom. Ligand code: ZN>],\n",
       " [<Residue containing 6 Atoms. Residue code: CYS>,\n",
       "  <Residue containing 7 Atoms. Residue code: THR>,\n",
       "  <Residue containing 6 Atoms. Residue code: CYS>,\n",
       "  <Residue containing 6 Atoms. Residue code: CYS>,\n",
       "  <Residue containing 6 Atoms. Residue code: CYS>,\n",
       "  <Ligand containing 1 Atom. Ligand code: ZN>],\n",
       " [<Residue containing 6 Atoms. Residue code: CYS>,\n",
       "  <Residue containing 6 Atoms. Residue code: CYS>,\n",
       "  <Residue containing 10 Atoms. Residue code: HIS>,\n",
       "  <Residue containing 6 Atoms. Residue code: CYS>,\n",
       "  <Ligand containing 1 Atom. Ligand code: ZN>],\n",
       " [<Residue containing 6 Atoms. Residue code: CYS>,\n",
       "  <Residue containing 7 Atoms. Residue code: THR>,\n",
       "  <Residue containing 6 Atoms. Residue code: CYS>,\n",
       "  <Residue containing 6 Atoms. Residue code: CYS>,\n",
       "  <Residue containing 6 Atoms. Residue code: CYS>,\n",
       "  <Ligand containing 1 Atom. Ligand code: ZN>],\n",
       " [<Residue containing 10 Atoms. Residue code: CYS>,\n",
       "  <Residue containing 19 Atoms. Residue code: ILE>,\n",
       "  <Residue containing 10 Atoms. Residue code: CYS>,\n",
       "  <Residue containing 21 Atoms. Residue code: TYR>,\n",
       "  <Residue containing 10 Atoms. Residue code: CYS>,\n",
       "  <Residue containing 19 Atoms. Residue code: ILE>,\n",
       "  <Residue containing 10 Atoms. Residue code: CYS>,\n",
       "  <Residue containing 10 Atoms. Residue code: ALA>,\n",
       "  <Ligand containing 1 Atom. Ligand code: ZN>],\n",
       " [<Residue containing 10 Atoms. Residue code: CYS>,\n",
       "  <Residue containing 19 Atoms. Residue code: ILE>,\n",
       "  <Residue containing 10 Atoms. Residue code: CYS>,\n",
       "  <Residue containing 21 Atoms. Residue code: TYR>,\n",
       "  <Residue containing 10 Atoms. Residue code: CYS>,\n",
       "  <Residue containing 19 Atoms. Residue code: ILE>,\n",
       "  <Residue containing 10 Atoms. Residue code: CYS>,\n",
       "  <Residue containing 10 Atoms. Residue code: ALA>,\n",
       "  <Ligand containing 1 Atom. Ligand code: ZN>],\n",
       " [<Residue containing 10 Atoms. Residue code: CYS>,\n",
       "  <Residue containing 19 Atoms. Residue code: ILE>,\n",
       "  <Residue containing 10 Atoms. Residue code: CYS>,\n",
       "  <Residue containing 21 Atoms. Residue code: TYR>,\n",
       "  <Residue containing 10 Atoms. Residue code: CYS>,\n",
       "  <Residue containing 19 Atoms. Residue code: ILE>,\n",
       "  <Residue containing 10 Atoms. Residue code: CYS>,\n",
       "  <Residue containing 10 Atoms. Residue code: ALA>,\n",
       "  <Ligand containing 1 Atom. Ligand code: ZN>],\n",
       " [<Residue containing 10 Atoms. Residue code: CYS>,\n",
       "  <Residue containing 16 Atoms. Residue code: VAL>,\n",
       "  <Residue containing 10 Atoms. Residue code: CYS>,\n",
       "  <Residue containing 21 Atoms. Residue code: TYR>,\n",
       "  <Residue containing 10 Atoms. Residue code: CYS>,\n",
       "  <Residue containing 19 Atoms. Residue code: LEU>,\n",
       "  <Residue containing 10 Atoms. Residue code: CYS>,\n",
       "  <Residue containing 16 Atoms. Residue code: VAL>,\n",
       "  <Ligand containing 1 Atom. Ligand code: ZN>],\n",
       " [<Residue containing 10 Atoms. Residue code: CYS>,\n",
       "  <Residue containing 16 Atoms. Residue code: VAL>,\n",
       "  <Residue containing 10 Atoms. Residue code: CYS>,\n",
       "  <Residue containing 21 Atoms. Residue code: TYR>,\n",
       "  <Residue containing 10 Atoms. Residue code: CYS>,\n",
       "  <Residue containing 19 Atoms. Residue code: LEU>,\n",
       "  <Residue containing 10 Atoms. Residue code: CYS>,\n",
       "  <Residue containing 16 Atoms. Residue code: VAL>,\n",
       "  <Ligand containing 1 Atom. Ligand code: ZN>],\n",
       " [<Residue containing 10 Atoms. Residue code: CYS>,\n",
       "  <Residue containing 16 Atoms. Residue code: VAL>,\n",
       "  <Residue containing 10 Atoms. Residue code: CYS>,\n",
       "  <Residue containing 21 Atoms. Residue code: TYR>,\n",
       "  <Residue containing 10 Atoms. Residue code: CYS>,\n",
       "  <Residue containing 19 Atoms. Residue code: LEU>,\n",
       "  <Residue containing 10 Atoms. Residue code: CYS>,\n",
       "  <Residue containing 16 Atoms. Residue code: VAL>,\n",
       "  <Ligand containing 1 Atom. Ligand code: ZN>],\n",
       " [<Residue containing 10 Atoms. Residue code: CYS>,\n",
       "  <Residue containing 16 Atoms. Residue code: VAL>,\n",
       "  <Residue containing 10 Atoms. Residue code: CYS>,\n",
       "  <Residue containing 21 Atoms. Residue code: TYR>,\n",
       "  <Residue containing 10 Atoms. Residue code: CYS>,\n",
       "  <Residue containing 19 Atoms. Residue code: LEU>,\n",
       "  <Residue containing 10 Atoms. Residue code: CYS>,\n",
       "  <Residue containing 16 Atoms. Residue code: VAL>,\n",
       "  <Ligand containing 1 Atom. Ligand code: ZN>],\n",
       " [<Residue containing 10 Atoms. Residue code: CYS>,\n",
       "  <Residue containing 16 Atoms. Residue code: VAL>,\n",
       "  <Residue containing 10 Atoms. Residue code: CYS>,\n",
       "  <Residue containing 21 Atoms. Residue code: TYR>,\n",
       "  <Residue containing 10 Atoms. Residue code: CYS>,\n",
       "  <Residue containing 19 Atoms. Residue code: LEU>,\n",
       "  <Residue containing 10 Atoms. Residue code: CYS>,\n",
       "  <Residue containing 16 Atoms. Residue code: VAL>,\n",
       "  <Ligand containing 1 Atom. Ligand code: ZN>],\n",
       " [<Residue containing 10 Atoms. Residue code: CYS>,\n",
       "  <Residue containing 16 Atoms. Residue code: VAL>,\n",
       "  <Residue containing 10 Atoms. Residue code: CYS>,\n",
       "  <Residue containing 21 Atoms. Residue code: TYR>,\n",
       "  <Residue containing 10 Atoms. Residue code: CYS>,\n",
       "  <Residue containing 19 Atoms. Residue code: LEU>,\n",
       "  <Residue containing 10 Atoms. Residue code: CYS>,\n",
       "  <Residue containing 16 Atoms. Residue code: VAL>,\n",
       "  <Ligand containing 1 Atom. Ligand code: ZN>],\n",
       " [<Residue containing 10 Atoms. Residue code: CYS>,\n",
       "  <Residue containing 16 Atoms. Residue code: VAL>,\n",
       "  <Residue containing 10 Atoms. Residue code: CYS>,\n",
       "  <Residue containing 21 Atoms. Residue code: TYR>,\n",
       "  <Residue containing 10 Atoms. Residue code: CYS>,\n",
       "  <Residue containing 19 Atoms. Residue code: LEU>,\n",
       "  <Residue containing 10 Atoms. Residue code: CYS>,\n",
       "  <Residue containing 16 Atoms. Residue code: VAL>,\n",
       "  <Ligand containing 1 Atom. Ligand code: ZN>],\n",
       " [<Residue containing 10 Atoms. Residue code: CYS>,\n",
       "  <Residue containing 16 Atoms. Residue code: VAL>,\n",
       "  <Residue containing 10 Atoms. Residue code: CYS>,\n",
       "  <Residue containing 21 Atoms. Residue code: TYR>,\n",
       "  <Residue containing 10 Atoms. Residue code: CYS>,\n",
       "  <Residue containing 19 Atoms. Residue code: LEU>,\n",
       "  <Residue containing 10 Atoms. Residue code: CYS>,\n",
       "  <Residue containing 16 Atoms. Residue code: VAL>,\n",
       "  <Ligand containing 1 Atom. Ligand code: ZN>],\n",
       " [<Residue containing 6 Atoms. Residue code: CYS>,\n",
       "  <Residue containing 6 Atoms. Residue code: CYS>,\n",
       "  <Residue containing 10 Atoms. Residue code: HIS>,\n",
       "  <Residue containing 6 Atoms. Residue code: CYS>,\n",
       "  <Ligand containing 1 Atom. Ligand code: ZN>],\n",
       " [<Residue containing 9 Atoms. Residue code: GLU>,\n",
       "  <Ligand containing 1 Atom. Ligand code: ZN>],\n",
       " [<Residue containing 9 Atoms. Residue code: GLU>,\n",
       "  <Ligand containing 1 Atom. Ligand code: ZN>,\n",
       "  <Ligand containing 1 Atom. Ligand code: HOH>,\n",
       "  <Ligand containing 1 Atom. Ligand code: HOH>,\n",
       "  <Ligand containing 1 Atom. Ligand code: HOH>,\n",
       "  <Ligand containing 1 Atom. Ligand code: HOH>],\n",
       " [<Residue containing 8 Atoms. Residue code: ASP>,\n",
       "  <Ligand containing 1 Atom. Ligand code: ZN>,\n",
       "  <Ligand containing 1 Atom. Ligand code: HOH>,\n",
       "  <Ligand containing 1 Atom. Ligand code: HOH>,\n",
       "  <Ligand containing 1 Atom. Ligand code: HOH>,\n",
       "  <Ligand containing 1 Atom. Ligand code: HOH>],\n",
       " [<Residue containing 9 Atoms. Residue code: GLU>,\n",
       "  <Residue containing 10 Atoms. Residue code: HIS>,\n",
       "  <Ligand containing 1 Atom. Ligand code: ZN>,\n",
       "  <Ligand containing 1 Atom. Ligand code: HOH>,\n",
       "  <Ligand containing 1 Atom. Ligand code: HOH>,\n",
       "  <Ligand containing 1 Atom. Ligand code: HOH>,\n",
       "  <Ligand containing 1 Atom. Ligand code: HOH>],\n",
       " [<Residue containing 10 Atoms. Residue code: CYS>,\n",
       "  <Residue containing 10 Atoms. Residue code: CYS>,\n",
       "  <Residue containing 12 Atoms. Residue code: ASP>,\n",
       "  <Residue containing 16 Atoms. Residue code: VAL>,\n",
       "  <Residue containing 17 Atoms. Residue code: HIS>,\n",
       "  <Residue containing 10 Atoms. Residue code: CYS>,\n",
       "  <Ligand containing 1 Atom. Ligand code: ZN>],\n",
       " [<Residue containing 10 Atoms. Residue code: CYS>,\n",
       "  <Residue containing 17 Atoms. Residue code: HIS>,\n",
       "  <Residue containing 17 Atoms. Residue code: HIS>,\n",
       "  <Residue containing 10 Atoms. Residue code: CYS>,\n",
       "  <Residue containing 17 Atoms. Residue code: HIS>,\n",
       "  <Ligand containing 1 Atom. Ligand code: ZN>],\n",
       " [<Residue containing 10 Atoms. Residue code: CYS>,\n",
       "  <Residue containing 10 Atoms. Residue code: CYS>,\n",
       "  <Residue containing 12 Atoms. Residue code: ASP>,\n",
       "  <Residue containing 16 Atoms. Residue code: VAL>,\n",
       "  <Residue containing 17 Atoms. Residue code: HIS>,\n",
       "  <Residue containing 10 Atoms. Residue code: CYS>,\n",
       "  <Ligand containing 1 Atom. Ligand code: ZN>],\n",
       " [<Residue containing 10 Atoms. Residue code: CYS>,\n",
       "  <Residue containing 17 Atoms. Residue code: HIS>,\n",
       "  <Residue containing 17 Atoms. Residue code: HIS>,\n",
       "  <Residue containing 10 Atoms. Residue code: CYS>,\n",
       "  <Residue containing 17 Atoms. Residue code: HIS>,\n",
       "  <Ligand containing 1 Atom. Ligand code: ZN>],\n",
       " [<Residue containing 9 Atoms. Residue code: GLU>,\n",
       "  <Ligand containing 1 Atom. Ligand code: ZN>,\n",
       "  <Residue containing 9 Atoms. Residue code: GLU>],\n",
       " [<Residue containing 9 Atoms. Residue code: GLU>,\n",
       "  <Ligand containing 1 Atom. Ligand code: ZN>,\n",
       "  <Ligand containing 1 Atom. Ligand code: HOH>,\n",
       "  <Residue containing 9 Atoms. Residue code: GLU>],\n",
       " [<Residue containing 8 Atoms. Residue code: ASP>,\n",
       "  <Ligand containing 1 Atom. Ligand code: ZN>,\n",
       "  <Ligand containing 1 Atom. Ligand code: HOH>,\n",
       "  <Ligand containing 1 Atom. Ligand code: HOH>],\n",
       " [<Residue containing 9 Atoms. Residue code: GLU>,\n",
       "  <Ligand containing 1 Atom. Ligand code: ZN>,\n",
       "  <Ligand containing 1 Atom. Ligand code: HOH>,\n",
       "  <Ligand containing 1 Atom. Ligand code: HOH>],\n",
       " [<Residue containing 4 Atoms. Residue code: GLY>,\n",
       "  <Residue containing 8 Atoms. Residue code: ASP>,\n",
       "  <Residue containing 11 Atoms. Residue code: ARG>,\n",
       "  <Residue containing 9 Atoms. Residue code: GLU>,\n",
       "  <Residue containing 9 Atoms. Residue code: LYS>,\n",
       "  <Ligand containing 5 Atoms. Ligand code: CAC>,\n",
       "  <Ligand containing 1 Atom. Ligand code: ZN>,\n",
       "  <Ligand containing 1 Atom. Ligand code: HOH>],\n",
       " [<Residue containing 6 Atoms. Residue code: CYS>,\n",
       "  <Residue containing 6 Atoms. Residue code: CYS>,\n",
       "  <Residue containing 6 Atoms. Residue code: CYS>,\n",
       "  <Residue containing 6 Atoms. Residue code: CYS>,\n",
       "  <Ligand containing 1 Atom. Ligand code: ZN>],\n",
       " [<Residue containing 9 Atoms. Residue code: LYS>,\n",
       "  <Residue containing 9 Atoms. Residue code: GLU>,\n",
       "  <Ligand containing 5 Atoms. Ligand code: PO4>,\n",
       "  <Ligand containing 1 Atom. Ligand code: ZN>],\n",
       " [<Residue containing 10 Atoms. Residue code: HIS>,\n",
       "  <Ligand containing 1 Atom. Ligand code: ZN>,\n",
       "  <Ligand containing 1 Atom. Ligand code: HOH>,\n",
       "  <Ligand containing 1 Atom. Ligand code: HOH>,\n",
       "  <Residue containing 9 Atoms. Residue code: ASP>],\n",
       " [<Residue containing 9 Atoms. Residue code: GLU>,\n",
       "  <Ligand containing 1 Atom. Ligand code: ZN>],\n",
       " [<Residue containing 9 Atoms. Residue code: LYS>,\n",
       "  <Residue containing 9 Atoms. Residue code: GLU>,\n",
       "  <Ligand containing 5 Atoms. Ligand code: PO4>,\n",
       "  <Ligand containing 1 Atom. Ligand code: ZN>],\n",
       " [<Residue containing 8 Atoms. Residue code: LEU>,\n",
       "  <Residue containing 9 Atoms. Residue code: GLU>,\n",
       "  <Ligand containing 1 Atom. Ligand code: ZN>,\n",
       "  <Ligand containing 1 Atom. Ligand code: HOH>,\n",
       "  <Ligand containing 1 Atom. Ligand code: HOH>],\n",
       " [<Residue containing 8 Atoms. Residue code: ASP>,\n",
       "  <Ligand containing 1 Atom. Ligand code: ZN>,\n",
       "  <Ligand containing 1 Atom. Ligand code: HOH>,\n",
       "  <Ligand containing 1 Atom. Ligand code: HOH>,\n",
       "  <Ligand containing 1 Atom. Ligand code: HOH>,\n",
       "  <Ligand containing 1 Atom. Ligand code: HOH>],\n",
       " [<Residue containing 9 Atoms. Residue code: GLU>,\n",
       "  <Ligand containing 1 Atom. Ligand code: ZN>,\n",
       "  <Ligand containing 1 Atom. Ligand code: HOH>,\n",
       "  <Ligand containing 1 Atom. Ligand code: HOH>,\n",
       "  <Ligand containing 1 Atom. Ligand code: HOH>],\n",
       " [<Residue containing 10 Atoms. Residue code: HIS>,\n",
       "  <Ligand containing 1 Atom. Ligand code: ZN>,\n",
       "  <Ligand containing 1 Atom. Ligand code: HOH>,\n",
       "  <Residue containing 10 Atoms. Residue code: HIS>,\n",
       "  <Ligand containing 1 Atom. Ligand code: HOH>,\n",
       "  <Ligand containing 1 Atom. Ligand code: HOH>],\n",
       " [<Residue containing 10 Atoms. Residue code: HIS>,\n",
       "  <Ligand containing 1 Atom. Ligand code: ZN>,\n",
       "  <Ligand containing 1 Atom. Ligand code: HOH>,\n",
       "  <Ligand containing 1 Atom. Ligand code: HOH>,\n",
       "  <Ligand containing 1 Atom. Ligand code: HOH>,\n",
       "  <Ligand containing 1 Atom. Ligand code: HOH>,\n",
       "  <Residue containing 8 Atoms. Residue code: ASP>],\n",
       " [<Residue containing 8 Atoms. Residue code: ASP>,\n",
       "  <Residue containing 8 Atoms. Residue code: ASN>,\n",
       "  <Ligand containing 1 Atom. Ligand code: ZN>,\n",
       "  <Ligand containing 1 Atom. Ligand code: HOH>],\n",
       " [<Residue containing 8 Atoms. Residue code: MET>,\n",
       "  <Residue containing 9 Atoms. Residue code: GLU>,\n",
       "  <Residue containing 7 Atoms. Residue code: VAL>,\n",
       "  <Ligand containing 1 Atom. Ligand code: ZN>,\n",
       "  <Ligand containing 1 Atom. Ligand code: HOH>,\n",
       "  <Ligand containing 1 Atom. Ligand code: HOH>],\n",
       " [<Residue containing 6 Atoms. Residue code: CYS>,\n",
       "  <Residue containing 6 Atoms. Residue code: CYS>,\n",
       "  <Residue containing 6 Atoms. Residue code: CYS>,\n",
       "  <Residue containing 6 Atoms. Residue code: CYS>,\n",
       "  <Ligand containing 1 Atom. Ligand code: ZN>],\n",
       " [<Residue containing 6 Atoms. Residue code: CYS>,\n",
       "  <Residue containing 6 Atoms. Residue code: CYS>,\n",
       "  <Residue containing 6 Atoms. Residue code: CYS>,\n",
       "  <Residue containing 6 Atoms. Residue code: CYS>,\n",
       "  <Ligand containing 1 Atom. Ligand code: ZN>],\n",
       " [<Residue containing 6 Atoms. Residue code: CYS>,\n",
       "  <Residue containing 6 Atoms. Residue code: CYS>,\n",
       "  <Residue containing 6 Atoms. Residue code: CYS>,\n",
       "  <Residue containing 6 Atoms. Residue code: CYS>,\n",
       "  <Ligand containing 1 Atom. Ligand code: ZN>],\n",
       " [<Residue containing 6 Atoms. Residue code: CYS>,\n",
       "  <Residue containing 6 Atoms. Residue code: CYS>,\n",
       "  <Residue containing 10 Atoms. Residue code: HIS>,\n",
       "  <Residue containing 6 Atoms. Residue code: CYS>,\n",
       "  <Ligand containing 1 Atom. Ligand code: ZN>],\n",
       " [<Residue containing 6 Atoms. Residue code: CYS>,\n",
       "  <Residue containing 6 Atoms. Residue code: CYS>,\n",
       "  <Residue containing 6 Atoms. Residue code: CYS>,\n",
       "  <Residue containing 6 Atoms. Residue code: CYS>,\n",
       "  <Ligand containing 1 Atom. Ligand code: ZN>],\n",
       " [<Residue containing 10 Atoms. Residue code: HIS>,\n",
       "  <Residue containing 9 Atoms. Residue code: GLU>,\n",
       "  <Ligand containing 1 Atom. Ligand code: ZN>,\n",
       "  <Ligand containing 1 Atom. Ligand code: HOH>],\n",
       " [<Residue containing 10 Atoms. Residue code: HIS>,\n",
       "  <Residue containing 10 Atoms. Residue code: HIS>,\n",
       "  <Ligand containing 1 Atom. Ligand code: ZN>,\n",
       "  <Ligand containing 1 Atom. Ligand code: HOH>],\n",
       " [<Residue containing 9 Atoms. Residue code: LEU>,\n",
       "  <Ligand containing 5 Atoms. Ligand code: IMD>,\n",
       "  <Ligand containing 1 Atom. Ligand code: ZN>,\n",
       "  <Ligand containing 1 Atom. Ligand code: CL>,\n",
       "  <Ligand containing 1 Atom. Ligand code: HOH>,\n",
       "  <Ligand containing 1 Atom. Ligand code: HOH>,\n",
       "  <Ligand containing 1 Atom. Ligand code: HOH>],\n",
       " [<Residue containing 8 Atoms. Residue code: ASP>,\n",
       "  <Ligand containing 1 Atom. Ligand code: ZN>,\n",
       "  <Ligand containing 1 Atom. Ligand code: HOH>,\n",
       "  <Ligand containing 1 Atom. Ligand code: HOH>],\n",
       " [<Residue containing 9 Atoms. Residue code: GLU>,\n",
       "  <Ligand containing 5 Atoms. Ligand code: IMD>,\n",
       "  <Ligand containing 1 Atom. Ligand code: ZN>,\n",
       "  <Ligand containing 1 Atom. Ligand code: HOH>,\n",
       "  <Ligand containing 1 Atom. Ligand code: HOH>],\n",
       " [<Residue containing 9 Atoms. Residue code: GLU>,\n",
       "  <Ligand containing 5 Atoms. Ligand code: IMD>,\n",
       "  <Ligand containing 5 Atoms. Ligand code: IMD>,\n",
       "  <Ligand containing 1 Atom. Ligand code: ZN>,\n",
       "  <Ligand containing 1 Atom. Ligand code: HOH>],\n",
       " [<Residue containing 8 Atoms. Residue code: ASP>,\n",
       "  <Ligand containing 38 Atoms. Ligand code: 017>,\n",
       "  <Ligand containing 5 Atoms. Ligand code: IMD>,\n",
       "  <Ligand containing 1 Atom. Ligand code: ZN>,\n",
       "  <Ligand containing 1 Atom. Ligand code: ZN>,\n",
       "  <Ligand containing 1 Atom. Ligand code: CL>,\n",
       "  <Ligand containing 1 Atom. Ligand code: CL>,\n",
       "  <Ligand containing 1 Atom. Ligand code: HOH>],\n",
       " [<Ligand containing 5 Atoms. Ligand code: IMD>,\n",
       "  <Ligand containing 1 Atom. Ligand code: ZN>,\n",
       "  <Ligand containing 1 Atom. Ligand code: CL>,\n",
       "  <Ligand containing 1 Atom. Ligand code: CL>,\n",
       "  <Ligand containing 1 Atom. Ligand code: HOH>,\n",
       "  <Ligand containing 1 Atom. Ligand code: HOH>],\n",
       " [<Residue containing 9 Atoms. Residue code: GLU>,\n",
       "  <Ligand containing 1 Atom. Ligand code: ZN>,\n",
       "  <Ligand containing 1 Atom. Ligand code: CL>,\n",
       "  <Ligand containing 1 Atom. Ligand code: HOH>,\n",
       "  <Ligand containing 1 Atom. Ligand code: HOH>,\n",
       "  <Ligand containing 1 Atom. Ligand code: HOH>,\n",
       "  <Ligand containing 1 Atom. Ligand code: HOH>],\n",
       " [<Residue containing 9 Atoms. Residue code: GLU>,\n",
       "  <Ligand containing 1 Atom. Ligand code: ZN>,\n",
       "  <Ligand containing 1 Atom. Ligand code: CL>,\n",
       "  <Ligand containing 1 Atom. Ligand code: HOH>,\n",
       "  <Ligand containing 1 Atom. Ligand code: HOH>,\n",
       "  <Ligand containing 1 Atom. Ligand code: HOH>],\n",
       " [<Residue containing 8 Atoms. Residue code: ASP>,\n",
       "  <Residue containing 8 Atoms. Residue code: ASP>,\n",
       "  <Ligand containing 5 Atoms. Ligand code: IMD>,\n",
       "  <Ligand containing 1 Atom. Ligand code: ZN>,\n",
       "  <Ligand containing 1 Atom. Ligand code: ZN>,\n",
       "  <Ligand containing 1 Atom. Ligand code: CL>,\n",
       "  <Ligand containing 1 Atom. Ligand code: HOH>],\n",
       " [<Residue containing 9 Atoms. Residue code: LEU>,\n",
       "  <Ligand containing 5 Atoms. Ligand code: IMD>,\n",
       "  <Ligand containing 1 Atom. Ligand code: ZN>,\n",
       "  <Ligand containing 1 Atom. Ligand code: CL>,\n",
       "  <Ligand containing 1 Atom. Ligand code: HOH>,\n",
       "  <Ligand containing 1 Atom. Ligand code: HOH>,\n",
       "  <Ligand containing 1 Atom. Ligand code: HOH>],\n",
       " [<Residue containing 8 Atoms. Residue code: ASP>,\n",
       "  <Ligand containing 1 Atom. Ligand code: ZN>,\n",
       "  <Ligand containing 1 Atom. Ligand code: HOH>,\n",
       "  <Ligand containing 1 Atom. Ligand code: HOH>],\n",
       " [<Residue containing 9 Atoms. Residue code: GLU>,\n",
       "  <Ligand containing 5 Atoms. Ligand code: IMD>,\n",
       "  <Ligand containing 1 Atom. Ligand code: ZN>,\n",
       "  <Ligand containing 1 Atom. Ligand code: HOH>,\n",
       "  <Ligand containing 1 Atom. Ligand code: HOH>],\n",
       " [<Residue containing 9 Atoms. Residue code: GLU>,\n",
       "  <Residue containing 9 Atoms. Residue code: LYS>,\n",
       "  <Ligand containing 1 Atom. Ligand code: ZN>,\n",
       "  <Ligand containing 1 Atom. Ligand code: CL>,\n",
       "  <Ligand containing 1 Atom. Ligand code: HOH>],\n",
       " [<Residue containing 9 Atoms. Residue code: GLU>,\n",
       "  <Ligand containing 5 Atoms. Ligand code: IMD>,\n",
       "  <Ligand containing 5 Atoms. Ligand code: IMD>,\n",
       "  <Ligand containing 1 Atom. Ligand code: ZN>],\n",
       " [<Residue containing 8 Atoms. Residue code: ASP>,\n",
       "  <Ligand containing 5 Atoms. Ligand code: IMD>,\n",
       "  <Ligand containing 1 Atom. Ligand code: ZN>,\n",
       "  <Ligand containing 1 Atom. Ligand code: ZN>,\n",
       "  <Ligand containing 1 Atom. Ligand code: CL>,\n",
       "  <Ligand containing 1 Atom. Ligand code: CL>,\n",
       "  <Ligand containing 1 Atom. Ligand code: HOH>],\n",
       " [<Residue containing 14 Atoms. Residue code: TRP>,\n",
       "  <Ligand containing 5 Atoms. Ligand code: IMD>,\n",
       "  <Ligand containing 1 Atom. Ligand code: ZN>,\n",
       "  <Ligand containing 1 Atom. Ligand code: CL>,\n",
       "  <Ligand containing 1 Atom. Ligand code: CL>,\n",
       "  <Ligand containing 1 Atom. Ligand code: HOH>],\n",
       " [<Residue containing 9 Atoms. Residue code: GLU>,\n",
       "  <Ligand containing 1 Atom. Ligand code: ZN>,\n",
       "  <Ligand containing 1 Atom. Ligand code: CL>,\n",
       "  <Ligand containing 1 Atom. Ligand code: HOH>,\n",
       "  <Ligand containing 1 Atom. Ligand code: HOH>,\n",
       "  <Ligand containing 1 Atom. Ligand code: HOH>,\n",
       "  <Ligand containing 1 Atom. Ligand code: HOH>],\n",
       " [<Residue containing 9 Atoms. Residue code: GLU>,\n",
       "  <Ligand containing 1 Atom. Ligand code: ZN>,\n",
       "  <Ligand containing 1 Atom. Ligand code: HOH>,\n",
       "  <Ligand containing 1 Atom. Ligand code: HOH>],\n",
       " [<Residue containing 8 Atoms. Residue code: ASP>,\n",
       "  <Residue containing 8 Atoms. Residue code: ASP>,\n",
       "  <Ligand containing 5 Atoms. Ligand code: IMD>,\n",
       "  <Ligand containing 1 Atom. Ligand code: ZN>,\n",
       "  <Ligand containing 1 Atom. Ligand code: ZN>,\n",
       "  <Ligand containing 1 Atom. Ligand code: CL>,\n",
       "  <Ligand containing 1 Atom. Ligand code: CL>,\n",
       "  <Ligand containing 1 Atom. Ligand code: HOH>],\n",
       " [<Residue containing 8 Atoms. Residue code: ASP>,\n",
       "  <Ligand containing 40 Atoms. Ligand code: 065>,\n",
       "  <Ligand containing 1 Atom. Ligand code: ZN>,\n",
       "  <Ligand containing 1 Atom. Ligand code: CL>,\n",
       "  <Ligand containing 1 Atom. Ligand code: HOH>,\n",
       "  <Ligand containing 1 Atom. Ligand code: HOH>,\n",
       "  <Ligand containing 1 Atom. Ligand code: HOH>],\n",
       " [<Residue containing 9 Atoms. Residue code: LEU>,\n",
       "  <Ligand containing 5 Atoms. Ligand code: IMD>,\n",
       "  <Ligand containing 1 Atom. Ligand code: ZN>,\n",
       "  <Ligand containing 1 Atom. Ligand code: CL>,\n",
       "  <Ligand containing 1 Atom. Ligand code: HOH>,\n",
       "  <Ligand containing 1 Atom. Ligand code: HOH>],\n",
       " [<Residue containing 8 Atoms. Residue code: ASP>,\n",
       "  <Ligand containing 1 Atom. Ligand code: ZN>,\n",
       "  <Ligand containing 1 Atom. Ligand code: HOH>,\n",
       "  <Ligand containing 1 Atom. Ligand code: HOH>],\n",
       " [<Residue containing 9 Atoms. Residue code: GLU>,\n",
       "  <Ligand containing 5 Atoms. Ligand code: IMD>,\n",
       "  <Ligand containing 1 Atom. Ligand code: ZN>,\n",
       "  <Ligand containing 1 Atom. Ligand code: HOH>,\n",
       "  <Ligand containing 1 Atom. Ligand code: HOH>],\n",
       " [<Residue containing 9 Atoms. Residue code: GLU>,\n",
       "  <Ligand containing 1 Atom. Ligand code: ZN>,\n",
       "  <Ligand containing 1 Atom. Ligand code: CL>,\n",
       "  <Ligand containing 1 Atom. Ligand code: HOH>],\n",
       " [<Residue containing 9 Atoms. Residue code: GLU>,\n",
       "  <Ligand containing 5 Atoms. Ligand code: IMD>,\n",
       "  <Ligand containing 5 Atoms. Ligand code: IMD>,\n",
       "  <Ligand containing 1 Atom. Ligand code: ZN>,\n",
       "  <Ligand containing 1 Atom. Ligand code: HOH>],\n",
       " [<Ligand containing 40 Atoms. Ligand code: 065>,\n",
       "  <Residue containing 8 Atoms. Residue code: ASP>,\n",
       "  <Ligand containing 5 Atoms. Ligand code: IMD>,\n",
       "  <Ligand containing 1 Atom. Ligand code: ZN>,\n",
       "  <Ligand containing 1 Atom. Ligand code: ZN>,\n",
       "  <Ligand containing 1 Atom. Ligand code: CL>,\n",
       "  <Ligand containing 1 Atom. Ligand code: HOH>,\n",
       "  <Ligand containing 1 Atom. Ligand code: HOH>],\n",
       " [<Ligand containing 5 Atoms. Ligand code: IMD>,\n",
       "  <Ligand containing 1 Atom. Ligand code: ZN>,\n",
       "  <Ligand containing 1 Atom. Ligand code: CL>,\n",
       "  <Ligand containing 1 Atom. Ligand code: CL>,\n",
       "  <Ligand containing 1 Atom. Ligand code: CL>],\n",
       " [<Residue containing 9 Atoms. Residue code: GLU>,\n",
       "  <Ligand containing 1 Atom. Ligand code: ZN>,\n",
       "  <Ligand containing 1 Atom. Ligand code: CL>,\n",
       "  <Ligand containing 1 Atom. Ligand code: HOH>,\n",
       "  <Ligand containing 1 Atom. Ligand code: HOH>,\n",
       "  <Ligand containing 1 Atom. Ligand code: HOH>,\n",
       "  <Ligand containing 1 Atom. Ligand code: HOH>],\n",
       " [<Residue containing 9 Atoms. Residue code: GLU>,\n",
       "  <Ligand containing 1 Atom. Ligand code: ZN>,\n",
       "  <Ligand containing 1 Atom. Ligand code: HOH>,\n",
       "  <Ligand containing 1 Atom. Ligand code: HOH>,\n",
       "  <Ligand containing 1 Atom. Ligand code: HOH>,\n",
       "  <Ligand containing 1 Atom. Ligand code: HOH>],\n",
       " [<Residue containing 8 Atoms. Residue code: ASP>,\n",
       "  <Residue containing 8 Atoms. Residue code: ASP>,\n",
       "  <Ligand containing 5 Atoms. Ligand code: IMD>,\n",
       "  <Ligand containing 1 Atom. Ligand code: ZN>,\n",
       "  <Ligand containing 1 Atom. Ligand code: ZN>,\n",
       "  <Ligand containing 1 Atom. Ligand code: HOH>,\n",
       "  <Ligand containing 1 Atom. Ligand code: HOH>],\n",
       " [<Residue containing 6 Atoms. Residue code: CYS>,\n",
       "  <Residue containing 7 Atoms. Residue code: THR>,\n",
       "  <Ligand containing 1 Atom. Ligand code: HOH>,\n",
       "  <Ligand containing 1 Atom. Ligand code: HOH>,\n",
       "  <Residue containing 9 Atoms. Residue code: GLU>,\n",
       "  <Ligand containing 1 Atom. Ligand code: ZN>],\n",
       " [<Residue containing 6 Atoms. Residue code: CYS>,\n",
       "  <Residue containing 7 Atoms. Residue code: THR>,\n",
       "  <Ligand containing 1 Atom. Ligand code: ZN>,\n",
       "  <Ligand containing 1 Atom. Ligand code: HOH>],\n",
       " [<Residue containing 9 Atoms. Residue code: LYS>,\n",
       "  <Residue containing 9 Atoms. Residue code: GLU>,\n",
       "  <Ligand containing 1 Atom. Ligand code: ZN>,\n",
       "  <Ligand containing 1 Atom. Ligand code: HOH>],\n",
       " [<Residue containing 6 Atoms. Residue code: SER>,\n",
       "  <Residue containing 11 Atoms. Residue code: ARG>,\n",
       "  <Residue containing 6 Atoms. Residue code: SER>,\n",
       "  <Residue containing 9 Atoms. Residue code: GLU>,\n",
       "  <Residue containing 8 Atoms. Residue code: ASP>,\n",
       "  <Ligand containing 1 Atom. Ligand code: ZN>,\n",
       "  <Ligand containing 1 Atom. Ligand code: HOH>,\n",
       "  <Ligand containing 1 Atom. Ligand code: HOH>,\n",
       "  <Ligand containing 1 Atom. Ligand code: HOH>],\n",
       " [<Residue containing 6 Atoms. Residue code: CYS>,\n",
       "  <Residue containing 6 Atoms. Residue code: CYS>,\n",
       "  <Residue containing 6 Atoms. Residue code: CYS>,\n",
       "  <Residue containing 6 Atoms. Residue code: CYS>,\n",
       "  <Ligand containing 1 Atom. Ligand code: ZN>],\n",
       " [<Residue containing 9 Atoms. Residue code: GLU>,\n",
       "  <Ligand containing 1 Atom. Ligand code: ZN>],\n",
       " [<Residue containing 8 Atoms. Residue code: ASP>,\n",
       "  <Ligand containing 1 Atom. Ligand code: ZN>,\n",
       "  <Ligand containing 1 Atom. Ligand code: ZN>,\n",
       "  <Ligand containing 1 Atom. Ligand code: HOH>,\n",
       "  <Ligand containing 1 Atom. Ligand code: HOH>],\n",
       " [<Ligand containing 1 Atom. Ligand code: ZN>,\n",
       "  <Ligand containing 1 Atom. Ligand code: ZN>,\n",
       "  <Ligand containing 1 Atom. Ligand code: ZN>,\n",
       "  <Ligand containing 1 Atom. Ligand code: HOH>,\n",
       "  <Ligand containing 1 Atom. Ligand code: HOH>,\n",
       "  <Ligand containing 1 Atom. Ligand code: HOH>,\n",
       "  <Ligand containing 1 Atom. Ligand code: HOH>],\n",
       " [<Residue containing 10 Atoms. Residue code: HIS>,\n",
       "  <Ligand containing 1 Atom. Ligand code: ZN>,\n",
       "  <Ligand containing 1 Atom. Ligand code: ZN>,\n",
       "  <Ligand containing 1 Atom. Ligand code: CL>,\n",
       "  <Ligand containing 1 Atom. Ligand code: HOH>,\n",
       "  <Ligand containing 1 Atom. Ligand code: HOH>,\n",
       "  <Ligand containing 1 Atom. Ligand code: HOH>,\n",
       "  <Ligand containing 1 Atom. Ligand code: HOH>],\n",
       " [<Residue containing 6 Atoms. Residue code: CYS>,\n",
       "  <Residue containing 6 Atoms. Residue code: CYS>,\n",
       "  <Residue containing 6 Atoms. Residue code: CYS>,\n",
       "  <Residue containing 6 Atoms. Residue code: CYS>,\n",
       "  <Ligand containing 1 Atom. Ligand code: ZN>],\n",
       " [<Residue containing 6 Atoms. Residue code: CYS>,\n",
       "  <Residue containing 6 Atoms. Residue code: CYS>,\n",
       "  <Residue containing 6 Atoms. Residue code: CYS>,\n",
       "  <Residue containing 6 Atoms. Residue code: CYS>,\n",
       "  <Ligand containing 1 Atom. Ligand code: ZN>],\n",
       " [<Residue containing 6 Atoms. Residue code: CYS>,\n",
       "  <Residue containing 6 Atoms. Residue code: CYS>,\n",
       "  <Residue containing 10 Atoms. Residue code: HIS>,\n",
       "  <Residue containing 6 Atoms. Residue code: CYS>,\n",
       "  <Ligand containing 1 Atom. Ligand code: ZN>],\n",
       " [<Residue containing 10 Atoms. Residue code: HIS>,\n",
       "  <Residue containing 6 Atoms. Residue code: CYS>,\n",
       "  <Residue containing 6 Atoms. Residue code: CYS>,\n",
       "  <Residue containing 6 Atoms. Residue code: CYS>,\n",
       "  <Ligand containing 1 Atom. Ligand code: ZN>],\n",
       " [<Residue containing 6 Atoms. Residue code: CYS>,\n",
       "  <Residue containing 6 Atoms. Residue code: CYS>,\n",
       "  <Residue containing 10 Atoms. Residue code: HIS>,\n",
       "  <Residue containing 6 Atoms. Residue code: CYS>,\n",
       "  <Ligand containing 1 Atom. Ligand code: ZN>],\n",
       " [<Residue containing 10 Atoms. Residue code: HIS>,\n",
       "  <Residue containing 6 Atoms. Residue code: CYS>,\n",
       "  <Residue containing 6 Atoms. Residue code: CYS>,\n",
       "  <Residue containing 6 Atoms. Residue code: CYS>,\n",
       "  <Ligand containing 1 Atom. Ligand code: ZN>],\n",
       " [<Residue containing 6 Atoms. Residue code: CYS>,\n",
       "  <Residue containing 6 Atoms. Residue code: CYS>,\n",
       "  <Residue containing 10 Atoms. Residue code: HIS>,\n",
       "  <Residue containing 6 Atoms. Residue code: CYS>,\n",
       "  <Ligand containing 1 Atom. Ligand code: ZN>],\n",
       " [<Residue containing 10 Atoms. Residue code: HIS>,\n",
       "  <Residue containing 6 Atoms. Residue code: CYS>,\n",
       "  <Residue containing 6 Atoms. Residue code: CYS>,\n",
       "  <Residue containing 6 Atoms. Residue code: CYS>,\n",
       "  <Ligand containing 1 Atom. Ligand code: ZN>],\n",
       " [<Residue containing 6 Atoms. Residue code: CYS>,\n",
       "  <Residue containing 6 Atoms. Residue code: CYS>,\n",
       "  <Residue containing 10 Atoms. Residue code: HIS>,\n",
       "  <Residue containing 6 Atoms. Residue code: CYS>,\n",
       "  <Ligand containing 1 Atom. Ligand code: ZN>],\n",
       " [<Residue containing 10 Atoms. Residue code: HIS>,\n",
       "  <Residue containing 6 Atoms. Residue code: CYS>,\n",
       "  <Residue containing 6 Atoms. Residue code: CYS>,\n",
       "  <Residue containing 6 Atoms. Residue code: CYS>,\n",
       "  <Ligand containing 1 Atom. Ligand code: ZN>],\n",
       " [<Residue containing 10 Atoms. Residue code: HIS>,\n",
       "  <Residue containing 6 Atoms. Residue code: CYS>,\n",
       "  <Residue containing 6 Atoms. Residue code: CYS>,\n",
       "  <Residue containing 6 Atoms. Residue code: CYS>,\n",
       "  <Ligand containing 1 Atom. Ligand code: ZN>],\n",
       " [<Residue containing 6 Atoms. Residue code: CYS>,\n",
       "  <Residue containing 6 Atoms. Residue code: CYS>,\n",
       "  <Residue containing 10 Atoms. Residue code: HIS>,\n",
       "  <Residue containing 6 Atoms. Residue code: CYS>,\n",
       "  <Ligand containing 1 Atom. Ligand code: ZN>],\n",
       " [<Residue containing 10 Atoms. Residue code: HIS>,\n",
       "  <Residue containing 6 Atoms. Residue code: CYS>,\n",
       "  <Residue containing 6 Atoms. Residue code: CYS>,\n",
       "  <Residue containing 6 Atoms. Residue code: CYS>,\n",
       "  <Ligand containing 1 Atom. Ligand code: ZN>],\n",
       " [<Residue containing 6 Atoms. Residue code: CYS>,\n",
       "  <Residue containing 6 Atoms. Residue code: CYS>,\n",
       "  <Residue containing 10 Atoms. Residue code: HIS>,\n",
       "  <Residue containing 6 Atoms. Residue code: CYS>,\n",
       "  <Ligand containing 1 Atom. Ligand code: ZN>],\n",
       " [<Residue containing 6 Atoms. Residue code: CYS>,\n",
       "  <Residue containing 6 Atoms. Residue code: CYS>,\n",
       "  <Residue containing 10 Atoms. Residue code: HIS>,\n",
       "  <Residue containing 6 Atoms. Residue code: CYS>,\n",
       "  <Ligand containing 1 Atom. Ligand code: ZN>],\n",
       " [<Residue containing 10 Atoms. Residue code: HIS>,\n",
       "  <Residue containing 6 Atoms. Residue code: CYS>,\n",
       "  <Residue containing 6 Atoms. Residue code: CYS>,\n",
       "  <Residue containing 6 Atoms. Residue code: CYS>,\n",
       "  <Ligand containing 1 Atom. Ligand code: ZN>],\n",
       " [<Residue containing 6 Atoms. Residue code: CYS>,\n",
       "  <Residue containing 6 Atoms. Residue code: CYS>,\n",
       "  <Residue containing 10 Atoms. Residue code: HIS>,\n",
       "  <Residue containing 6 Atoms. Residue code: CYS>,\n",
       "  <Ligand containing 1 Atom. Ligand code: ZN>],\n",
       " [<Residue containing 10 Atoms. Residue code: HIS>,\n",
       "  <Residue containing 6 Atoms. Residue code: CYS>,\n",
       "  <Residue containing 6 Atoms. Residue code: CYS>,\n",
       "  <Residue containing 6 Atoms. Residue code: CYS>,\n",
       "  <Ligand containing 1 Atom. Ligand code: ZN>],\n",
       " [<Residue containing 10 Atoms. Residue code: HIS>,\n",
       "  <Residue containing 6 Atoms. Residue code: CYS>,\n",
       "  <Residue containing 6 Atoms. Residue code: CYS>,\n",
       "  <Residue containing 6 Atoms. Residue code: CYS>,\n",
       "  <Ligand containing 1 Atom. Ligand code: ZN>],\n",
       " [<Residue containing 6 Atoms. Residue code: CYS>,\n",
       "  <Residue containing 6 Atoms. Residue code: CYS>,\n",
       "  <Residue containing 10 Atoms. Residue code: HIS>,\n",
       "  <Residue containing 6 Atoms. Residue code: CYS>,\n",
       "  <Ligand containing 1 Atom. Ligand code: ZN>],\n",
       " [<Residue containing 10 Atoms. Residue code: HIS>,\n",
       "  <Residue containing 6 Atoms. Residue code: CYS>,\n",
       "  <Residue containing 6 Atoms. Residue code: CYS>,\n",
       "  <Residue containing 6 Atoms. Residue code: CYS>,\n",
       "  <Ligand containing 1 Atom. Ligand code: ZN>],\n",
       " [<Residue containing 6 Atoms. Residue code: CYS>,\n",
       "  <Residue containing 6 Atoms. Residue code: CYS>,\n",
       "  <Residue containing 10 Atoms. Residue code: HIS>,\n",
       "  <Residue containing 6 Atoms. Residue code: CYS>,\n",
       "  <Ligand containing 1 Atom. Ligand code: ZN>],\n",
       " [<Residue containing 10 Atoms. Residue code: HIS>,\n",
       "  <Residue containing 6 Atoms. Residue code: CYS>,\n",
       "  <Residue containing 6 Atoms. Residue code: CYS>,\n",
       "  <Residue containing 6 Atoms. Residue code: CYS>,\n",
       "  <Ligand containing 1 Atom. Ligand code: ZN>],\n",
       " [<Residue containing 6 Atoms. Residue code: CYS>,\n",
       "  <Residue containing 6 Atoms. Residue code: CYS>,\n",
       "  <Residue containing 10 Atoms. Residue code: HIS>,\n",
       "  <Residue containing 6 Atoms. Residue code: CYS>,\n",
       "  <Ligand containing 1 Atom. Ligand code: ZN>],\n",
       " [<Residue containing 10 Atoms. Residue code: HIS>,\n",
       "  <Residue containing 6 Atoms. Residue code: CYS>,\n",
       "  <Residue containing 6 Atoms. Residue code: CYS>,\n",
       "  <Residue containing 6 Atoms. Residue code: CYS>,\n",
       "  <Ligand containing 1 Atom. Ligand code: ZN>],\n",
       " [<Residue containing 6 Atoms. Residue code: CYS>,\n",
       "  <Residue containing 6 Atoms. Residue code: CYS>,\n",
       "  <Residue containing 10 Atoms. Residue code: HIS>,\n",
       "  <Residue containing 6 Atoms. Residue code: CYS>,\n",
       "  <Ligand containing 1 Atom. Ligand code: ZN>],\n",
       " [<Residue containing 17 Atoms. Residue code: HIS>,\n",
       "  <Residue containing 17 Atoms. Residue code: HIS>,\n",
       "  <Ligand containing 1 Atom. Ligand code: ZN>,\n",
       "  <Ligand containing 14 Atoms. Ligand code: TLA>,\n",
       "  <Residue containing 17 Atoms. Residue code: HIS>],\n",
       " [<Residue containing 17 Atoms. Residue code: HIS>,\n",
       "  <Residue containing 17 Atoms. Residue code: HIS>,\n",
       "  <Residue containing 17 Atoms. Residue code: HIS>,\n",
       "  <Ligand containing 1 Atom. Ligand code: ZN>],\n",
       " [<Residue containing 15 Atoms. Residue code: GLU>,\n",
       "  <Residue containing 17 Atoms. Residue code: HIS>,\n",
       "  <Ligand containing 1 Atom. Ligand code: ZN>,\n",
       "  <Ligand containing 1 Atom. Ligand code: HOH>,\n",
       "  <Ligand containing 1 Atom. Ligand code: HOH>,\n",
       "  <Residue containing 17 Atoms. Residue code: HIS>,\n",
       "  <Residue containing 17 Atoms. Residue code: HIS>],\n",
       " [<Residue containing 17 Atoms. Residue code: HIS>,\n",
       "  <Residue containing 17 Atoms. Residue code: HIS>,\n",
       "  <Ligand containing 1 Atom. Ligand code: ZN>,\n",
       "  <Residue containing 15 Atoms. Residue code: GLU>,\n",
       "  <Residue containing 17 Atoms. Residue code: HIS>],\n",
       " [<Residue containing 15 Atoms. Residue code: GLU>,\n",
       "  <Residue containing 17 Atoms. Residue code: HIS>,\n",
       "  <Ligand containing 1 Atom. Ligand code: ZN>,\n",
       "  <Ligand containing 1 Atom. Ligand code: HOH>,\n",
       "  <Ligand containing 1 Atom. Ligand code: HOH>,\n",
       "  <Residue containing 17 Atoms. Residue code: HIS>,\n",
       "  <Residue containing 17 Atoms. Residue code: HIS>],\n",
       " [<Residue containing 17 Atoms. Residue code: HIS>,\n",
       "  <Residue containing 17 Atoms. Residue code: HIS>,\n",
       "  <Residue containing 15 Atoms. Residue code: GLU>,\n",
       "  <Residue containing 17 Atoms. Residue code: HIS>,\n",
       "  <Ligand containing 1 Atom. Ligand code: ZN>,\n",
       "  <Ligand containing 1 Atom. Ligand code: HOH>],\n",
       " [<Residue containing 6 Atoms. Residue code: CYS>,\n",
       "  <Residue containing 6 Atoms. Residue code: CYS>,\n",
       "  <Residue containing 6 Atoms. Residue code: CYS>,\n",
       "  <Residue containing 6 Atoms. Residue code: CYS>,\n",
       "  <Ligand containing 1 Atom. Ligand code: ZN>],\n",
       " [<Residue containing 6 Atoms. Residue code: CYS>,\n",
       "  <Residue containing 6 Atoms. Residue code: CYS>,\n",
       "  <Residue containing 10 Atoms. Residue code: HIS>,\n",
       "  <Residue containing 6 Atoms. Residue code: CYS>,\n",
       "  <Ligand containing 1 Atom. Ligand code: ZN>],\n",
       " [<Residue containing 6 Atoms. Residue code: CYS>,\n",
       "  <Residue containing 6 Atoms. Residue code: CYS>,\n",
       "  <Residue containing 6 Atoms. Residue code: CYS>,\n",
       "  <Residue containing 6 Atoms. Residue code: CYS>,\n",
       "  <Ligand containing 1 Atom. Ligand code: ZN>],\n",
       " [<Residue containing 6 Atoms. Residue code: CYS>,\n",
       "  <Residue containing 6 Atoms. Residue code: SER>,\n",
       "  <Residue containing 6 Atoms. Residue code: CYS>,\n",
       "  <Ligand containing 1 Atom. Ligand code: ZN>,\n",
       "  <Ligand containing 1 Atom. Ligand code: HOH>,\n",
       "  <Ligand containing 1 Atom. Ligand code: HOH>],\n",
       " [<Residue containing 6 Atoms. Residue code: CYS>,\n",
       "  <Residue containing 6 Atoms. Residue code: CYS>,\n",
       "  <Ligand containing 1 Atom. Ligand code: ZN>,\n",
       "  <Ligand containing 1 Atom. Ligand code: HOH>],\n",
       " [<Residue containing 8 Atoms. Residue code: ASP>,\n",
       "  <Residue containing 6 Atoms. Residue code: CYS>,\n",
       "  <Residue containing 6 Atoms. Residue code: CYS>,\n",
       "  <Ligand containing 1 Atom. Ligand code: ZN>],\n",
       " [<Residue containing 6 Atoms. Residue code: CYS>,\n",
       "  <Residue containing 4 Atoms. Residue code: GLY>,\n",
       "  <Residue containing 6 Atoms. Residue code: CYS>,\n",
       "  <Residue containing 10 Atoms. Residue code: HIS>,\n",
       "  <Residue containing 10 Atoms. Residue code: HIS>,\n",
       "  <Ligand containing 1 Atom. Ligand code: ZN>],\n",
       " [<Residue containing 12 Atoms. Residue code: ASP>,\n",
       "  <Residue containing 15 Atoms. Residue code: GLU>,\n",
       "  <Ligand containing 1 Atom. Ligand code: ZN>,\n",
       "  <Ligand containing 1 Atom. Ligand code: HOH>,\n",
       "  <Ligand containing 1 Atom. Ligand code: HOH>],\n",
       " [<Residue containing 10 Atoms. Residue code: CYS>,\n",
       "  <Residue containing 24 Atoms. Residue code: ARG>,\n",
       "  <Residue containing 10 Atoms. Residue code: CYS>,\n",
       "  <Residue containing 17 Atoms. Residue code: HIS>,\n",
       "  <Residue containing 10 Atoms. Residue code: CYS>,\n",
       "  <Ligand containing 1 Atom. Ligand code: ZN>],\n",
       " [<Residue containing 10 Atoms. Residue code: CYS>,\n",
       "  <Residue containing 17 Atoms. Residue code: GLN>,\n",
       "  <Residue containing 10 Atoms. Residue code: CYS>,\n",
       "  <Residue containing 10 Atoms. Residue code: CYS>,\n",
       "  <Residue containing 12 Atoms. Residue code: ASP>,\n",
       "  <Ligand containing 1 Atom. Ligand code: ZN>],\n",
       " [<Residue containing 10 Atoms. Residue code: CYS>,\n",
       "  <Residue containing 24 Atoms. Residue code: ARG>,\n",
       "  <Residue containing 10 Atoms. Residue code: CYS>,\n",
       "  <Residue containing 17 Atoms. Residue code: HIS>,\n",
       "  <Residue containing 10 Atoms. Residue code: CYS>,\n",
       "  <Ligand containing 1 Atom. Ligand code: ZN>],\n",
       " [<Residue containing 10 Atoms. Residue code: CYS>,\n",
       "  <Residue containing 17 Atoms. Residue code: GLN>,\n",
       "  <Residue containing 10 Atoms. Residue code: CYS>,\n",
       "  <Residue containing 10 Atoms. Residue code: CYS>,\n",
       "  <Residue containing 12 Atoms. Residue code: ASP>,\n",
       "  <Ligand containing 1 Atom. Ligand code: ZN>],\n",
       " [<Residue containing 10 Atoms. Residue code: CYS>,\n",
       "  <Residue containing 14 Atoms. Residue code: PRO>,\n",
       "  <Residue containing 10 Atoms. Residue code: CYS>,\n",
       "  <Residue containing 10 Atoms. Residue code: CYS>,\n",
       "  <Residue containing 10 Atoms. Residue code: CYS>,\n",
       "  <Ligand containing 1 Atom. Ligand code: ZN>],\n",
       " [<Residue containing 6 Atoms. Residue code: CYS>,\n",
       "  <Residue containing 6 Atoms. Residue code: CYS>,\n",
       "  <Residue containing 10 Atoms. Residue code: HIS>,\n",
       "  <Residue containing 6 Atoms. Residue code: CYS>,\n",
       "  <Ligand containing 1 Atom. Ligand code: ZN>],\n",
       " [<Residue containing 6 Atoms. Residue code: CYS>,\n",
       "  <Residue containing 6 Atoms. Residue code: CYS>,\n",
       "  <Residue containing 10 Atoms. Residue code: HIS>,\n",
       "  <Residue containing 6 Atoms. Residue code: CYS>,\n",
       "  <Ligand containing 1 Atom. Ligand code: ZN>],\n",
       " [<Residue containing 6 Atoms. Residue code: CYS>,\n",
       "  <Residue containing 6 Atoms. Residue code: CYS>,\n",
       "  <Residue containing 10 Atoms. Residue code: HIS>,\n",
       "  <Residue containing 6 Atoms. Residue code: CYS>,\n",
       "  <Ligand containing 1 Atom. Ligand code: ZN>],\n",
       " [<Residue containing 6 Atoms. Residue code: CYS>,\n",
       "  <Residue containing 6 Atoms. Residue code: CYS>,\n",
       "  <Residue containing 10 Atoms. Residue code: HIS>,\n",
       "  <Residue containing 6 Atoms. Residue code: CYS>,\n",
       "  <Ligand containing 1 Atom. Ligand code: ZN>],\n",
       " [<Residue containing 6 Atoms. Residue code: CYS>,\n",
       "  <Residue containing 6 Atoms. Residue code: CYS>,\n",
       "  <Residue containing 10 Atoms. Residue code: HIS>,\n",
       "  <Residue containing 6 Atoms. Residue code: CYS>,\n",
       "  <Ligand containing 1 Atom. Ligand code: ZN>],\n",
       " [<Residue containing 6 Atoms. Residue code: CYS>,\n",
       "  <Residue containing 6 Atoms. Residue code: CYS>,\n",
       "  <Residue containing 10 Atoms. Residue code: HIS>,\n",
       "  <Residue containing 6 Atoms. Residue code: CYS>,\n",
       "  <Ligand containing 1 Atom. Ligand code: ZN>],\n",
       " [<Residue containing 6 Atoms. Residue code: CYS>,\n",
       "  <Residue containing 6 Atoms. Residue code: CYS>,\n",
       "  <Residue containing 10 Atoms. Residue code: HIS>,\n",
       "  <Residue containing 6 Atoms. Residue code: CYS>,\n",
       "  <Ligand containing 1 Atom. Ligand code: ZN>],\n",
       " [<Residue containing 6 Atoms. Residue code: CYS>,\n",
       "  <Residue containing 6 Atoms. Residue code: CYS>,\n",
       "  <Residue containing 10 Atoms. Residue code: HIS>,\n",
       "  <Residue containing 6 Atoms. Residue code: CYS>,\n",
       "  <Ligand containing 1 Atom. Ligand code: ZN>],\n",
       " [<Residue containing 6 Atoms. Residue code: CYS>,\n",
       "  <Residue containing 6 Atoms. Residue code: CYS>,\n",
       "  <Residue containing 10 Atoms. Residue code: HIS>,\n",
       "  <Residue containing 6 Atoms. Residue code: CYS>,\n",
       "  <Ligand containing 1 Atom. Ligand code: ZN>],\n",
       " [<Residue containing 6 Atoms. Residue code: CYS>,\n",
       "  <Residue containing 6 Atoms. Residue code: CYS>,\n",
       "  <Residue containing 10 Atoms. Residue code: HIS>,\n",
       "  <Residue containing 6 Atoms. Residue code: CYS>,\n",
       "  <Ligand containing 1 Atom. Ligand code: ZN>],\n",
       " [<Residue containing 10 Atoms. Residue code: CYS>,\n",
       "  <Residue containing 22 Atoms. Residue code: LYS>,\n",
       "  <Residue containing 10 Atoms. Residue code: CYS>,\n",
       "  <Residue containing 16 Atoms. Residue code: VAL>,\n",
       "  <Residue containing 10 Atoms. Residue code: CYS>,\n",
       "  <Residue containing 10 Atoms. Residue code: CYS>,\n",
       "  <Ligand containing 1 Atom. Ligand code: ZN>],\n",
       " [<Residue containing 10 Atoms. Residue code: CYS>,\n",
       "  <Residue containing 10 Atoms. Residue code: CYS>,\n",
       "  <Residue containing 17 Atoms. Residue code: HIS>,\n",
       "  <Residue containing 10 Atoms. Residue code: CYS>,\n",
       "  <Residue containing 10 Atoms. Residue code: ALA>,\n",
       "  <Residue containing 17 Atoms. Residue code: GLN>,\n",
       "  <Ligand containing 1 Atom. Ligand code: ZN>],\n",
       " [<Residue containing 10 Atoms. Residue code: CYS>,\n",
       "  <Residue containing 23 Atoms. Residue code: ARG>,\n",
       "  <Residue containing 10 Atoms. Residue code: CYS>,\n",
       "  <Residue containing 20 Atoms. Residue code: PHE>,\n",
       "  <Residue containing 10 Atoms. Residue code: CYS>,\n",
       "  <Residue containing 10 Atoms. Residue code: CYS>,\n",
       "  <Ligand containing 1 Atom. Ligand code: ZN>],\n",
       " [<Residue containing 10 Atoms. Residue code: CYS>,\n",
       "  <Residue containing 10 Atoms. Residue code: CYS>,\n",
       "  <Residue containing 24 Atoms. Residue code: ARG>,\n",
       "  <Residue containing 17 Atoms. Residue code: HIS>,\n",
       "  <Residue containing 10 Atoms. Residue code: CYS>,\n",
       "  <Ligand containing 1 Atom. Ligand code: ZN>,\n",
       "  <Ligand containing 1 Atom. Ligand code: HOH>],\n",
       " [<Residue containing 6 Atoms. Residue code: CYS>,\n",
       "  <Residue containing 6 Atoms. Residue code: CYS>,\n",
       "  <Residue containing 6 Atoms. Residue code: CYS>,\n",
       "  <Residue containing 6 Atoms. Residue code: CYS>,\n",
       "  <Ligand containing 1 Atom. Ligand code: ZN>],\n",
       " [<Residue containing 23 Atoms. Residue code: LYS>,\n",
       "  <Ligand containing 1 Atom. Ligand code: ZN>,\n",
       "  <Ligand containing 3 Atoms. Ligand code: SCN>],\n",
       " [<Residue containing 14 Atoms. Residue code: PRO>,\n",
       "  <Residue containing 14 Atoms. Residue code: ASN>,\n",
       "  <Ligand containing 1 Atom. Ligand code: ZN>,\n",
       "  <Ligand containing 1 Atom. Ligand code: HOH>,\n",
       "  <Ligand containing 1 Atom. Ligand code: HOH>,\n",
       "  <Ligand containing 1 Atom. Ligand code: HOH>,\n",
       "  <Ligand containing 1 Atom. Ligand code: HOH>,\n",
       "  <Ligand containing 1 Atom. Ligand code: HOH>],\n",
       " [<Residue containing 23 Atoms. Residue code: LYS>,\n",
       "  <Ligand containing 1 Atom. Ligand code: ZN>,\n",
       "  <Ligand containing 3 Atoms. Ligand code: SCN>],\n",
       " [<Residue containing 6 Atoms. Residue code: CYS>,\n",
       "  <Residue containing 6 Atoms. Residue code: CYS>,\n",
       "  <Residue containing 10 Atoms. Residue code: HIS>,\n",
       "  <Residue containing 6 Atoms. Residue code: CYS>,\n",
       "  <Ligand containing 1 Atom. Ligand code: ZN>],\n",
       " [<Residue containing 6 Atoms. Residue code: CYS>,\n",
       "  <Residue containing 6 Atoms. Residue code: CYS>,\n",
       "  <Residue containing 6 Atoms. Residue code: CYS>,\n",
       "  <Residue containing 6 Atoms. Residue code: CYS>,\n",
       "  <Ligand containing 1 Atom. Ligand code: ZN>],\n",
       " [<Residue containing 14 Atoms. Residue code: ASP>,\n",
       "  <Residue containing 12 Atoms. Residue code: ASP>,\n",
       "  <Residue containing 16 Atoms. Residue code: VAL>,\n",
       "  <Ligand containing 1 Atom. Ligand code: ZN>],\n",
       " [<Residue containing 10 Atoms. Residue code: CYS>,\n",
       "  <Residue containing 19 Atoms. Residue code: ILE>,\n",
       "  <Residue containing 10 Atoms. Residue code: CYS>,\n",
       "  <Residue containing 10 Atoms. Residue code: CYS>,\n",
       "  <Residue containing 10 Atoms. Residue code: CYS>,\n",
       "  <Ligand containing 1 Atom. Ligand code: ZN>,\n",
       "  <Residue containing 21 Atoms. Residue code: TYR>],\n",
       " [<Residue containing 21 Atoms. Residue code: TYR>,\n",
       "  <Residue containing 10 Atoms. Residue code: CYS>,\n",
       "  <Residue containing 19 Atoms. Residue code: ILE>,\n",
       "  <Residue containing 10 Atoms. Residue code: CYS>,\n",
       "  <Residue containing 10 Atoms. Residue code: CYS>,\n",
       "  <Residue containing 10 Atoms. Residue code: CYS>,\n",
       "  <Ligand containing 1 Atom. Ligand code: ZN>],\n",
       " [<Residue containing 9 Atoms. Residue code: GLU>,\n",
       "  <Ligand containing 1 Atom. Ligand code: ZN>,\n",
       "  <Ligand containing 1 Atom. Ligand code: HOH>,\n",
       "  <Ligand containing 1 Atom. Ligand code: HOH>,\n",
       "  <Ligand containing 1 Atom. Ligand code: HOH>,\n",
       "  <Ligand containing 1 Atom. Ligand code: HOH>,\n",
       "  <Residue containing 8 Atoms. Residue code: ASP>,\n",
       "  <Residue containing 8 Atoms. Residue code: ASN>,\n",
       "  <Ligand containing 1 Atom. Ligand code: HOH>,\n",
       "  <Ligand containing 1 Atom. Ligand code: HOH>],\n",
       " [<Residue containing 8 Atoms. Residue code: ASP>,\n",
       "  <Residue containing 8 Atoms. Residue code: ASN>,\n",
       "  <Ligand containing 1 Atom. Ligand code: ZN>,\n",
       "  <Ligand containing 4 Atoms. Ligand code: ACT>,\n",
       "  <Ligand containing 1 Atom. Ligand code: HOH>,\n",
       "  <Ligand containing 1 Atom. Ligand code: HOH>,\n",
       "  <Ligand containing 1 Atom. Ligand code: HOH>],\n",
       " [<Residue containing 10 Atoms. Residue code: HIS>,\n",
       "  <Residue containing 9 Atoms. Residue code: LYS>,\n",
       "  <Residue containing 10 Atoms. Residue code: HIS>,\n",
       "  <Ligand containing 1 Atom. Ligand code: ZN>,\n",
       "  <Ligand containing 4 Atoms. Ligand code: EDO>],\n",
       " [<Residue containing 8 Atoms. Residue code: ASP>,\n",
       "  <Residue containing 8 Atoms. Residue code: ASN>,\n",
       "  <Ligand containing 1 Atom. Ligand code: ZN>,\n",
       "  <Ligand containing 4 Atoms. Ligand code: ACT>,\n",
       "  <Ligand containing 1 Atom. Ligand code: HOH>,\n",
       "  <Ligand containing 1 Atom. Ligand code: HOH>,\n",
       "  <Ligand containing 1 Atom. Ligand code: HOH>],\n",
       " [<Residue containing 6 Atoms. Residue code: CYS>,\n",
       "  <Residue containing 10 Atoms. Residue code: HIS>,\n",
       "  <Residue containing 6 Atoms. Residue code: CYS>,\n",
       "  <Residue containing 6 Atoms. Residue code: CYS>,\n",
       "  <Ligand containing 1 Atom. Ligand code: ZN>],\n",
       " [<Residue containing 6 Atoms. Residue code: CYS>,\n",
       "  <Residue containing 10 Atoms. Residue code: HIS>,\n",
       "  <Residue containing 6 Atoms. Residue code: CYS>,\n",
       "  <Residue containing 6 Atoms. Residue code: CYS>,\n",
       "  <Ligand containing 1 Atom. Ligand code: ZN>],\n",
       " [<Residue containing 6 Atoms. Residue code: CYS>,\n",
       "  <Residue containing 10 Atoms. Residue code: HIS>,\n",
       "  <Residue containing 6 Atoms. Residue code: CYS>,\n",
       "  <Residue containing 6 Atoms. Residue code: CYS>,\n",
       "  <Ligand containing 1 Atom. Ligand code: ZN>],\n",
       " [<Residue containing 6 Atoms. Residue code: CYS>,\n",
       "  <Residue containing 10 Atoms. Residue code: HIS>,\n",
       "  <Residue containing 6 Atoms. Residue code: CYS>,\n",
       "  <Residue containing 6 Atoms. Residue code: CYS>,\n",
       "  <Ligand containing 1 Atom. Ligand code: ZN>],\n",
       " [<Residue containing 10 Atoms. Residue code: CYS>,\n",
       "  <Residue containing 10 Atoms. Residue code: ALA>,\n",
       "  <Residue containing 10 Atoms. Residue code: CYS>,\n",
       "  <Residue containing 10 Atoms. Residue code: CYS>,\n",
       "  <Residue containing 10 Atoms. Residue code: CYS>,\n",
       "  <Ligand containing 1 Atom. Ligand code: ZN>],\n",
       " [<Residue containing 6 Atoms. Residue code: CYS>,\n",
       "  <Residue containing 6 Atoms. Residue code: CYS>,\n",
       "  <Residue containing 6 Atoms. Residue code: CYS>,\n",
       "  <Residue containing 6 Atoms. Residue code: CYS>,\n",
       "  <Ligand containing 1 Atom. Ligand code: ZN>],\n",
       " [<Residue containing 6 Atoms. Residue code: CYS>,\n",
       "  <Residue containing 6 Atoms. Residue code: CYS>,\n",
       "  <Residue containing 10 Atoms. Residue code: HIS>,\n",
       "  <Residue containing 6 Atoms. Residue code: CYS>,\n",
       "  <Ligand containing 1 Atom. Ligand code: ZN>],\n",
       " [<Residue containing 10 Atoms. Residue code: CYS>,\n",
       "  <Residue containing 24 Atoms. Residue code: ARG>,\n",
       "  <Residue containing 10 Atoms. Residue code: CYS>,\n",
       "  <Residue containing 10 Atoms. Residue code: CYS>,\n",
       "  <Residue containing 10 Atoms. Residue code: CYS>,\n",
       "  <Residue containing 10 Atoms. Residue code: CYS>,\n",
       "  <Ligand containing 1 Atom. Ligand code: ZN>],\n",
       " [<Residue containing 10 Atoms. Residue code: CYS>,\n",
       "  <Residue containing 10 Atoms. Residue code: CYS>,\n",
       "  <Residue containing 10 Atoms. Residue code: CYS>,\n",
       "  <Residue containing 10 Atoms. Residue code: CYS>,\n",
       "  <Residue containing 17 Atoms. Residue code: HIS>,\n",
       "  <Ligand containing 1 Atom. Ligand code: ZN>],\n",
       " [<Residue containing 10 Atoms. Residue code: CYS>,\n",
       "  <Residue containing 12 Atoms. Residue code: ASP>,\n",
       "  <Residue containing 10 Atoms. Residue code: CYS>,\n",
       "  <Residue containing 17 Atoms. Residue code: HIS>,\n",
       "  <Residue containing 17 Atoms. Residue code: HIS>,\n",
       "  <Ligand containing 1 Atom. Ligand code: ZN>],\n",
       " [<Residue containing 10 Atoms. Residue code: CYS>,\n",
       "  <Residue containing 24 Atoms. Residue code: ARG>,\n",
       "  <Residue containing 10 Atoms. Residue code: CYS>,\n",
       "  <Residue containing 10 Atoms. Residue code: CYS>,\n",
       "  <Residue containing 10 Atoms. Residue code: CYS>,\n",
       "  <Residue containing 10 Atoms. Residue code: CYS>,\n",
       "  <Ligand containing 1 Atom. Ligand code: ZN>],\n",
       " [<Residue containing 10 Atoms. Residue code: CYS>,\n",
       "  <Residue containing 10 Atoms. Residue code: CYS>,\n",
       "  <Residue containing 10 Atoms. Residue code: CYS>,\n",
       "  <Residue containing 10 Atoms. Residue code: CYS>,\n",
       "  <Residue containing 17 Atoms. Residue code: HIS>,\n",
       "  <Ligand containing 1 Atom. Ligand code: ZN>],\n",
       " [<Residue containing 10 Atoms. Residue code: CYS>,\n",
       "  <Residue containing 12 Atoms. Residue code: ASP>,\n",
       "  <Residue containing 10 Atoms. Residue code: CYS>,\n",
       "  <Residue containing 19 Atoms. Residue code: ILE>,\n",
       "  <Residue containing 17 Atoms. Residue code: HIS>,\n",
       "  <Residue containing 17 Atoms. Residue code: HIS>,\n",
       "  <Ligand containing 1 Atom. Ligand code: ZN>],\n",
       " [<Residue containing 6 Atoms. Residue code: CYS>,\n",
       "  <Residue containing 6 Atoms. Residue code: CYS>,\n",
       "  <Residue containing 6 Atoms. Residue code: CYS>,\n",
       "  <Residue containing 6 Atoms. Residue code: CYS>,\n",
       "  <Ligand containing 1 Atom. Ligand code: ZN>],\n",
       " [<Residue containing 6 Atoms. Residue code: CYS>,\n",
       "  <Residue containing 6 Atoms. Residue code: CYS>,\n",
       "  <Residue containing 10 Atoms. Residue code: HIS>,\n",
       "  <Residue containing 6 Atoms. Residue code: CYS>,\n",
       "  <Residue containing 9 Atoms. Residue code: GLN>,\n",
       "  <Ligand containing 1 Atom. Ligand code: ZN>],\n",
       " [<Residue containing 10 Atoms. Residue code: CYS>,\n",
       "  <Residue containing 24 Atoms. Residue code: ARG>,\n",
       "  <Residue containing 10 Atoms. Residue code: CYS>,\n",
       "  <Residue containing 10 Atoms. Residue code: CYS>,\n",
       "  <Residue containing 10 Atoms. Residue code: CYS>,\n",
       "  <Residue containing 10 Atoms. Residue code: CYS>,\n",
       "  <Residue containing 17 Atoms. Residue code: HIS>,\n",
       "  <Ligand containing 1 Atom. Ligand code: ZN>],\n",
       " [<Residue containing 10 Atoms. Residue code: CYS>,\n",
       "  <Residue containing 10 Atoms. Residue code: CYS>,\n",
       "  <Residue containing 10 Atoms. Residue code: CYS>,\n",
       "  <Residue containing 10 Atoms. Residue code: CYS>,\n",
       "  <Residue containing 22 Atoms. Residue code: LYS>,\n",
       "  <Residue containing 17 Atoms. Residue code: HIS>,\n",
       "  <Ligand containing 1 Atom. Ligand code: ZN>],\n",
       " [<Residue containing 10 Atoms. Residue code: CYS>,\n",
       "  <Residue containing 12 Atoms. Residue code: ASP>,\n",
       "  <Residue containing 10 Atoms. Residue code: CYS>,\n",
       "  <Residue containing 19 Atoms. Residue code: ILE>,\n",
       "  <Residue containing 17 Atoms. Residue code: HIS>,\n",
       "  <Residue containing 17 Atoms. Residue code: HIS>,\n",
       "  <Ligand containing 1 Atom. Ligand code: ZN>],\n",
       " [<Residue containing 6 Atoms. Residue code: CYS>,\n",
       "  <Residue containing 6 Atoms. Residue code: CYS>,\n",
       "  <Residue containing 6 Atoms. Residue code: CYS>,\n",
       "  <Residue containing 6 Atoms. Residue code: CYS>,\n",
       "  <Ligand containing 1 Atom. Ligand code: ZN>],\n",
       " [<Residue containing 6 Atoms. Residue code: CYS>,\n",
       "  <Residue containing 6 Atoms. Residue code: CYS>,\n",
       "  <Residue containing 10 Atoms. Residue code: HIS>,\n",
       "  <Residue containing 6 Atoms. Residue code: CYS>,\n",
       "  <Ligand containing 6 Atoms. Ligand code: GOL>,\n",
       "  <Ligand containing 1 Atom. Ligand code: ZN>],\n",
       " [<Residue containing 6 Atoms. Residue code: CYS>,\n",
       "  <Residue containing 6 Atoms. Residue code: CYS>,\n",
       "  <Residue containing 6 Atoms. Residue code: CYS>,\n",
       "  <Residue containing 6 Atoms. Residue code: CYS>,\n",
       "  <Ligand containing 1 Atom. Ligand code: ZN>],\n",
       " [<Residue containing 6 Atoms. Residue code: CYS>,\n",
       "  <Residue containing 6 Atoms. Residue code: CYS>,\n",
       "  <Residue containing 10 Atoms. Residue code: HIS>,\n",
       "  <Residue containing 6 Atoms. Residue code: CYS>,\n",
       "  <Ligand containing 1 Atom. Ligand code: ZN>],\n",
       " [<Residue containing 6 Atoms. Residue code: CYS>,\n",
       "  <Residue containing 6 Atoms. Residue code: CYS>,\n",
       "  <Residue containing 6 Atoms. Residue code: CYS>,\n",
       "  <Residue containing 6 Atoms. Residue code: CYS>,\n",
       "  <Ligand containing 1 Atom. Ligand code: ZN>],\n",
       " [<Residue containing 6 Atoms. Residue code: CYS>,\n",
       "  <Residue containing 6 Atoms. Residue code: CYS>,\n",
       "  <Residue containing 10 Atoms. Residue code: HIS>,\n",
       "  <Residue containing 6 Atoms. Residue code: CYS>,\n",
       "  <Ligand containing 1 Atom. Ligand code: ZN>],\n",
       " [<Residue containing 6 Atoms. Residue code: CYS>,\n",
       "  <Residue containing 6 Atoms. Residue code: CYS>,\n",
       "  <Residue containing 6 Atoms. Residue code: CYS>,\n",
       "  <Residue containing 6 Atoms. Residue code: CYS>,\n",
       "  <Ligand containing 1 Atom. Ligand code: ZN>]]"
      ]
     },
     "execution_count": 60,
     "metadata": {},
     "output_type": "execute_result"
    }
   ],
   "source": [
    "my_zn_envs"
   ]
  },
  {
   "cell_type": "code",
   "execution_count": 61,
   "metadata": {},
   "outputs": [],
   "source": [
    "my_distances = {}\n",
    "for x in list(my_amino_acids):\n",
    "    my_distances[x] = []\n",
    "    \n",
    "for env in my_zn_envs:\n",
    "    my_zinc = None\n",
    "    for residue in env:\n",
    "        if residue.mol_code == \"ZN\":\n",
    "            my_zinc = residue\n",
    "    \n",
    "    for residue in env:\n",
    "        if type(residue) is ampal.protein.Residue:\n",
    "            my_distance = ampal.geometry.distance(my_zinc['ZN'],residue['CA'])\n",
    "            my_distances[residue.mol_letter].append(my_distance)"
   ]
  },
  {
   "cell_type": "markdown",
   "metadata": {},
   "source": [
    "### Find the average distance for the cysteine residues"
   ]
  },
  {
   "cell_type": "code",
   "execution_count": 62,
   "metadata": {},
   "outputs": [
    {
     "data": {
      "text/plain": [
       "4.372483100093973"
      ]
     },
     "execution_count": 62,
     "metadata": {},
     "output_type": "execute_result"
    }
   ],
   "source": [
    "import numpy as np\n",
    "cys_array = np.array(my_distances['C'])\n",
    "np.mean(cys_array)"
   ]
  },
  {
   "cell_type": "code",
   "execution_count": 63,
   "metadata": {},
   "outputs": [
    {
     "data": {
      "text/plain": [
       "0.2911497188993581"
      ]
     },
     "execution_count": 63,
     "metadata": {},
     "output_type": "execute_result"
    }
   ],
   "source": [
    "np.std(cys_array)"
   ]
  },
  {
   "cell_type": "markdown",
   "metadata": {},
   "source": [
    "## Phenylalanine?\n",
    "One of the zinc binding sites has a phenylalanine residue close by. Find it, and see if you can work out what role the phenylalanine might be playing, if any."
   ]
  },
  {
   "cell_type": "code",
   "execution_count": 64,
   "metadata": {},
   "outputs": [
    {
     "name": "stdout",
     "output_type": "stream",
     "text": [
      "PDB code is 4L7X\n",
      "Chain ID is A\n",
      "Residue number is 30\n",
      "Zinc is 101 A\n"
     ]
    }
   ],
   "source": [
    "for env in my_zn_envs:\n",
    "    for residue in env:\n",
    "        if residue.mol_code == \"PHE\":\n",
    "            my_phe_assembly = isambard.ampal.Polypeptide(env)\n",
    "            print (\"PDB code is {}\".format(residue.parent.parent.id))\n",
    "            print (\"Chain ID is {}\".format(residue.parent.id))\n",
    "            print (\"Residue number is {}\".format(residue.id))\n",
    "            \n",
    "            for residue in env:\n",
    "                if residue.mol_code == \"ZN\":\n",
    "                    print (\"Zinc is {} {}\".format(residue.id, residue.parent.id))"
   ]
  },
  {
   "cell_type": "code",
   "execution_count": 65,
   "metadata": {},
   "outputs": [
    {
     "data": {
      "application/vnd.jupyter.widget-view+json": {
       "model_id": "8f9a5366776a442bbe739c8b03bf7ad9",
       "version_major": 2,
       "version_minor": 0
      },
      "text/plain": [
       "NGLWidget()"
      ]
     },
     "metadata": {},
     "output_type": "display_data"
    }
   ],
   "source": [
    "view = nv.show_file(\"pdbs/4L7X.pdb\")\n",
    "view.add_representation('spacefill',selection=\"101:A\",color='green')\n",
    "view.add_ball_and_stick(\"{}:{}\".format(\" or \".join([str(x.id) for x in my_phe_assembly]),'A'))\n",
    "view"
   ]
  },
  {
   "cell_type": "markdown",
   "metadata": {},
   "source": [
    "## Summary\n",
    "You should now be able to:\n",
    "\n",
    "+ import PDB structures into the AMPAL framework\n",
    "+ query structures by secondary structure and residue identity\n",
    "+ tag AMPAL objects \n",
    "+ look at the environment around certain atoms\n",
    "+ calculate distances between atoms"
   ]
  }
 ],
 "metadata": {
  "kernelspec": {
   "display_name": "Python 3",
   "language": "python",
   "name": "python3"
  },
  "language_info": {
   "codemirror_mode": {
    "name": "ipython",
    "version": 3
   },
   "file_extension": ".py",
   "mimetype": "text/x-python",
   "name": "python",
   "nbconvert_exporter": "python",
   "pygments_lexer": "ipython3",
   "version": "3.7.1"
  }
 },
 "nbformat": 4,
 "nbformat_minor": 2
}
