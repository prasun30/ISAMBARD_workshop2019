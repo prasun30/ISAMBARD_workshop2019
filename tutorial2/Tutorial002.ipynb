{
 "cells": [
  {
   "cell_type": "markdown",
   "metadata": {},
   "source": [
    "# Parametric Modelling in ISAMBARD"
   ]
  },
  {
   "cell_type": "code",
   "execution_count": 91,
   "metadata": {},
   "outputs": [],
   "source": [
    "import itertools\n",
    "from pprint import pprint\n",
    "\n",
    "import matplotlib.pyplot as plt\n",
    "import nglview as nv\n",
    "import numpy\n",
    "\n",
    "%matplotlib inline"
   ]
  },
  {
   "cell_type": "code",
   "execution_count": 92,
   "metadata": {},
   "outputs": [],
   "source": [
    "import isambard"
   ]
  },
  {
   "cell_type": "code",
   "execution_count": 93,
   "metadata": {},
   "outputs": [],
   "source": [
    "def show_ball_and_stick(ampal):\n",
    "    view = nv.show_text(ampal.pdb)\n",
    "    view.add_ball_and_stick()\n",
    "    view.remove_cartoon()\n",
    "    return view"
   ]
  },
  {
   "cell_type": "markdown",
   "metadata": {},
   "source": [
    "## What is parametric modelling?"
   ]
  },
  {
   "cell_type": "markdown",
   "metadata": {},
   "source": [
    "Parametric modelling is a method of creating models of biomolecular structure using a simple geometric description of the shape of the molecule. The molecular structure of the protein backbone enables it to adopt a huge number of conformations, but if we are modelling an amino acid sequence that is likely to be a parametrisable protein fold, we can reduce the complexity of modelling the sequence by using this simplified geometric description."
   ]
  },
  {
   "cell_type": "markdown",
   "metadata": {},
   "source": [
    "The most famous example of a parametrisable protein fold is the α-helical coiled coil, which accounts for ~5% of all protein-encoding DNA. This fold consists of two or more α-helices that wrap around each other to form a rope-like super-helical structure. Their structures range from very simple to highly complex, but at the core, all these structures can be described using a simple mathematical model. In the simplest case, only 3 geometric parameters are required to describe the position of all backbone atoms with near atomic precision! These parameters are pitch, radius and interface angle (also known as ϕCα) (Figure 1)."
   ]
  },
  {
   "cell_type": "markdown",
   "metadata": {},
   "source": [
    "<figure>\n",
    "    <img src=\"imgs/figure1.png\" alt=\"Structure of α-helical coiled coil.\">\n",
    "    <figcaption>\n",
    "        **Figure 1. Structure of α-helical coiled coils.** (A) Helical-wheel diagrams showing\n",
    "        the projection of residues in the heptad repeat. (B) Helices in a coiled coil pack \n",
    "        closely together, forming knobs-into-holes interactions. (C) Coiled coils can be \n",
    "        described using three geometric parameters: interface angle (°), radius (Å), and \n",
    "        pitch (Å).\n",
    "    </figcaption>\n",
    "</figure>"
   ]
  },
  {
   "cell_type": "markdown",
   "metadata": {},
   "source": [
    "You can get a better feeling for what these parameters represent by playing with [CCBuilder 2.0](http://coiledcoils.chm.bris.ac.uk/ccbuilder2/builder). CCBuilder is a interactive web application for modelling coiled coils, built on top of ISAMBARD. Under the hood it uses a lot of the functionality that we'll be learning about in this tutorial."
   ]
  },
  {
   "cell_type": "markdown",
   "metadata": {},
   "source": [
    "## Specifications"
   ]
  },
  {
   "cell_type": "markdown",
   "metadata": {},
   "source": [
    "Parametric models in ISAMBARD are known as \"specifications\", a term borrowed from the field of architecture, where a specification is defined as \"a detailed description of the design and materials used to make something\". There are two types of specifications, one at the `Polymer` level and one at the `Assembly` level. `Polymer` specifications describe regions of regular backbone structure, like an α-helix. `Assembly` specifications describe how regions of secondary structure assemble together."
   ]
  },
  {
   "cell_type": "markdown",
   "metadata": {},
   "source": [
    "### The Coiled-Coil Specification"
   ]
  },
  {
   "cell_type": "markdown",
   "metadata": {},
   "source": [
    "Let's start by building modelling some coiled coils. The very simplest way of creating a model is to build it using typical parameters for a particular oligomeric state of coiled coil."
   ]
  },
  {
   "cell_type": "code",
   "execution_count": 94,
   "metadata": {},
   "outputs": [],
   "source": [
    "import isambard.specifications as specs\n",
    "import isambard.modelling as modelling\n"
   ]
  },
  {
   "cell_type": "code",
   "execution_count": 95,
   "metadata": {},
   "outputs": [],
   "source": [
    "dimer = specs.CoiledCoil(2)"
   ]
  },
  {
   "cell_type": "code",
   "execution_count": 96,
   "metadata": {},
   "outputs": [
    {
     "data": {
      "application/vnd.jupyter.widget-view+json": {
       "model_id": "1640f6dd58cc47488329f52e5098a167",
       "version_major": 2,
       "version_minor": 0
      },
      "text/plain": [
       "NGLWidget()"
      ]
     },
     "metadata": {},
     "output_type": "display_data"
    }
   ],
   "source": [
    "show_ball_and_stick(dimer)"
   ]
  },
  {
   "cell_type": "code",
   "execution_count": 97,
   "metadata": {},
   "outputs": [
    {
     "data": {
      "text/plain": [
       "<Assembly containing 2 Polypeptides>"
      ]
     },
     "execution_count": 97,
     "metadata": {},
     "output_type": "execute_result"
    }
   ],
   "source": [
    "dimer"
   ]
  },
  {
   "cell_type": "markdown",
   "metadata": {},
   "source": [
    "Parametric models in ISAMBARD are AMPAL objects, just the same as any other structure that you might load in, so you can use the same tools that you encountered in the first tutorial to analyse their structure. They do contain some extra functionality though, such as the attributes and methods required to create the backbone model. Let's take a look at the values of the coiled coil parameters described above."
   ]
  },
  {
   "cell_type": "code",
   "execution_count": 98,
   "metadata": {},
   "outputs": [
    {
     "name": "stdout",
     "output_type": "stream",
     "text": [
      "Radii: [5.07, 5.07]\n",
      "Pitch values: [225.8, 225.8]\n",
      "Interface Angles: [283.56, 283.56]\n"
     ]
    }
   ],
   "source": [
    "print(\"Radii: {}\\nPitch values: {}\\nInterface Angles: {}\".format(\n",
    "    dimer.major_radii, dimer.major_pitches, dimer.phi_c_alphas))"
   ]
  },
  {
   "cell_type": "markdown",
   "metadata": {},
   "source": [
    "Here you can see that there are *n* values for each parameters, where *n* is equal to the oligomeric state. This is because the coiled coil parameters are defined relative to the super-helical axis."
   ]
  },
  {
   "cell_type": "markdown",
   "metadata": {},
   "source": [
    "Let's add some sidechains to this structure.\n",
    "\n",
    "> **Note**<br/>Currently we use [SCWRL4](http://dunbrack.fccc.edu/scwrl4/) to add sidechains to structures, so you need to download a copy if you want to do this on your own computer. It requires a license but is free for academics."
   ]
  },
  {
   "cell_type": "code",
   "execution_count": 99,
   "metadata": {},
   "outputs": [
    {
     "data": {
      "text/plain": [
       "['EIAALKQEIAALKKENAALKWEIAALKQ', 'EIAALKQEIAALKKENAALKWEIAALKQ']"
      ]
     },
     "execution_count": 99,
     "metadata": {},
     "output_type": "execute_result"
    }
   ],
   "source": [
    "dimer.basis_set_sequences"
   ]
  },
  {
   "cell_type": "code",
   "execution_count": 100,
   "metadata": {},
   "outputs": [
    {
     "data": {
      "text/plain": [
       "<Assembly containing 2 Polypeptides>"
      ]
     },
     "execution_count": 100,
     "metadata": {},
     "output_type": "execute_result"
    }
   ],
   "source": [
    "modelling.pack_side_chains_scwrl(dimer, dimer.basis_set_sequences)"
   ]
  },
  {
   "cell_type": "code",
   "execution_count": 101,
   "metadata": {},
   "outputs": [
    {
     "data": {
      "application/vnd.jupyter.widget-view+json": {
       "model_id": "f64151ffe4314b498011a9fd9fba47f3",
       "version_major": 2,
       "version_minor": 0
      },
      "text/plain": [
       "NGLWidget()"
      ]
     },
     "metadata": {},
     "output_type": "display_data"
    }
   ],
   "source": [
    "show_ball_and_stick(dimer)"
   ]
  },
  {
   "cell_type": "markdown",
   "metadata": {},
   "source": [
    "You can also create any <i>n</i>mer in the same way."
   ]
  },
  {
   "cell_type": "code",
   "execution_count": 102,
   "metadata": {},
   "outputs": [],
   "source": [
    "trimer = isambard.specifications.CoiledCoil(3)\n",
    "tetramer = isambard.specifications.CoiledCoil(4)\n",
    "pentamer = isambard.specifications.CoiledCoil(5)\n",
    "hexamer = isambard.specifications.CoiledCoil(6)"
   ]
  },
  {
   "cell_type": "code",
   "execution_count": 103,
   "metadata": {},
   "outputs": [
    {
     "name": "stdout",
     "output_type": "stream",
     "text": [
      "[<Assembly containing 2 Polypeptides>,\n",
      " <Assembly containing 3 Polypeptides>,\n",
      " <Assembly containing 4 Polypeptides>,\n",
      " <Assembly containing 5 Polypeptides>,\n",
      " <Assembly containing 6 Polypeptides>]\n"
     ]
    }
   ],
   "source": [
    "pprint([dimer, trimer, tetramer, pentamer, hexamer])"
   ]
  },
  {
   "cell_type": "markdown",
   "metadata": {},
   "source": [
    "Chances are though that you'll want to actually change the parameters used to create the model, it is parametric modelling after all!"
   ]
  },
  {
   "cell_type": "markdown",
   "metadata": {},
   "source": [
    "### Building with Parameters"
   ]
  },
  {
   "cell_type": "markdown",
   "metadata": {},
   "source": [
    "While we can directly modify the parameters on the models we created earlier, it's not a particularly convenient method of generating models, so we can use the `from_parameters` class method instead. Let's have a look at the documentation for this."
   ]
  },
  {
   "cell_type": "code",
   "execution_count": 104,
   "metadata": {},
   "outputs": [
    {
     "name": "stdout",
     "output_type": "stream",
     "text": [
      "Help on method from_parameters in module isambard.specifications.coiledcoil:\n",
      "\n",
      "from_parameters(n, aa=28, major_radius=None, major_pitch=None, phi_c_alpha=26.42, minor_helix_type='alpha', auto_build=True) method of builtins.type instance\n",
      "    Creates a `CoiledCoil` from defined super-helical parameters.\n",
      "    \n",
      "    Parameters\n",
      "    ----------\n",
      "    n : int\n",
      "        Oligomeric state\n",
      "    aa : int, optional\n",
      "        Number of amino acids per minor helix.\n",
      "    major_radius : float, optional\n",
      "        Radius of super helix.\n",
      "    major_pitch : float, optional\n",
      "        Pitch of super helix.\n",
      "    phi_c_alpha : float, optional\n",
      "        Rotation of minor helices relative to the super-helical\n",
      "        axis.\n",
      "    minor_helix_type : float, optional\n",
      "        Helix type of minor helices. Can be: 'alpha', 'pi', '3-10',\n",
      "        'PPI', 'PP2', 'collagen'.\n",
      "    auto_build : bool, optional\n",
      "        If `True`, the model will be built as part of instantiation.\n",
      "\n"
     ]
    }
   ],
   "source": [
    "help(isambard.specifications.CoiledCoil.from_parameters)"
   ]
  },
  {
   "cell_type": "markdown",
   "metadata": {},
   "source": [
    "> ### Note\n",
    "> Don't forget that you can see information on specific functions/classes in a number of ways:\n",
    "> 1. Check the [API documentation](https://woolfson-group.github.io/isambard/api_reference.html)\n",
    "> 1. Take a look at the [source code](https://github.com/woolfson-group/isambard/tree/master/isambard)\n",
    "> 1. Shift+Tab inside the round brackets if you're using Jupyter Notebook\n",
    "> 1. Use the Python `help` function i.e. `help(isambard.specifications.CoiledCoil.from_parameters)`"
   ]
  },
  {
   "cell_type": "markdown",
   "metadata": {},
   "source": [
    "Here you can see all the parameters available; oligomeric state is the only required parameter, the others you could leave blank and it will function in pretty much the same as instantiating `CoiledCoil` directly. Let's make a dimer again but explicitly state the parameters."
   ]
  },
  {
   "cell_type": "code",
   "execution_count": 105,
   "metadata": {},
   "outputs": [],
   "source": [
    "dimer_exp_params = isambard.specifications.CoiledCoil.from_parameters(\n",
    "    2, 28, 5, 225, 283) # i.e. 2 chains, 28 residues, radius 5Å, pitch 225Å, phi-c-alpha 283°"
   ]
  },
  {
   "cell_type": "code",
   "execution_count": 106,
   "metadata": {},
   "outputs": [
    {
     "data": {
      "text/plain": [
       "<Assembly containing 2 Polypeptides>"
      ]
     },
     "execution_count": 106,
     "metadata": {},
     "output_type": "execute_result"
    }
   ],
   "source": [
    "modelling.pack_side_chains_scwrl(dimer_exp_params,dimer.basis_set_sequences)"
   ]
  },
  {
   "cell_type": "code",
   "execution_count": 107,
   "metadata": {
    "scrolled": true
   },
   "outputs": [
    {
     "data": {
      "application/vnd.jupyter.widget-view+json": {
       "model_id": "0b1750af558a4c06a9d88a2679a1010c",
       "version_major": 2,
       "version_minor": 0
      },
      "text/plain": [
       "NGLWidget()"
      ]
     },
     "metadata": {},
     "output_type": "display_data"
    }
   ],
   "source": [
    "show_ball_and_stick(dimer_exp_params)"
   ]
  },
  {
   "cell_type": "markdown",
   "metadata": {},
   "source": [
    "When modelling coiled coils, it can be useful to talk about the interface angle relative to the *a* position residue, and so you adjust its value based on the register of your sequence *i.e.* which heptad position is your first residue (Figure 1). Here's a little dictionary to convert your register to an interface angle at *a*."
   ]
  },
  {
   "cell_type": "code",
   "execution_count": 108,
   "metadata": {},
   "outputs": [],
   "source": [
    "REGISTER_ADJUST = {\n",
    "    'a': 0,\n",
    "    'b': 102.8,\n",
    "    'c': 205.6,\n",
    "    'd': 308.4,\n",
    "    'e': 51.4,\n",
    "    'f': 154.2,\n",
    "    'g': 257\n",
    "}"
   ]
  },
  {
   "cell_type": "markdown",
   "metadata": {},
   "source": [
    "Let's use this to make it easier to think about our sequence. The basis set dimer sequence starts at a *g* position, and usually the *a* position residues sit at around 26° (see Figure 1C)."
   ]
  },
  {
   "cell_type": "code",
   "execution_count": 109,
   "metadata": {},
   "outputs": [],
   "source": [
    "dimer_with_reg = isambard.specifications.CoiledCoil.from_parameters(2, 28, 4.8, 160, REGISTER_ADJUST['g']+26)"
   ]
  },
  {
   "cell_type": "code",
   "execution_count": 110,
   "metadata": {},
   "outputs": [
    {
     "data": {
      "text/plain": [
       "<Assembly containing 2 Polypeptides>"
      ]
     },
     "execution_count": 110,
     "metadata": {},
     "output_type": "execute_result"
    }
   ],
   "source": [
    "modelling.pack_side_chains_scwrl(dimer_with_reg,dimer.basis_set_sequences)"
   ]
  },
  {
   "cell_type": "code",
   "execution_count": 111,
   "metadata": {
    "scrolled": true
   },
   "outputs": [
    {
     "data": {
      "application/vnd.jupyter.widget-view+json": {
       "model_id": "f4f6b058cd7f4d4ca80906524c64a69a",
       "version_major": 2,
       "version_minor": 0
      },
      "text/plain": [
       "NGLWidget()"
      ]
     },
     "metadata": {},
     "output_type": "display_data"
    }
   ],
   "source": [
    "show_ball_and_stick(dimer_with_reg)"
   ]
  },
  {
   "cell_type": "markdown",
   "metadata": {},
   "source": [
    "If we change the register of our sequence we just need to update the adjust value."
   ]
  },
  {
   "cell_type": "code",
   "execution_count": 112,
   "metadata": {},
   "outputs": [],
   "source": [
    "f_dimer_sequences = [\n",
    "    'QEIAALKKENAALKWEIAALKQEIAALK',\n",
    "    'QEIAALKKENAALKWEIAALKQEIAALK'\n",
    "#    fgabcdefgabcdefgabcdefgabcde\n",
    "]"
   ]
  },
  {
   "cell_type": "code",
   "execution_count": 113,
   "metadata": {},
   "outputs": [],
   "source": [
    "f_dimer = isambard.specifications.CoiledCoil.from_parameters(2, 28, 4.8, 160, REGISTER_ADJUST['f']+26)"
   ]
  },
  {
   "cell_type": "code",
   "execution_count": 114,
   "metadata": {},
   "outputs": [
    {
     "data": {
      "text/plain": [
       "<Assembly containing 2 Polypeptides>"
      ]
     },
     "execution_count": 114,
     "metadata": {},
     "output_type": "execute_result"
    }
   ],
   "source": [
    "modelling.pack_side_chains_scwrl(f_dimer, f_dimer_sequences)"
   ]
  },
  {
   "cell_type": "code",
   "execution_count": 115,
   "metadata": {},
   "outputs": [
    {
     "data": {
      "application/vnd.jupyter.widget-view+json": {
       "model_id": "cc49f16eb36742a9ab512721f3f2b9c9",
       "version_major": 2,
       "version_minor": 0
      },
      "text/plain": [
       "NGLWidget()"
      ]
     },
     "metadata": {},
     "output_type": "display_data"
    }
   ],
   "source": [
    "show_ball_and_stick(f_dimer)"
   ]
  },
  {
   "cell_type": "markdown",
   "metadata": {},
   "source": [
    "As you can see, the hydrophobic core is still buried."
   ]
  },
  {
   "cell_type": "markdown",
   "metadata": {},
   "source": [
    "> ### Problem\n",
    "> Try changing the register without updating the sequence. What happens?"
   ]
  },
  {
   "cell_type": "markdown",
   "metadata": {},
   "source": [
    "## Parametric Power! (and associated responsibility)"
   ]
  },
  {
   "cell_type": "markdown",
   "metadata": {},
   "source": [
    "The only restriction on the conformations that you can model in ISAMBARD is the underlying geometric description in the specification, which means that you can build any backbone structure that is geometrically possible. This is very powerful as you can model protein structures that have not been observed in nature, and use the models as the basis for design. Let's make a dimer with some weird parameters."
   ]
  },
  {
   "cell_type": "code",
   "execution_count": 116,
   "metadata": {},
   "outputs": [],
   "source": [
    "weird_dimer = isambard.specifications.CoiledCoil.from_parameters(2, 60, 10, 80, 180)"
   ]
  },
  {
   "cell_type": "code",
   "execution_count": 117,
   "metadata": {},
   "outputs": [
    {
     "data": {
      "application/vnd.jupyter.widget-view+json": {
       "model_id": "262d73a91dcd4fd5af5f8df9117d6ed5",
       "version_major": 2,
       "version_minor": 0
      },
      "text/plain": [
       "NGLWidget()"
      ]
     },
     "metadata": {},
     "output_type": "display_data"
    }
   ],
   "source": [
    "show_ball_and_stick(weird_dimer)"
   ]
  },
  {
   "cell_type": "code",
   "execution_count": 118,
   "metadata": {},
   "outputs": [],
   "source": [
    "weird_trimer = isambard.specifications.CoiledCoil.from_parameters(3, 20, 6, 1000, 278)"
   ]
  },
  {
   "cell_type": "code",
   "execution_count": 119,
   "metadata": {},
   "outputs": [
    {
     "data": {
      "application/vnd.jupyter.widget-view+json": {
       "model_id": "76dd4b4be00d4c52a4cac6a340de5464",
       "version_major": 2,
       "version_minor": 0
      },
      "text/plain": [
       "NGLWidget()"
      ]
     },
     "metadata": {},
     "output_type": "display_data"
    }
   ],
   "source": [
    "show_ball_and_stick(weird_trimer)"
   ]
  },
  {
   "cell_type": "markdown",
   "metadata": {},
   "source": [
    "These models have extreme values for parameters and so sequences are highly unlikely to fold into these structures. Rather than restricting the parameters that are available to the user (who am I to judge what you build in your own time!), we provide a range of metrics to evaluate the models you produce."
   ]
  },
  {
   "cell_type": "markdown",
   "metadata": {},
   "source": [
    "## Evaluating Models"
   ]
  },
  {
   "cell_type": "markdown",
   "metadata": {},
   "source": [
    "### Geometric Evaluation"
   ]
  },
  {
   "cell_type": "markdown",
   "metadata": {},
   "source": [
    "The `analyse_protein` module provides a range of tools to evaluating the backbone geometry of your model. One of the most useful metrics we can use is the residues per turn (RPT) of the  α-helices in the model. At extreme parameter values, RPT can move away out of the range of values observed in α-helices of known protein structures (Figure 2), which indicates that there is backbone strain in the model."
   ]
  },
  {
   "cell_type": "markdown",
   "metadata": {},
   "source": [
    "<figure>\n",
    "    <img src=\"imgs/figure2.png\" alt=\"Values of residues per turn observed in known structures.\"\n",
    "         height=\"60%\" width=\"60%\">\n",
    "    <figcaption>\n",
    "        **Figure 2. Values of residues per turn observed in known structures**. Grey bars: Values of residues per \n",
    "        turn from helices in known structures. Mean = 3.65 (SD = 0.07). White bars: Values of RPT found in coiled-\n",
    "        coil crystal structures. Mean = 3.62 (SD = 0.07)\n",
    "    </figcaption>\n",
    "</figure>"
   ]
  },
  {
   "cell_type": "markdown",
   "metadata": {},
   "source": [
    "As you can see, this distribution is very tight, so if your number of residues per turn moves too far away from the mean, it's probably indicating that the model isn't very good. Let measure the RPT values on our models."
   ]
  },
  {
   "cell_type": "code",
   "execution_count": 120,
   "metadata": {},
   "outputs": [],
   "source": [
    "import isambard.evaluation\n",
    "dimer_rpt_values = [isambard.ampal.protein.residues_per_turn(p) for p in dimer]"
   ]
  },
  {
   "cell_type": "code",
   "execution_count": 121,
   "metadata": {},
   "outputs": [
    {
     "name": "stdout",
     "output_type": "stream",
     "text": [
      "[[3.6506316833392716,\n",
      "  3.6486507117335076,\n",
      "  3.5745460313287833,\n",
      "  3.5603800498260845,\n",
      "  3.5721808533111257,\n",
      "  3.5913143193800585,\n",
      "  3.5908705570086203,\n",
      "  3.5719395039706803,\n",
      "  3.580871440033611,\n",
      "  3.595708263547801,\n",
      "  3.5803242207383303,\n",
      "  3.572180853311127,\n",
      "  3.59131431938005,\n",
      "  3.590870557008621,\n",
      "  3.571939503970677,\n",
      "  3.5808714400336115,\n",
      "  3.595708263547795,\n",
      "  3.580324220738338,\n",
      "  3.5721808533111252,\n",
      "  3.591314319380059,\n",
      "  3.590870557008626,\n",
      "  3.571939503970661,\n",
      "  3.5808714400336306,\n",
      "  3.569237267541309,\n",
      "  3.5702964614554458,\n",
      "  3.689032859288076,\n",
      "  3.5659429799625113,\n",
      "  None],\n",
      " [3.6506316833392716,\n",
      "  3.6486507117335076,\n",
      "  3.5745460313287833,\n",
      "  3.560380049826084,\n",
      "  3.5721808533111257,\n",
      "  3.591314319380059,\n",
      "  3.59087055700862,\n",
      "  3.5719395039706807,\n",
      "  3.580871440033611,\n",
      "  3.595708263547801,\n",
      "  3.5803242207383303,\n",
      "  3.572180853311129,\n",
      "  3.5913143193800514,\n",
      "  3.5908705570086203,\n",
      "  3.571939503970677,\n",
      "  3.5808714400336115,\n",
      "  3.595708263547796,\n",
      "  3.580324220738337,\n",
      "  3.5721808533111252,\n",
      "  3.5913143193800585,\n",
      "  3.590870557008627,\n",
      "  3.571939503970661,\n",
      "  3.5808714400336306,\n",
      "  3.5692372675413107,\n",
      "  3.5702964614554458,\n",
      "  3.689032859288077,\n",
      "  3.565942979962508,\n",
      "  None]]\n"
     ]
    }
   ],
   "source": [
    "pprint(dimer_rpt_values)"
   ]
  },
  {
   "cell_type": "markdown",
   "metadata": {},
   "source": [
    "`residues_per_turn` takes a `Polypeptide` object and returns a list of RPT values for each residue, so we needed to apply the function to each `Polypeptide` in the dimer `Assembly` (we used a list comprehension to do that, if you're not familiar with the comprehension syntax in Python, have a look at [the docs](https://docs.python.org/3.6/tutorial/datastructures.html#list-comprehensions)). `None` is returned for the last residues as RPT is undefined at the C-terminus."
   ]
  },
  {
   "cell_type": "markdown",
   "metadata": {},
   "source": [
    "Let's calculate the average value. First we want to merge the per chain values together and filter out `None`."
   ]
  },
  {
   "cell_type": "code",
   "execution_count": 123,
   "metadata": {},
   "outputs": [],
   "source": [
    "dimer_rpt_values = itertools.chain(*dimer_rpt_values)  # This flattens a list of lists to a single list\n",
    "dimer_rpt_values = [x for x in dimer_rpt_values if x is not None]  # This removes the Nones"
   ]
  },
  {
   "cell_type": "code",
   "execution_count": 124,
   "metadata": {},
   "outputs": [
    {
     "data": {
      "text/plain": [
       "[3.6506316833392716,\n",
       " 3.6486507117335076,\n",
       " 3.5745460313287833,\n",
       " 3.5603800498260845,\n",
       " 3.5721808533111257,\n",
       " 3.5913143193800585,\n",
       " 3.5908705570086203,\n",
       " 3.5719395039706803,\n",
       " 3.580871440033611,\n",
       " 3.595708263547801,\n",
       " 3.5803242207383303,\n",
       " 3.572180853311127,\n",
       " 3.59131431938005,\n",
       " 3.590870557008621,\n",
       " 3.571939503970677,\n",
       " 3.5808714400336115,\n",
       " 3.595708263547795,\n",
       " 3.580324220738338,\n",
       " 3.5721808533111252,\n",
       " 3.591314319380059,\n",
       " 3.590870557008626,\n",
       " 3.571939503970661,\n",
       " 3.5808714400336306,\n",
       " 3.569237267541309,\n",
       " 3.5702964614554458,\n",
       " 3.689032859288076,\n",
       " 3.5659429799625113,\n",
       " 3.6506316833392716,\n",
       " 3.6486507117335076,\n",
       " 3.5745460313287833,\n",
       " 3.560380049826084,\n",
       " 3.5721808533111257,\n",
       " 3.591314319380059,\n",
       " 3.59087055700862,\n",
       " 3.5719395039706807,\n",
       " 3.580871440033611,\n",
       " 3.595708263547801,\n",
       " 3.5803242207383303,\n",
       " 3.572180853311129,\n",
       " 3.5913143193800514,\n",
       " 3.5908705570086203,\n",
       " 3.571939503970677,\n",
       " 3.5808714400336115,\n",
       " 3.595708263547796,\n",
       " 3.580324220738337,\n",
       " 3.5721808533111252,\n",
       " 3.5913143193800585,\n",
       " 3.590870557008627,\n",
       " 3.571939503970661,\n",
       " 3.5808714400336306,\n",
       " 3.5692372675413107,\n",
       " 3.5702964614554458,\n",
       " 3.689032859288077,\n",
       " 3.565942979962508]"
      ]
     },
     "execution_count": 124,
     "metadata": {},
     "output_type": "execute_result"
    }
   ],
   "source": [
    "dimer_rpt_values"
   ]
  },
  {
   "cell_type": "code",
   "execution_count": 125,
   "metadata": {},
   "outputs": [
    {
     "name": "stdout",
     "output_type": "stream",
     "text": [
      "Mean = 3.59, STD = 0.03\n"
     ]
    }
   ],
   "source": [
    "# We can use the numpy package to calculate the means/std\n",
    "print('Mean = {:.2f}, STD = {:.2f}'.format(numpy.mean(dimer_rpt_values), numpy.std(dimer_rpt_values)))"
   ]
  },
  {
   "cell_type": "markdown",
   "metadata": {},
   "source": [
    "> ### Problem\n",
    "> Calculate the RPT values for the `weird_dimer` and `weird_trimer`. Do they fall inside the observed distributions?"
   ]
  },
  {
   "cell_type": "markdown",
   "metadata": {},
   "source": [
    "### All-Atom Force Fields"
   ]
  },
  {
   "cell_type": "markdown",
   "metadata": {},
   "source": [
    "Another useful way to evaluate your structures is with an all-atom scoring function. The BUDE force field from the Sessions Lab in Bristol (see [this paper](http://dx.doi.org/10.1093/comjnl/bxr091) for more details) is currently bundled with ISAMBARD. We like BUDE because it's fast and suits our purposes, but you can use any force field you like. We can calculate the BUDE energies using built-in properties of the AMPAL objects."
   ]
  },
  {
   "cell_type": "code",
   "execution_count": 129,
   "metadata": {},
   "outputs": [
    {
     "name": "stdout",
     "output_type": "stream",
     "text": [
      "<BUFF Score -473.53: 0.00 St | -72.86 De | -400.67 Ch>\n"
     ]
    }
   ],
   "source": [
    "import budeff\n",
    "dimer_score = budeff.get_internal_energy(dimer)\n",
    "print(dimer_score)"
   ]
  },
  {
   "cell_type": "markdown",
   "metadata": {},
   "source": [
    "The dimer we created earlier has a total BUDE energy of -473.53, which is composed of a steric component (St), an energy of desolvation (De) and a charged component (Ch). This returns a BUDE Force Feild (BUFF) score object, which contains lots of information about the score including the individual components, and all the interactions that the make up the score."
   ]
  },
  {
   "cell_type": "markdown",
   "metadata": {},
   "source": [
    "> ### Note\n",
    "> BUDE follows the thermodynamic convention of lower = more favourable."
   ]
  },
  {
   "cell_type": "code",
   "execution_count": 130,
   "metadata": {},
   "outputs": [
    {
     "data": {
      "text/plain": [
       "-473.5310100001318"
      ]
     },
     "execution_count": 130,
     "metadata": {},
     "output_type": "execute_result"
    }
   ],
   "source": [
    "dimer_score.total_energy"
   ]
  },
  {
   "cell_type": "code",
   "execution_count": 131,
   "metadata": {},
   "outputs": [
    {
     "data": {
      "text/plain": [
       "0.0"
      ]
     },
     "execution_count": 131,
     "metadata": {},
     "output_type": "execute_result"
    }
   ],
   "source": [
    "dimer_score.steric"
   ]
  },
  {
   "cell_type": "code",
   "execution_count": 132,
   "metadata": {},
   "outputs": [
    {
     "data": {
      "text/plain": [
       "-72.85936794154475"
      ]
     },
     "execution_count": 132,
     "metadata": {},
     "output_type": "execute_result"
    }
   ],
   "source": [
    "dimer_score.desolvation"
   ]
  },
  {
   "cell_type": "code",
   "execution_count": 133,
   "metadata": {},
   "outputs": [
    {
     "data": {
      "text/plain": [
       "-400.67164205858745"
      ]
     },
     "execution_count": 133,
     "metadata": {},
     "output_type": "execute_result"
    }
   ],
   "source": [
    "dimer_score.charge"
   ]
  },
  {
   "cell_type": "code",
   "execution_count": 134,
   "metadata": {},
   "outputs": [
    {
     "data": {
      "text/plain": [
       "[((<Nitrogen Atom (N). Coordinates: (-5.419, -1.571, -0.686)>,\n",
       "   <Nitrogen Atom (N). Coordinates: (-5.264, 1.772, 1.915)>),\n",
       "  [0.0, 0.0, 1.9648262809815087]),\n",
       " ((<Carbon Atom (CA). Coordinates: (-4.531, -2.214, 0.311)>,\n",
       "   <Carbon Atom (CA). Coordinates: (-6.356, 2.303, 2.766)>),\n",
       "  [0.0, -0.08967613468933819, 0.0]),\n",
       " ((<Carbon Atom (CA). Coordinates: (-4.531, -2.214, 0.311)>,\n",
       "   <Carbon Atom (C). Coordinates: (-6.547, 1.368, 3.960)>),\n",
       "  [0.0, -0.11825445813706995, 0.0]),\n",
       " ((<Carbon Atom (C). Coordinates: (-3.944, -1.131, 1.217)>,\n",
       "   <Nitrogen Atom (N). Coordinates: (-5.264, 1.772, 1.915)>),\n",
       "  [0.0, 0.10587995169555472, 0.0]),\n",
       " ((<Carbon Atom (C). Coordinates: (-3.944, -1.131, 1.217)>,\n",
       "   <Carbon Atom (CA). Coordinates: (-6.356, 2.303, 2.766)>),\n",
       "  [0.0, -0.14974462558846255, 0.0])]"
      ]
     },
     "execution_count": 134,
     "metadata": {},
     "output_type": "execute_result"
    }
   ],
   "source": [
    "dimer_score.inter_scores[:5]"
   ]
  },
  {
   "cell_type": "markdown",
   "metadata": {},
   "source": [
    "The `inter_scores` list contains all the non-zero pairwise atom interaction scores from the structure. Each list item contains a tuple with the pair of atoms and a list of the different BUDE components _i.e._ `[steric, desolvation, charge]`. It can be useful to examine these scores to find clashes or important residues."
   ]
  },
  {
   "cell_type": "markdown",
   "metadata": {},
   "source": [
    "> ### Problem\n",
    "> Try and find other interesting interactions, such as the atom pair with the lowest charged interaction."
   ]
  },
  {
   "cell_type": "markdown",
   "metadata": {},
   "source": [
    "## Fitting Parameters"
   ]
  },
  {
   "cell_type": "markdown",
   "metadata": {},
   "source": [
    "When performing parametric modelling, you might not be sure of the parameters that you should use to best model a given sequence, in this case we can fit parameters for a given sequence."
   ]
  },
  {
   "cell_type": "markdown",
   "metadata": {},
   "source": [
    "### Grid Scan"
   ]
  },
  {
   "cell_type": "markdown",
   "metadata": {},
   "source": [
    "The simplest form of parameter fitting is to perform a grid scan where we uniformly sample parameters across a range of allowed values. Let's perform a grid scan of radius vs interface angle for a dimer. First of all we can define the range of parameter values we want to explore."
   ]
  },
  {
   "cell_type": "code",
   "execution_count": 135,
   "metadata": {},
   "outputs": [],
   "source": [
    "radii = numpy.arange(4, 6, 0.2)  # (min, max, step)\n",
    "interface_angles = numpy.arange(10, 30, 2)"
   ]
  },
  {
   "cell_type": "markdown",
   "metadata": {},
   "source": [
    "Next we'll write a little function to build a model from radius and interface angle values. We're keeping pitch fixed as this has the smallest overall impact on the model quality."
   ]
  },
  {
   "cell_type": "code",
   "execution_count": 137,
   "metadata": {},
   "outputs": [],
   "source": [
    "def build_dimer(radius, interface_angle):\n",
    "    sequences = ['EIAALKQEIAALKKENAALKWEIAALKQ', 'EIAALKQEIAALKKENAALKWEIAALKQ']\n",
    "    gs_dimer = isambard.specifications.CoiledCoil.from_parameters(\n",
    "        2, 28, radius, 160, REGISTER_ADJUST['g']+interface_angle)\n",
    "    modelling.pack_side_chains_scwrl(gs_dimer,sequences)\n",
    "    return gs_dimer"
   ]
  },
  {
   "cell_type": "markdown",
   "metadata": {},
   "source": [
    "Finally we can create an array (a 2D matrix) to hold our results using numpy, and we can populate the grid positions with the BUFF score of each of the corresponding models."
   ]
  },
  {
   "cell_type": "code",
   "execution_count": 138,
   "metadata": {},
   "outputs": [],
   "source": [
    "results_array = numpy.empty((len(radii), len(interface_angles)))\n",
    "for i, radius in enumerate(radii):\n",
    "    for j, interface_angle in enumerate(interface_angles):\n",
    "        dimer_model = build_dimer(radius, interface_angle)\n",
    "        results_array[i][j] = budeff.get_internal_energy(dimer_model).total_energy"
   ]
  },
  {
   "cell_type": "markdown",
   "metadata": {},
   "source": [
    "We can plot a heatmap of the array to show which parameters have the best scores!"
   ]
  },
  {
   "cell_type": "code",
   "execution_count": 139,
   "metadata": {},
   "outputs": [
    {
     "data": {
      "text/plain": [
       "<matplotlib.colorbar.Colorbar at 0x7f2f68805128>"
      ]
     },
     "execution_count": 139,
     "metadata": {},
     "output_type": "execute_result"
    },
    {
     "data": {
      "image/png": "[encoded data removed]",
      "text/plain": [
       "<Figure size 432x288 with 2 Axes>"
      ]
     },
     "metadata": {
      "needs_background": "light"
     },
     "output_type": "display_data"
    }
   ],
   "source": [
    "plt.imshow(results_array)\n",
    "plt.ylabel('Radius (Å)')\n",
    "plt.xlabel('Interface Angle (°)')\n",
    "plt.yticks(range(len(radii)), ['{:.1f}'.format(x) for x in radii])\n",
    "plt.xticks(range(len(interface_angles)), interface_angles)\n",
    "plt.colorbar()"
   ]
  },
  {
   "cell_type": "markdown",
   "metadata": {},
   "source": [
    "The model with a radius of 4.4 Å and interface angle of 18° is the best, let's have a look at the model."
   ]
  },
  {
   "cell_type": "code",
   "execution_count": 141,
   "metadata": {},
   "outputs": [],
   "source": [
    "best_dimer = build_dimer(4.0, 10)"
   ]
  },
  {
   "cell_type": "code",
   "execution_count": 142,
   "metadata": {},
   "outputs": [
    {
     "data": {
      "text/plain": [
       "<BUFF Score -490.56: 0.00 St | -94.52 De | -396.03 Ch>"
      ]
     },
     "execution_count": 142,
     "metadata": {},
     "output_type": "execute_result"
    }
   ],
   "source": [
    "budeff.get_internal_energy(best_dimer)"
   ]
  },
  {
   "cell_type": "code",
   "execution_count": 143,
   "metadata": {
    "scrolled": false
   },
   "outputs": [
    {
     "data": {
      "application/vnd.jupyter.widget-view+json": {
       "model_id": "70a07601ea5a427980e289293bebdf9f",
       "version_major": 2,
       "version_minor": 0
      },
      "text/plain": [
       "NGLWidget()"
      ]
     },
     "metadata": {},
     "output_type": "display_data"
    }
   ],
   "source": [
    "show_ball_and_stick(best_dimer)"
   ]
  },
  {
   "cell_type": "markdown",
   "metadata": {},
   "source": [
    "If you zoom in on the asparagine residues in the core, you should see that they are now forming a nice hydrogen-bonding network. Neat!"
   ]
  },
  {
   "cell_type": "markdown",
   "metadata": {},
   "source": [
    "> ### Problem\n",
    "> Try performing a finer grid scan around the best parameters found by the last grid scan. Stick to at most 100 models or it might take a long time to finish."
   ]
  },
  {
   "cell_type": "markdown",
   "metadata": {},
   "source": [
    "When the parameter space that you want to explore is small, a grid scan is a good option. You can scale up the model building through parallelisation using the [multiprocessing](https://docs.python.org/3/library/multiprocessing.html) module, based on your available resources. However, as you introduce more parameters, it quickly becomes very inefficient to perform a grid scan, and so other methods of parameter fitting are preferred (see Tutorial 3!)."
   ]
  }
 ],
 "metadata": {
  "kernelspec": {
   "display_name": "Python 3",
   "language": "python",
   "name": "python3"
  },
  "language_info": {
   "codemirror_mode": {
    "name": "ipython",
    "version": 3
   },
   "file_extension": ".py",
   "mimetype": "text/x-python",
   "name": "python",
   "nbconvert_exporter": "python",
   "pygments_lexer": "ipython3",
   "version": "3.7.1"
  }
 },
 "nbformat": 4,
 "nbformat_minor": 2
}
